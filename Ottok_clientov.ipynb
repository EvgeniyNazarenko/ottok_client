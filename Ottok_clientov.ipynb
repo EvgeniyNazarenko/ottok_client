{
 "cells": [
  {
   "cell_type": "markdown",
   "metadata": {
    "toc": true
   },
   "source": [
    "<h1>Содержание<span class=\"tocSkip\"></span></h1>\n",
    "<div class=\"toc\"><ul class=\"toc-item\"><li><span><a href=\"#Подготовка-данных\" data-toc-modified-id=\"Подготовка-данных-1\"><span class=\"toc-item-num\">1&nbsp;&nbsp;</span>Подготовка данных</a></span></li><li><span><a href=\"#Исследование-задачи\" data-toc-modified-id=\"Исследование-задачи-2\"><span class=\"toc-item-num\">2&nbsp;&nbsp;</span>Исследование задачи</a></span></li><li><span><a href=\"#Борьба-с-дисбалансом\" data-toc-modified-id=\"Борьба-с-дисбалансом-3\"><span class=\"toc-item-num\">3&nbsp;&nbsp;</span>Борьба с дисбалансом</a></span></li><li><span><a href=\"#Тестирование-модели\" data-toc-modified-id=\"Тестирование-модели-4\"><span class=\"toc-item-num\">4&nbsp;&nbsp;</span>Тестирование модели</a></span><ul class=\"toc-item\"><li><span><a href=\"#Проверим-нашу-модель-на-адекватность,-сравнив-меру-F1-c-полученной-нашей-моделью.\" data-toc-modified-id=\"Проверим-нашу-модель-на-адекватность,-сравнив-меру-F1-c-полученной-нашей-моделью.-4.1\"><span class=\"toc-item-num\">4.1&nbsp;&nbsp;</span>Проверим нашу модель на адекватность, сравнив меру F1 c полученной нашей моделью.</a></span></li></ul></li><li><span><a href=\"#Заключение\" data-toc-modified-id=\"Заключение-5\"><span class=\"toc-item-num\">5&nbsp;&nbsp;</span>Заключение</a></span></li><li><span><a href=\"#Чек-лист-готовности-проекта\" data-toc-modified-id=\"Чек-лист-готовности-проекта-6\"><span class=\"toc-item-num\">6&nbsp;&nbsp;</span>Чек-лист готовности проекта</a></span></li></ul></div>"
   ]
  },
  {
   "cell_type": "markdown",
   "metadata": {},
   "source": [
    "# Отток клиентов"
   ]
  },
  {
   "cell_type": "markdown",
   "metadata": {},
   "source": [
    "Из «Бета-Банка» стали уходить клиенты. Каждый месяц. Немного, но заметно. Банковские маркетологи посчитали: сохранять текущих клиентов дешевле, чем привлекать новых.\n",
    "\n",
    "Нужно спрогнозировать, уйдёт клиент из банка в ближайшее время или нет. Вам предоставлены исторические данные о поведении клиентов и расторжении договоров с банком. \n",
    "\n",
    "Постройте модель с предельно большим значением *F1*-меры. Чтобы сдать проект успешно, нужно довести метрику до 0.59. Проверьте *F1*-меру на тестовой выборке самостоятельно.\n",
    "\n",
    "Дополнительно измеряйте *AUC-ROC*, сравнивайте её значение с *F1*-мерой.\n",
    "\n",
    "Для анализа выгружены следущие признаки:\n",
    "\n",
    "RowNumber — индекс строки в данных\n",
    "\n",
    "CustomerId — уникальный идентификатор клиента\n",
    "\n",
    "Surname — фамилия\n",
    "\n",
    "CreditScore — кредитный рейтинг\n",
    "\n",
    "Geography — страна проживания\n",
    "Gender — пол\n",
    "\n",
    "Age — возраст\n",
    "\n",
    "Tenure — сколько лет человек является клиентом банка\n",
    "\n",
    "Balance — баланс на счёте\n",
    "\n",
    "NumOfProducts — количество продуктов банка, используемых клиентом\n",
    "\n",
    "HasCrCard — наличие кредитной карты\n",
    "\n",
    "IsActiveMember — активность клиента\n",
    "\n",
    "EstimatedSalary — предполагаемая зарплата\n",
    "\n",
    "И целевое признак:\n",
    "\n",
    "Exited — факт ухода клиента\n",
    "\n",
    "Источник данных: [https://www.kaggle.com/barelydedicated/bank-customer-churn-modeling](https://www.kaggle.com/barelydedicated/bank-customer-churn-modeling)"
   ]
  },
  {
   "cell_type": "markdown",
   "metadata": {},
   "source": [
    "## Подготовка данных"
   ]
  },
  {
   "cell_type": "code",
   "execution_count": 1,
   "metadata": {},
   "outputs": [
    {
     "data": {
      "text/html": [
       "<div>\n",
       "<style scoped>\n",
       "    .dataframe tbody tr th:only-of-type {\n",
       "        vertical-align: middle;\n",
       "    }\n",
       "\n",
       "    .dataframe tbody tr th {\n",
       "        vertical-align: top;\n",
       "    }\n",
       "\n",
       "    .dataframe thead th {\n",
       "        text-align: right;\n",
       "    }\n",
       "</style>\n",
       "<table border=\"1\" class=\"dataframe\">\n",
       "  <thead>\n",
       "    <tr style=\"text-align: right;\">\n",
       "      <th></th>\n",
       "      <th>RowNumber</th>\n",
       "      <th>CustomerId</th>\n",
       "      <th>Surname</th>\n",
       "      <th>CreditScore</th>\n",
       "      <th>Geography</th>\n",
       "      <th>Gender</th>\n",
       "      <th>Age</th>\n",
       "      <th>Tenure</th>\n",
       "      <th>Balance</th>\n",
       "      <th>NumOfProducts</th>\n",
       "      <th>HasCrCard</th>\n",
       "      <th>IsActiveMember</th>\n",
       "      <th>EstimatedSalary</th>\n",
       "      <th>Exited</th>\n",
       "    </tr>\n",
       "  </thead>\n",
       "  <tbody>\n",
       "    <tr>\n",
       "      <th>0</th>\n",
       "      <td>1</td>\n",
       "      <td>15634602</td>\n",
       "      <td>Hargrave</td>\n",
       "      <td>619</td>\n",
       "      <td>France</td>\n",
       "      <td>Female</td>\n",
       "      <td>42</td>\n",
       "      <td>2.0</td>\n",
       "      <td>0.00</td>\n",
       "      <td>1</td>\n",
       "      <td>1</td>\n",
       "      <td>1</td>\n",
       "      <td>101348.88</td>\n",
       "      <td>1</td>\n",
       "    </tr>\n",
       "    <tr>\n",
       "      <th>1</th>\n",
       "      <td>2</td>\n",
       "      <td>15647311</td>\n",
       "      <td>Hill</td>\n",
       "      <td>608</td>\n",
       "      <td>Spain</td>\n",
       "      <td>Female</td>\n",
       "      <td>41</td>\n",
       "      <td>1.0</td>\n",
       "      <td>83807.86</td>\n",
       "      <td>1</td>\n",
       "      <td>0</td>\n",
       "      <td>1</td>\n",
       "      <td>112542.58</td>\n",
       "      <td>0</td>\n",
       "    </tr>\n",
       "    <tr>\n",
       "      <th>2</th>\n",
       "      <td>3</td>\n",
       "      <td>15619304</td>\n",
       "      <td>Onio</td>\n",
       "      <td>502</td>\n",
       "      <td>France</td>\n",
       "      <td>Female</td>\n",
       "      <td>42</td>\n",
       "      <td>8.0</td>\n",
       "      <td>159660.80</td>\n",
       "      <td>3</td>\n",
       "      <td>1</td>\n",
       "      <td>0</td>\n",
       "      <td>113931.57</td>\n",
       "      <td>1</td>\n",
       "    </tr>\n",
       "    <tr>\n",
       "      <th>3</th>\n",
       "      <td>4</td>\n",
       "      <td>15701354</td>\n",
       "      <td>Boni</td>\n",
       "      <td>699</td>\n",
       "      <td>France</td>\n",
       "      <td>Female</td>\n",
       "      <td>39</td>\n",
       "      <td>1.0</td>\n",
       "      <td>0.00</td>\n",
       "      <td>2</td>\n",
       "      <td>0</td>\n",
       "      <td>0</td>\n",
       "      <td>93826.63</td>\n",
       "      <td>0</td>\n",
       "    </tr>\n",
       "    <tr>\n",
       "      <th>4</th>\n",
       "      <td>5</td>\n",
       "      <td>15737888</td>\n",
       "      <td>Mitchell</td>\n",
       "      <td>850</td>\n",
       "      <td>Spain</td>\n",
       "      <td>Female</td>\n",
       "      <td>43</td>\n",
       "      <td>2.0</td>\n",
       "      <td>125510.82</td>\n",
       "      <td>1</td>\n",
       "      <td>1</td>\n",
       "      <td>1</td>\n",
       "      <td>79084.10</td>\n",
       "      <td>0</td>\n",
       "    </tr>\n",
       "  </tbody>\n",
       "</table>\n",
       "</div>"
      ],
      "text/plain": [
       "   RowNumber  CustomerId   Surname  CreditScore Geography  Gender  Age  \\\n",
       "0          1    15634602  Hargrave          619    France  Female   42   \n",
       "1          2    15647311      Hill          608     Spain  Female   41   \n",
       "2          3    15619304      Onio          502    France  Female   42   \n",
       "3          4    15701354      Boni          699    France  Female   39   \n",
       "4          5    15737888  Mitchell          850     Spain  Female   43   \n",
       "\n",
       "   Tenure    Balance  NumOfProducts  HasCrCard  IsActiveMember  \\\n",
       "0     2.0       0.00              1          1               1   \n",
       "1     1.0   83807.86              1          0               1   \n",
       "2     8.0  159660.80              3          1               0   \n",
       "3     1.0       0.00              2          0               0   \n",
       "4     2.0  125510.82              1          1               1   \n",
       "\n",
       "   EstimatedSalary  Exited  \n",
       "0        101348.88       1  \n",
       "1        112542.58       0  \n",
       "2        113931.57       1  \n",
       "3         93826.63       0  \n",
       "4         79084.10       0  "
      ]
     },
     "execution_count": 1,
     "metadata": {},
     "output_type": "execute_result"
    }
   ],
   "source": [
    "#Загрузим необходимые библиотеки\n",
    "\n",
    "from sklearn.utils import shuffle\n",
    "from sklearn.preprocessing import StandardScaler\n",
    "from sklearn.linear_model import LogisticRegression\n",
    "from sklearn.metrics import accuracy_score\n",
    "from sklearn.metrics import f1_score\n",
    "from sklearn.metrics import roc_curve\n",
    "from sklearn.metrics import roc_auc_score\n",
    "import matplotlib.pyplot as plt\n",
    "from sklearn.metrics import confusion_matrix\n",
    "from sklearn.model_selection import train_test_split\n",
    "from sklearn.tree import DecisionTreeClassifier\n",
    "from sklearn.ensemble import RandomForestClassifier\n",
    "from sklearn.dummy import DummyClassifier\n",
    "#Загрузим данные\n",
    "import pandas as pd\n",
    "df = pd.read_csv('/datasets/Churn.csv')\n",
    "df.head()"
   ]
  },
  {
   "cell_type": "code",
   "execution_count": 2,
   "metadata": {},
   "outputs": [
    {
     "name": "stdout",
     "output_type": "stream",
     "text": [
      "<class 'pandas.core.frame.DataFrame'>\n",
      "RangeIndex: 10000 entries, 0 to 9999\n",
      "Data columns (total 14 columns):\n",
      " #   Column           Non-Null Count  Dtype  \n",
      "---  ------           --------------  -----  \n",
      " 0   RowNumber        10000 non-null  int64  \n",
      " 1   CustomerId       10000 non-null  int64  \n",
      " 2   Surname          10000 non-null  object \n",
      " 3   CreditScore      10000 non-null  int64  \n",
      " 4   Geography        10000 non-null  object \n",
      " 5   Gender           10000 non-null  object \n",
      " 6   Age              10000 non-null  int64  \n",
      " 7   Tenure           9091 non-null   float64\n",
      " 8   Balance          10000 non-null  float64\n",
      " 9   NumOfProducts    10000 non-null  int64  \n",
      " 10  HasCrCard        10000 non-null  int64  \n",
      " 11  IsActiveMember   10000 non-null  int64  \n",
      " 12  EstimatedSalary  10000 non-null  float64\n",
      " 13  Exited           10000 non-null  int64  \n",
      "dtypes: float64(3), int64(8), object(3)\n",
      "memory usage: 1.1+ MB\n"
     ]
    }
   ],
   "source": [
    "#Загрузим информацию о датасете\n",
    "df.info()"
   ]
  },
  {
   "cell_type": "code",
   "execution_count": 3,
   "metadata": {},
   "outputs": [
    {
     "data": {
      "text/html": [
       "<div>\n",
       "<style scoped>\n",
       "    .dataframe tbody tr th:only-of-type {\n",
       "        vertical-align: middle;\n",
       "    }\n",
       "\n",
       "    .dataframe tbody tr th {\n",
       "        vertical-align: top;\n",
       "    }\n",
       "\n",
       "    .dataframe thead th {\n",
       "        text-align: right;\n",
       "    }\n",
       "</style>\n",
       "<table border=\"1\" class=\"dataframe\">\n",
       "  <thead>\n",
       "    <tr style=\"text-align: right;\">\n",
       "      <th></th>\n",
       "      <th>RowNumber</th>\n",
       "      <th>CustomerId</th>\n",
       "      <th>CreditScore</th>\n",
       "      <th>Age</th>\n",
       "      <th>Tenure</th>\n",
       "      <th>Balance</th>\n",
       "      <th>NumOfProducts</th>\n",
       "      <th>HasCrCard</th>\n",
       "      <th>IsActiveMember</th>\n",
       "      <th>EstimatedSalary</th>\n",
       "      <th>Exited</th>\n",
       "    </tr>\n",
       "  </thead>\n",
       "  <tbody>\n",
       "    <tr>\n",
       "      <th>count</th>\n",
       "      <td>10000.00000</td>\n",
       "      <td>1.000000e+04</td>\n",
       "      <td>10000.000000</td>\n",
       "      <td>10000.000000</td>\n",
       "      <td>9091.000000</td>\n",
       "      <td>10000.000000</td>\n",
       "      <td>10000.000000</td>\n",
       "      <td>10000.00000</td>\n",
       "      <td>10000.000000</td>\n",
       "      <td>10000.000000</td>\n",
       "      <td>10000.000000</td>\n",
       "    </tr>\n",
       "    <tr>\n",
       "      <th>mean</th>\n",
       "      <td>5000.50000</td>\n",
       "      <td>1.569094e+07</td>\n",
       "      <td>650.528800</td>\n",
       "      <td>38.921800</td>\n",
       "      <td>4.997690</td>\n",
       "      <td>76485.889288</td>\n",
       "      <td>1.530200</td>\n",
       "      <td>0.70550</td>\n",
       "      <td>0.515100</td>\n",
       "      <td>100090.239881</td>\n",
       "      <td>0.203700</td>\n",
       "    </tr>\n",
       "    <tr>\n",
       "      <th>std</th>\n",
       "      <td>2886.89568</td>\n",
       "      <td>7.193619e+04</td>\n",
       "      <td>96.653299</td>\n",
       "      <td>10.487806</td>\n",
       "      <td>2.894723</td>\n",
       "      <td>62397.405202</td>\n",
       "      <td>0.581654</td>\n",
       "      <td>0.45584</td>\n",
       "      <td>0.499797</td>\n",
       "      <td>57510.492818</td>\n",
       "      <td>0.402769</td>\n",
       "    </tr>\n",
       "    <tr>\n",
       "      <th>min</th>\n",
       "      <td>1.00000</td>\n",
       "      <td>1.556570e+07</td>\n",
       "      <td>350.000000</td>\n",
       "      <td>18.000000</td>\n",
       "      <td>0.000000</td>\n",
       "      <td>0.000000</td>\n",
       "      <td>1.000000</td>\n",
       "      <td>0.00000</td>\n",
       "      <td>0.000000</td>\n",
       "      <td>11.580000</td>\n",
       "      <td>0.000000</td>\n",
       "    </tr>\n",
       "    <tr>\n",
       "      <th>25%</th>\n",
       "      <td>2500.75000</td>\n",
       "      <td>1.562853e+07</td>\n",
       "      <td>584.000000</td>\n",
       "      <td>32.000000</td>\n",
       "      <td>2.000000</td>\n",
       "      <td>0.000000</td>\n",
       "      <td>1.000000</td>\n",
       "      <td>0.00000</td>\n",
       "      <td>0.000000</td>\n",
       "      <td>51002.110000</td>\n",
       "      <td>0.000000</td>\n",
       "    </tr>\n",
       "    <tr>\n",
       "      <th>50%</th>\n",
       "      <td>5000.50000</td>\n",
       "      <td>1.569074e+07</td>\n",
       "      <td>652.000000</td>\n",
       "      <td>37.000000</td>\n",
       "      <td>5.000000</td>\n",
       "      <td>97198.540000</td>\n",
       "      <td>1.000000</td>\n",
       "      <td>1.00000</td>\n",
       "      <td>1.000000</td>\n",
       "      <td>100193.915000</td>\n",
       "      <td>0.000000</td>\n",
       "    </tr>\n",
       "    <tr>\n",
       "      <th>75%</th>\n",
       "      <td>7500.25000</td>\n",
       "      <td>1.575323e+07</td>\n",
       "      <td>718.000000</td>\n",
       "      <td>44.000000</td>\n",
       "      <td>7.000000</td>\n",
       "      <td>127644.240000</td>\n",
       "      <td>2.000000</td>\n",
       "      <td>1.00000</td>\n",
       "      <td>1.000000</td>\n",
       "      <td>149388.247500</td>\n",
       "      <td>0.000000</td>\n",
       "    </tr>\n",
       "    <tr>\n",
       "      <th>max</th>\n",
       "      <td>10000.00000</td>\n",
       "      <td>1.581569e+07</td>\n",
       "      <td>850.000000</td>\n",
       "      <td>92.000000</td>\n",
       "      <td>10.000000</td>\n",
       "      <td>250898.090000</td>\n",
       "      <td>4.000000</td>\n",
       "      <td>1.00000</td>\n",
       "      <td>1.000000</td>\n",
       "      <td>199992.480000</td>\n",
       "      <td>1.000000</td>\n",
       "    </tr>\n",
       "  </tbody>\n",
       "</table>\n",
       "</div>"
      ],
      "text/plain": [
       "         RowNumber    CustomerId   CreditScore           Age       Tenure  \\\n",
       "count  10000.00000  1.000000e+04  10000.000000  10000.000000  9091.000000   \n",
       "mean    5000.50000  1.569094e+07    650.528800     38.921800     4.997690   \n",
       "std     2886.89568  7.193619e+04     96.653299     10.487806     2.894723   \n",
       "min        1.00000  1.556570e+07    350.000000     18.000000     0.000000   \n",
       "25%     2500.75000  1.562853e+07    584.000000     32.000000     2.000000   \n",
       "50%     5000.50000  1.569074e+07    652.000000     37.000000     5.000000   \n",
       "75%     7500.25000  1.575323e+07    718.000000     44.000000     7.000000   \n",
       "max    10000.00000  1.581569e+07    850.000000     92.000000    10.000000   \n",
       "\n",
       "             Balance  NumOfProducts    HasCrCard  IsActiveMember  \\\n",
       "count   10000.000000   10000.000000  10000.00000    10000.000000   \n",
       "mean    76485.889288       1.530200      0.70550        0.515100   \n",
       "std     62397.405202       0.581654      0.45584        0.499797   \n",
       "min         0.000000       1.000000      0.00000        0.000000   \n",
       "25%         0.000000       1.000000      0.00000        0.000000   \n",
       "50%     97198.540000       1.000000      1.00000        1.000000   \n",
       "75%    127644.240000       2.000000      1.00000        1.000000   \n",
       "max    250898.090000       4.000000      1.00000        1.000000   \n",
       "\n",
       "       EstimatedSalary        Exited  \n",
       "count     10000.000000  10000.000000  \n",
       "mean     100090.239881      0.203700  \n",
       "std       57510.492818      0.402769  \n",
       "min          11.580000      0.000000  \n",
       "25%       51002.110000      0.000000  \n",
       "50%      100193.915000      0.000000  \n",
       "75%      149388.247500      0.000000  \n",
       "max      199992.480000      1.000000  "
      ]
     },
     "execution_count": 3,
     "metadata": {},
     "output_type": "execute_result"
    }
   ],
   "source": [
    "#Посмотрим описательную статистику.\n",
    "df.describe()"
   ]
  },
  {
   "cell_type": "code",
   "execution_count": 4,
   "metadata": {},
   "outputs": [
    {
     "data": {
      "text/plain": [
       "RowNumber            0\n",
       "CustomerId           0\n",
       "Surname              0\n",
       "CreditScore          0\n",
       "Geography            0\n",
       "Gender               0\n",
       "Age                  0\n",
       "Tenure             909\n",
       "Balance              0\n",
       "NumOfProducts        0\n",
       "HasCrCard            0\n",
       "IsActiveMember       0\n",
       "EstimatedSalary      0\n",
       "Exited               0\n",
       "dtype: int64"
      ]
     },
     "execution_count": 4,
     "metadata": {},
     "output_type": "execute_result"
    }
   ],
   "source": [
    "#Посмотрим сколько пропущено значений.\n",
    "df.isnull().sum()"
   ]
  },
  {
   "cell_type": "markdown",
   "metadata": {},
   "source": [
    "*** Разберемся с пропущенными значениями. В столбце Tenure(сколько лет человек является клиентом банка) пропущено 909 значений,что составляет 9,09 процентов от общего объма,что довольно существенно,чтобы просто выкинуть их.**"
   ]
  },
  {
   "cell_type": "code",
   "execution_count": 5,
   "metadata": {},
   "outputs": [
    {
     "data": {
      "text/html": [
       "<div>\n",
       "<style scoped>\n",
       "    .dataframe tbody tr th:only-of-type {\n",
       "        vertical-align: middle;\n",
       "    }\n",
       "\n",
       "    .dataframe tbody tr th {\n",
       "        vertical-align: top;\n",
       "    }\n",
       "\n",
       "    .dataframe thead th {\n",
       "        text-align: right;\n",
       "    }\n",
       "</style>\n",
       "<table border=\"1\" class=\"dataframe\">\n",
       "  <thead>\n",
       "    <tr style=\"text-align: right;\">\n",
       "      <th></th>\n",
       "      <th>RowNumber</th>\n",
       "      <th>CustomerId</th>\n",
       "      <th>CreditScore</th>\n",
       "      <th>Age</th>\n",
       "      <th>Tenure</th>\n",
       "      <th>Balance</th>\n",
       "      <th>NumOfProducts</th>\n",
       "      <th>HasCrCard</th>\n",
       "      <th>IsActiveMember</th>\n",
       "      <th>EstimatedSalary</th>\n",
       "      <th>Exited</th>\n",
       "    </tr>\n",
       "  </thead>\n",
       "  <tbody>\n",
       "    <tr>\n",
       "      <th>count</th>\n",
       "      <td>909.000000</td>\n",
       "      <td>9.090000e+02</td>\n",
       "      <td>909.000000</td>\n",
       "      <td>909.000000</td>\n",
       "      <td>0.0</td>\n",
       "      <td>909.000000</td>\n",
       "      <td>909.000000</td>\n",
       "      <td>909.000000</td>\n",
       "      <td>909.000000</td>\n",
       "      <td>909.000000</td>\n",
       "      <td>909.000000</td>\n",
       "    </tr>\n",
       "    <tr>\n",
       "      <th>mean</th>\n",
       "      <td>4866.386139</td>\n",
       "      <td>1.568981e+07</td>\n",
       "      <td>648.451045</td>\n",
       "      <td>38.647965</td>\n",
       "      <td>NaN</td>\n",
       "      <td>76117.341474</td>\n",
       "      <td>1.530253</td>\n",
       "      <td>0.710671</td>\n",
       "      <td>0.510451</td>\n",
       "      <td>99180.389373</td>\n",
       "      <td>0.201320</td>\n",
       "    </tr>\n",
       "    <tr>\n",
       "      <th>std</th>\n",
       "      <td>2909.604343</td>\n",
       "      <td>7.511225e+04</td>\n",
       "      <td>99.079381</td>\n",
       "      <td>9.785438</td>\n",
       "      <td>NaN</td>\n",
       "      <td>63105.690715</td>\n",
       "      <td>0.588452</td>\n",
       "      <td>0.453701</td>\n",
       "      <td>0.500166</td>\n",
       "      <td>56378.063765</td>\n",
       "      <td>0.401207</td>\n",
       "    </tr>\n",
       "    <tr>\n",
       "      <th>min</th>\n",
       "      <td>31.000000</td>\n",
       "      <td>1.556581e+07</td>\n",
       "      <td>359.000000</td>\n",
       "      <td>18.000000</td>\n",
       "      <td>NaN</td>\n",
       "      <td>0.000000</td>\n",
       "      <td>1.000000</td>\n",
       "      <td>0.000000</td>\n",
       "      <td>0.000000</td>\n",
       "      <td>106.670000</td>\n",
       "      <td>0.000000</td>\n",
       "    </tr>\n",
       "    <tr>\n",
       "      <th>25%</th>\n",
       "      <td>2311.000000</td>\n",
       "      <td>1.562658e+07</td>\n",
       "      <td>580.000000</td>\n",
       "      <td>32.000000</td>\n",
       "      <td>NaN</td>\n",
       "      <td>0.000000</td>\n",
       "      <td>1.000000</td>\n",
       "      <td>0.000000</td>\n",
       "      <td>0.000000</td>\n",
       "      <td>49872.330000</td>\n",
       "      <td>0.000000</td>\n",
       "    </tr>\n",
       "    <tr>\n",
       "      <th>50%</th>\n",
       "      <td>4887.000000</td>\n",
       "      <td>1.568687e+07</td>\n",
       "      <td>647.000000</td>\n",
       "      <td>37.000000</td>\n",
       "      <td>NaN</td>\n",
       "      <td>96674.550000</td>\n",
       "      <td>1.000000</td>\n",
       "      <td>1.000000</td>\n",
       "      <td>1.000000</td>\n",
       "      <td>99444.020000</td>\n",
       "      <td>0.000000</td>\n",
       "    </tr>\n",
       "    <tr>\n",
       "      <th>75%</th>\n",
       "      <td>7306.000000</td>\n",
       "      <td>1.575680e+07</td>\n",
       "      <td>718.000000</td>\n",
       "      <td>43.000000</td>\n",
       "      <td>NaN</td>\n",
       "      <td>128554.980000</td>\n",
       "      <td>2.000000</td>\n",
       "      <td>1.000000</td>\n",
       "      <td>1.000000</td>\n",
       "      <td>145759.700000</td>\n",
       "      <td>0.000000</td>\n",
       "    </tr>\n",
       "    <tr>\n",
       "      <th>max</th>\n",
       "      <td>10000.000000</td>\n",
       "      <td>1.581569e+07</td>\n",
       "      <td>850.000000</td>\n",
       "      <td>92.000000</td>\n",
       "      <td>NaN</td>\n",
       "      <td>206663.750000</td>\n",
       "      <td>4.000000</td>\n",
       "      <td>1.000000</td>\n",
       "      <td>1.000000</td>\n",
       "      <td>199390.450000</td>\n",
       "      <td>1.000000</td>\n",
       "    </tr>\n",
       "  </tbody>\n",
       "</table>\n",
       "</div>"
      ],
      "text/plain": [
       "          RowNumber    CustomerId  CreditScore         Age  Tenure  \\\n",
       "count    909.000000  9.090000e+02   909.000000  909.000000     0.0   \n",
       "mean    4866.386139  1.568981e+07   648.451045   38.647965     NaN   \n",
       "std     2909.604343  7.511225e+04    99.079381    9.785438     NaN   \n",
       "min       31.000000  1.556581e+07   359.000000   18.000000     NaN   \n",
       "25%     2311.000000  1.562658e+07   580.000000   32.000000     NaN   \n",
       "50%     4887.000000  1.568687e+07   647.000000   37.000000     NaN   \n",
       "75%     7306.000000  1.575680e+07   718.000000   43.000000     NaN   \n",
       "max    10000.000000  1.581569e+07   850.000000   92.000000     NaN   \n",
       "\n",
       "             Balance  NumOfProducts   HasCrCard  IsActiveMember  \\\n",
       "count     909.000000     909.000000  909.000000      909.000000   \n",
       "mean    76117.341474       1.530253    0.710671        0.510451   \n",
       "std     63105.690715       0.588452    0.453701        0.500166   \n",
       "min         0.000000       1.000000    0.000000        0.000000   \n",
       "25%         0.000000       1.000000    0.000000        0.000000   \n",
       "50%     96674.550000       1.000000    1.000000        1.000000   \n",
       "75%    128554.980000       2.000000    1.000000        1.000000   \n",
       "max    206663.750000       4.000000    1.000000        1.000000   \n",
       "\n",
       "       EstimatedSalary      Exited  \n",
       "count       909.000000  909.000000  \n",
       "mean      99180.389373    0.201320  \n",
       "std       56378.063765    0.401207  \n",
       "min         106.670000    0.000000  \n",
       "25%       49872.330000    0.000000  \n",
       "50%       99444.020000    0.000000  \n",
       "75%      145759.700000    0.000000  \n",
       "max      199390.450000    1.000000  "
      ]
     },
     "execution_count": 5,
     "metadata": {},
     "output_type": "execute_result"
    }
   ],
   "source": [
    "# Посмотрим описательную статистику с пропущенными данными.\n",
    "df[df['Tenure'].isnull()].describe()"
   ]
  },
  {
   "cell_type": "markdown",
   "metadata": {},
   "source": [
    "*** Я остановлюсь на варианте заполнения пропусков \"0\", т.к удаление такого количества довольно деструктивно.А логичной замены в этом случае нет.**"
   ]
  },
  {
   "cell_type": "code",
   "execution_count": 6,
   "metadata": {},
   "outputs": [
    {
     "name": "stdout",
     "output_type": "stream",
     "text": [
      "<class 'pandas.core.frame.DataFrame'>\n",
      "RangeIndex: 10000 entries, 0 to 9999\n",
      "Data columns (total 14 columns):\n",
      " #   Column           Non-Null Count  Dtype  \n",
      "---  ------           --------------  -----  \n",
      " 0   RowNumber        10000 non-null  int64  \n",
      " 1   CustomerId       10000 non-null  int64  \n",
      " 2   Surname          10000 non-null  object \n",
      " 3   CreditScore      10000 non-null  int64  \n",
      " 4   Geography        10000 non-null  object \n",
      " 5   Gender           10000 non-null  object \n",
      " 6   Age              10000 non-null  int64  \n",
      " 7   Tenure           10000 non-null  int64  \n",
      " 8   Balance          10000 non-null  float64\n",
      " 9   NumOfProducts    10000 non-null  int64  \n",
      " 10  HasCrCard        10000 non-null  int64  \n",
      " 11  IsActiveMember   10000 non-null  int64  \n",
      " 12  EstimatedSalary  10000 non-null  float64\n",
      " 13  Exited           10000 non-null  int64  \n",
      "dtypes: float64(2), int64(9), object(3)\n",
      "memory usage: 1.1+ MB\n"
     ]
    }
   ],
   "source": [
    "\n",
    "# Заполним пропуски и приведем к целочисленному виду.\n",
    "df['Tenure']=df['Tenure'].fillna(df['Tenure'].median()).astype('int')\n",
    "df.info()"
   ]
  },
  {
   "cell_type": "code",
   "execution_count": 7,
   "metadata": {},
   "outputs": [
    {
     "data": {
      "text/plain": [
       "0"
      ]
     },
     "execution_count": 7,
     "metadata": {},
     "output_type": "execute_result"
    }
   ],
   "source": [
    "#Пропущенных значений нет.Проверим на дубликаты.\n",
    "df.duplicated().sum()"
   ]
  },
  {
   "cell_type": "code",
   "execution_count": 8,
   "metadata": {},
   "outputs": [
    {
     "data": {
      "text/plain": [
       "0"
      ]
     },
     "execution_count": 8,
     "metadata": {},
     "output_type": "execute_result"
    }
   ],
   "source": [
    "#Явных нет, проверим на неявные(через ID)\n",
    "df['CustomerId'].duplicated().sum()"
   ]
  },
  {
   "cell_type": "markdown",
   "metadata": {},
   "source": [
    "*** Поскольку нам предстоит обучать модели, то необходимо удалить данные,которые не несут математической ценности для алгоритма,а просто являются идентификаторами ( Это столбец RowNumber,который дублирует порядковый индекс.Это столбец CustomerId ,который является уникальным номером и который существенно усложнит обучение, и Surname , который является фамилией клиента.)***"
   ]
  },
  {
   "cell_type": "code",
   "execution_count": 9,
   "metadata": {},
   "outputs": [],
   "source": [
    "#Удаляем лишние столбцы\n",
    "df=df.drop(df.columns[[0, 1, 2]], axis=1)"
   ]
  },
  {
   "cell_type": "markdown",
   "metadata": {},
   "source": [
    "**Теперь у нас остались только необходимые для обучения данные. Однако,среди них есть категориальные признаки,которые необходимо преобразовать в численные. Применим One-Hot Encoding.**"
   ]
  },
  {
   "cell_type": "code",
   "execution_count": 10,
   "metadata": {},
   "outputs": [
    {
     "data": {
      "text/html": [
       "<div>\n",
       "<style scoped>\n",
       "    .dataframe tbody tr th:only-of-type {\n",
       "        vertical-align: middle;\n",
       "    }\n",
       "\n",
       "    .dataframe tbody tr th {\n",
       "        vertical-align: top;\n",
       "    }\n",
       "\n",
       "    .dataframe thead th {\n",
       "        text-align: right;\n",
       "    }\n",
       "</style>\n",
       "<table border=\"1\" class=\"dataframe\">\n",
       "  <thead>\n",
       "    <tr style=\"text-align: right;\">\n",
       "      <th></th>\n",
       "      <th>CreditScore</th>\n",
       "      <th>Age</th>\n",
       "      <th>Tenure</th>\n",
       "      <th>Balance</th>\n",
       "      <th>NumOfProducts</th>\n",
       "      <th>HasCrCard</th>\n",
       "      <th>IsActiveMember</th>\n",
       "      <th>EstimatedSalary</th>\n",
       "      <th>Exited</th>\n",
       "      <th>Geography_Germany</th>\n",
       "      <th>Geography_Spain</th>\n",
       "      <th>Gender_Male</th>\n",
       "    </tr>\n",
       "  </thead>\n",
       "  <tbody>\n",
       "    <tr>\n",
       "      <th>0</th>\n",
       "      <td>619</td>\n",
       "      <td>42</td>\n",
       "      <td>2</td>\n",
       "      <td>0.00</td>\n",
       "      <td>1</td>\n",
       "      <td>1</td>\n",
       "      <td>1</td>\n",
       "      <td>101348.88</td>\n",
       "      <td>1</td>\n",
       "      <td>0</td>\n",
       "      <td>0</td>\n",
       "      <td>0</td>\n",
       "    </tr>\n",
       "    <tr>\n",
       "      <th>1</th>\n",
       "      <td>608</td>\n",
       "      <td>41</td>\n",
       "      <td>1</td>\n",
       "      <td>83807.86</td>\n",
       "      <td>1</td>\n",
       "      <td>0</td>\n",
       "      <td>1</td>\n",
       "      <td>112542.58</td>\n",
       "      <td>0</td>\n",
       "      <td>0</td>\n",
       "      <td>1</td>\n",
       "      <td>0</td>\n",
       "    </tr>\n",
       "    <tr>\n",
       "      <th>2</th>\n",
       "      <td>502</td>\n",
       "      <td>42</td>\n",
       "      <td>8</td>\n",
       "      <td>159660.80</td>\n",
       "      <td>3</td>\n",
       "      <td>1</td>\n",
       "      <td>0</td>\n",
       "      <td>113931.57</td>\n",
       "      <td>1</td>\n",
       "      <td>0</td>\n",
       "      <td>0</td>\n",
       "      <td>0</td>\n",
       "    </tr>\n",
       "    <tr>\n",
       "      <th>3</th>\n",
       "      <td>699</td>\n",
       "      <td>39</td>\n",
       "      <td>1</td>\n",
       "      <td>0.00</td>\n",
       "      <td>2</td>\n",
       "      <td>0</td>\n",
       "      <td>0</td>\n",
       "      <td>93826.63</td>\n",
       "      <td>0</td>\n",
       "      <td>0</td>\n",
       "      <td>0</td>\n",
       "      <td>0</td>\n",
       "    </tr>\n",
       "    <tr>\n",
       "      <th>4</th>\n",
       "      <td>850</td>\n",
       "      <td>43</td>\n",
       "      <td>2</td>\n",
       "      <td>125510.82</td>\n",
       "      <td>1</td>\n",
       "      <td>1</td>\n",
       "      <td>1</td>\n",
       "      <td>79084.10</td>\n",
       "      <td>0</td>\n",
       "      <td>0</td>\n",
       "      <td>1</td>\n",
       "      <td>0</td>\n",
       "    </tr>\n",
       "  </tbody>\n",
       "</table>\n",
       "</div>"
      ],
      "text/plain": [
       "   CreditScore  Age  Tenure    Balance  NumOfProducts  HasCrCard  \\\n",
       "0          619   42       2       0.00              1          1   \n",
       "1          608   41       1   83807.86              1          0   \n",
       "2          502   42       8  159660.80              3          1   \n",
       "3          699   39       1       0.00              2          0   \n",
       "4          850   43       2  125510.82              1          1   \n",
       "\n",
       "   IsActiveMember  EstimatedSalary  Exited  Geography_Germany  \\\n",
       "0               1        101348.88       1                  0   \n",
       "1               1        112542.58       0                  0   \n",
       "2               0        113931.57       1                  0   \n",
       "3               0         93826.63       0                  0   \n",
       "4               1         79084.10       0                  0   \n",
       "\n",
       "   Geography_Spain  Gender_Male  \n",
       "0                0            0  \n",
       "1                1            0  \n",
       "2                0            0  \n",
       "3                0            0  \n",
       "4                1            0  "
      ]
     },
     "execution_count": 10,
     "metadata": {},
     "output_type": "execute_result"
    }
   ],
   "source": [
    "# One-Hot Encoding необходимо добавить параметр Drop firt для избежания дамми-ловушкb.\n",
    "df_ohe=pd.get_dummies(df,drop_first=True)\n",
    "df_ohe.head()"
   ]
  },
  {
   "cell_type": "markdown",
   "metadata": {},
   "source": [
    "***Данные подготовлены,теперь разобьем данные на 3 выборки Разобьем данные по правилу 60-20-20 (60% для обучения, 20% для проверки, 20% для тестирования).***"
   ]
  },
  {
   "cell_type": "code",
   "execution_count": 11,
   "metadata": {},
   "outputs": [
    {
     "name": "stdout",
     "output_type": "stream",
     "text": [
      "Размер тренировочной выборки (6000, 11)\n",
      "Размер валидационной выборки (2000, 11)\n",
      "Размер тестовой выборки (2000, 11)\n"
     ]
    }
   ],
   "source": [
    "# Разобьем сначала на обучающее и проверочное \n",
    "df_train, df_test = train_test_split(df_ohe, test_size=0.4,random_state=12345)\n",
    "features_train = df_train.drop('Exited', axis=1)\n",
    "target_train = df_train['Exited']\n",
    "features = df_test.drop('Exited', axis=1)\n",
    "target = df_test['Exited']\n",
    "# Теперь проверочную выборку разобьем на валидационную и тестовую\n",
    "features_valid, features_test, target_valid, target_test = train_test_split(features, target, test_size=0.5, random_state=12345,stratify=target)\n",
    "print(\"Размер тренировочной выборки\", features_train.shape)\n",
    "print(\"Размер валидационной выборки\",features_valid.shape)\n",
    "print(\"Размер тестовой выборки\",features_test.shape)"
   ]
  },
  {
   "cell_type": "markdown",
   "metadata": {},
   "source": [
    "*** Данные разбиты на выборки, последний шаг это стандартизация данных,чтобы модель не сочла какой-либо из признаков более значимым***"
   ]
  },
  {
   "cell_type": "code",
   "execution_count": 12,
   "metadata": {},
   "outputs": [
    {
     "data": {
      "text/html": [
       "<div>\n",
       "<style scoped>\n",
       "    .dataframe tbody tr th:only-of-type {\n",
       "        vertical-align: middle;\n",
       "    }\n",
       "\n",
       "    .dataframe tbody tr th {\n",
       "        vertical-align: top;\n",
       "    }\n",
       "\n",
       "    .dataframe thead th {\n",
       "        text-align: right;\n",
       "    }\n",
       "</style>\n",
       "<table border=\"1\" class=\"dataframe\">\n",
       "  <thead>\n",
       "    <tr style=\"text-align: right;\">\n",
       "      <th></th>\n",
       "      <th>CreditScore</th>\n",
       "      <th>Age</th>\n",
       "      <th>Tenure</th>\n",
       "      <th>Balance</th>\n",
       "      <th>NumOfProducts</th>\n",
       "      <th>HasCrCard</th>\n",
       "      <th>IsActiveMember</th>\n",
       "      <th>EstimatedSalary</th>\n",
       "      <th>Geography_Germany</th>\n",
       "      <th>Geography_Spain</th>\n",
       "      <th>Gender_Male</th>\n",
       "    </tr>\n",
       "  </thead>\n",
       "  <tbody>\n",
       "    <tr>\n",
       "      <th>7479</th>\n",
       "      <td>-0.886751</td>\n",
       "      <td>-0.373192</td>\n",
       "      <td>1.082277</td>\n",
       "      <td>1.232271</td>\n",
       "      <td>-0.891560</td>\n",
       "      <td>1</td>\n",
       "      <td>0</td>\n",
       "      <td>-0.187705</td>\n",
       "      <td>0</td>\n",
       "      <td>1</td>\n",
       "      <td>1</td>\n",
       "    </tr>\n",
       "    <tr>\n",
       "      <th>3411</th>\n",
       "      <td>0.608663</td>\n",
       "      <td>-0.183385</td>\n",
       "      <td>1.082277</td>\n",
       "      <td>0.600563</td>\n",
       "      <td>-0.891560</td>\n",
       "      <td>0</td>\n",
       "      <td>0</td>\n",
       "      <td>-0.333945</td>\n",
       "      <td>0</td>\n",
       "      <td>0</td>\n",
       "      <td>0</td>\n",
       "    </tr>\n",
       "    <tr>\n",
       "      <th>6027</th>\n",
       "      <td>2.052152</td>\n",
       "      <td>0.480939</td>\n",
       "      <td>-0.737696</td>\n",
       "      <td>1.027098</td>\n",
       "      <td>0.830152</td>\n",
       "      <td>0</td>\n",
       "      <td>1</td>\n",
       "      <td>1.503095</td>\n",
       "      <td>1</td>\n",
       "      <td>0</td>\n",
       "      <td>1</td>\n",
       "    </tr>\n",
       "    <tr>\n",
       "      <th>1247</th>\n",
       "      <td>-1.457915</td>\n",
       "      <td>-1.417129</td>\n",
       "      <td>0.354288</td>\n",
       "      <td>-1.233163</td>\n",
       "      <td>0.830152</td>\n",
       "      <td>1</td>\n",
       "      <td>0</td>\n",
       "      <td>-1.071061</td>\n",
       "      <td>0</td>\n",
       "      <td>0</td>\n",
       "      <td>1</td>\n",
       "    </tr>\n",
       "    <tr>\n",
       "      <th>3716</th>\n",
       "      <td>0.130961</td>\n",
       "      <td>-1.132419</td>\n",
       "      <td>-1.101690</td>\n",
       "      <td>1.140475</td>\n",
       "      <td>-0.891560</td>\n",
       "      <td>0</td>\n",
       "      <td>0</td>\n",
       "      <td>1.524268</td>\n",
       "      <td>1</td>\n",
       "      <td>0</td>\n",
       "      <td>0</td>\n",
       "    </tr>\n",
       "  </tbody>\n",
       "</table>\n",
       "</div>"
      ],
      "text/plain": [
       "      CreditScore       Age    Tenure   Balance  NumOfProducts  HasCrCard  \\\n",
       "7479    -0.886751 -0.373192  1.082277  1.232271      -0.891560          1   \n",
       "3411     0.608663 -0.183385  1.082277  0.600563      -0.891560          0   \n",
       "6027     2.052152  0.480939 -0.737696  1.027098       0.830152          0   \n",
       "1247    -1.457915 -1.417129  0.354288 -1.233163       0.830152          1   \n",
       "3716     0.130961 -1.132419 -1.101690  1.140475      -0.891560          0   \n",
       "\n",
       "      IsActiveMember  EstimatedSalary  Geography_Germany  Geography_Spain  \\\n",
       "7479               0        -0.187705                  0                1   \n",
       "3411               0        -0.333945                  0                0   \n",
       "6027               1         1.503095                  1                0   \n",
       "1247               0        -1.071061                  0                0   \n",
       "3716               0         1.524268                  1                0   \n",
       "\n",
       "      Gender_Male  \n",
       "7479            1  \n",
       "3411            0  \n",
       "6027            1  \n",
       "1247            1  \n",
       "3716            0  "
      ]
     },
     "execution_count": 12,
     "metadata": {},
     "output_type": "execute_result"
    }
   ],
   "source": [
    "# Выделим столбцы с необходимыми признаками\n",
    "numeric = ['CreditScore', 'Age', 'Tenure', 'Balance','NumOfProducts','EstimatedSalary']\n",
    "# Проводим масштабирование по всем выборкам.\n",
    "scaler = StandardScaler()\n",
    "scaler.fit(features_train[numeric])\n",
    "pd.options.mode.chained_assignment = None\n",
    "features_train[numeric] = scaler.transform(features_train[numeric])\n",
    "features_train.head()"
   ]
  },
  {
   "cell_type": "code",
   "execution_count": 13,
   "metadata": {},
   "outputs": [
    {
     "data": {
      "text/html": [
       "<div>\n",
       "<style scoped>\n",
       "    .dataframe tbody tr th:only-of-type {\n",
       "        vertical-align: middle;\n",
       "    }\n",
       "\n",
       "    .dataframe tbody tr th {\n",
       "        vertical-align: top;\n",
       "    }\n",
       "\n",
       "    .dataframe thead th {\n",
       "        text-align: right;\n",
       "    }\n",
       "</style>\n",
       "<table border=\"1\" class=\"dataframe\">\n",
       "  <thead>\n",
       "    <tr style=\"text-align: right;\">\n",
       "      <th></th>\n",
       "      <th>CreditScore</th>\n",
       "      <th>Age</th>\n",
       "      <th>Tenure</th>\n",
       "      <th>Balance</th>\n",
       "      <th>NumOfProducts</th>\n",
       "      <th>HasCrCard</th>\n",
       "      <th>IsActiveMember</th>\n",
       "      <th>EstimatedSalary</th>\n",
       "      <th>Geography_Germany</th>\n",
       "      <th>Geography_Spain</th>\n",
       "      <th>Gender_Male</th>\n",
       "    </tr>\n",
       "  </thead>\n",
       "  <tbody>\n",
       "    <tr>\n",
       "      <th>2592</th>\n",
       "      <td>-1.530609</td>\n",
       "      <td>0.101325</td>\n",
       "      <td>-0.009707</td>\n",
       "      <td>-0.462487</td>\n",
       "      <td>0.830152</td>\n",
       "      <td>1</td>\n",
       "      <td>1</td>\n",
       "      <td>0.962332</td>\n",
       "      <td>1</td>\n",
       "      <td>0</td>\n",
       "      <td>1</td>\n",
       "    </tr>\n",
       "    <tr>\n",
       "      <th>4772</th>\n",
       "      <td>-1.717536</td>\n",
       "      <td>0.480939</td>\n",
       "      <td>0.354288</td>\n",
       "      <td>-0.239964</td>\n",
       "      <td>-0.891560</td>\n",
       "      <td>1</td>\n",
       "      <td>1</td>\n",
       "      <td>-0.803764</td>\n",
       "      <td>0</td>\n",
       "      <td>1</td>\n",
       "      <td>1</td>\n",
       "    </tr>\n",
       "    <tr>\n",
       "      <th>4661</th>\n",
       "      <td>1.325215</td>\n",
       "      <td>0.386035</td>\n",
       "      <td>-1.829679</td>\n",
       "      <td>-1.233163</td>\n",
       "      <td>-0.891560</td>\n",
       "      <td>0</td>\n",
       "      <td>1</td>\n",
       "      <td>-1.451198</td>\n",
       "      <td>0</td>\n",
       "      <td>0</td>\n",
       "      <td>0</td>\n",
       "    </tr>\n",
       "    <tr>\n",
       "      <th>7541</th>\n",
       "      <td>0.733280</td>\n",
       "      <td>-1.037515</td>\n",
       "      <td>-0.373701</td>\n",
       "      <td>-1.233163</td>\n",
       "      <td>0.830152</td>\n",
       "      <td>1</td>\n",
       "      <td>1</td>\n",
       "      <td>0.422391</td>\n",
       "      <td>0</td>\n",
       "      <td>0</td>\n",
       "      <td>1</td>\n",
       "    </tr>\n",
       "    <tr>\n",
       "      <th>9627</th>\n",
       "      <td>-0.118274</td>\n",
       "      <td>-0.752805</td>\n",
       "      <td>-0.737696</td>\n",
       "      <td>1.235143</td>\n",
       "      <td>-0.891560</td>\n",
       "      <td>1</td>\n",
       "      <td>0</td>\n",
       "      <td>-0.685301</td>\n",
       "      <td>0</td>\n",
       "      <td>1</td>\n",
       "      <td>1</td>\n",
       "    </tr>\n",
       "  </tbody>\n",
       "</table>\n",
       "</div>"
      ],
      "text/plain": [
       "      CreditScore       Age    Tenure   Balance  NumOfProducts  HasCrCard  \\\n",
       "2592    -1.530609  0.101325 -0.009707 -0.462487       0.830152          1   \n",
       "4772    -1.717536  0.480939  0.354288 -0.239964      -0.891560          1   \n",
       "4661     1.325215  0.386035 -1.829679 -1.233163      -0.891560          0   \n",
       "7541     0.733280 -1.037515 -0.373701 -1.233163       0.830152          1   \n",
       "9627    -0.118274 -0.752805 -0.737696  1.235143      -0.891560          1   \n",
       "\n",
       "      IsActiveMember  EstimatedSalary  Geography_Germany  Geography_Spain  \\\n",
       "2592               1         0.962332                  1                0   \n",
       "4772               1        -0.803764                  0                1   \n",
       "4661               1        -1.451198                  0                0   \n",
       "7541               1         0.422391                  0                0   \n",
       "9627               0        -0.685301                  0                1   \n",
       "\n",
       "      Gender_Male  \n",
       "2592            1  \n",
       "4772            1  \n",
       "4661            0  \n",
       "7541            1  \n",
       "9627            1  "
      ]
     },
     "execution_count": 13,
     "metadata": {},
     "output_type": "execute_result"
    }
   ],
   "source": [
    "pd.options.mode.chained_assignment = None\n",
    "features_valid[numeric] = scaler.transform(features_valid[numeric])\n",
    "features_valid.head()"
   ]
  },
  {
   "cell_type": "code",
   "execution_count": 14,
   "metadata": {},
   "outputs": [
    {
     "data": {
      "text/html": [
       "<div>\n",
       "<style scoped>\n",
       "    .dataframe tbody tr th:only-of-type {\n",
       "        vertical-align: middle;\n",
       "    }\n",
       "\n",
       "    .dataframe tbody tr th {\n",
       "        vertical-align: top;\n",
       "    }\n",
       "\n",
       "    .dataframe thead th {\n",
       "        text-align: right;\n",
       "    }\n",
       "</style>\n",
       "<table border=\"1\" class=\"dataframe\">\n",
       "  <thead>\n",
       "    <tr style=\"text-align: right;\">\n",
       "      <th></th>\n",
       "      <th>CreditScore</th>\n",
       "      <th>Age</th>\n",
       "      <th>Tenure</th>\n",
       "      <th>Balance</th>\n",
       "      <th>NumOfProducts</th>\n",
       "      <th>HasCrCard</th>\n",
       "      <th>IsActiveMember</th>\n",
       "      <th>EstimatedSalary</th>\n",
       "      <th>Geography_Germany</th>\n",
       "      <th>Geography_Spain</th>\n",
       "      <th>Gender_Male</th>\n",
       "    </tr>\n",
       "  </thead>\n",
       "  <tbody>\n",
       "    <tr>\n",
       "      <th>239</th>\n",
       "      <td>0.525584</td>\n",
       "      <td>-1.037515</td>\n",
       "      <td>-1.101690</td>\n",
       "      <td>0.073691</td>\n",
       "      <td>0.830152</td>\n",
       "      <td>0</td>\n",
       "      <td>1</td>\n",
       "      <td>1.096558</td>\n",
       "      <td>0</td>\n",
       "      <td>0</td>\n",
       "      <td>1</td>\n",
       "    </tr>\n",
       "    <tr>\n",
       "      <th>4256</th>\n",
       "      <td>-0.585591</td>\n",
       "      <td>3.517846</td>\n",
       "      <td>1.446272</td>\n",
       "      <td>0.927516</td>\n",
       "      <td>-0.891560</td>\n",
       "      <td>1</td>\n",
       "      <td>1</td>\n",
       "      <td>-1.490163</td>\n",
       "      <td>0</td>\n",
       "      <td>1</td>\n",
       "      <td>0</td>\n",
       "    </tr>\n",
       "    <tr>\n",
       "      <th>9055</th>\n",
       "      <td>-0.232507</td>\n",
       "      <td>1.524876</td>\n",
       "      <td>-1.101690</td>\n",
       "      <td>-1.233163</td>\n",
       "      <td>-0.891560</td>\n",
       "      <td>1</td>\n",
       "      <td>1</td>\n",
       "      <td>0.116123</td>\n",
       "      <td>0</td>\n",
       "      <td>0</td>\n",
       "      <td>1</td>\n",
       "    </tr>\n",
       "    <tr>\n",
       "      <th>6865</th>\n",
       "      <td>0.868283</td>\n",
       "      <td>-1.227322</td>\n",
       "      <td>-0.009707</td>\n",
       "      <td>0.128656</td>\n",
       "      <td>-0.891560</td>\n",
       "      <td>0</td>\n",
       "      <td>1</td>\n",
       "      <td>1.533442</td>\n",
       "      <td>1</td>\n",
       "      <td>0</td>\n",
       "      <td>0</td>\n",
       "    </tr>\n",
       "    <tr>\n",
       "      <th>1921</th>\n",
       "      <td>0.058267</td>\n",
       "      <td>-0.373192</td>\n",
       "      <td>-0.009707</td>\n",
       "      <td>0.801770</td>\n",
       "      <td>-0.891560</td>\n",
       "      <td>0</td>\n",
       "      <td>0</td>\n",
       "      <td>0.984840</td>\n",
       "      <td>0</td>\n",
       "      <td>0</td>\n",
       "      <td>0</td>\n",
       "    </tr>\n",
       "  </tbody>\n",
       "</table>\n",
       "</div>"
      ],
      "text/plain": [
       "      CreditScore       Age    Tenure   Balance  NumOfProducts  HasCrCard  \\\n",
       "239      0.525584 -1.037515 -1.101690  0.073691       0.830152          0   \n",
       "4256    -0.585591  3.517846  1.446272  0.927516      -0.891560          1   \n",
       "9055    -0.232507  1.524876 -1.101690 -1.233163      -0.891560          1   \n",
       "6865     0.868283 -1.227322 -0.009707  0.128656      -0.891560          0   \n",
       "1921     0.058267 -0.373192 -0.009707  0.801770      -0.891560          0   \n",
       "\n",
       "      IsActiveMember  EstimatedSalary  Geography_Germany  Geography_Spain  \\\n",
       "239                1         1.096558                  0                0   \n",
       "4256               1        -1.490163                  0                1   \n",
       "9055               1         0.116123                  0                0   \n",
       "6865               1         1.533442                  1                0   \n",
       "1921               0         0.984840                  0                0   \n",
       "\n",
       "      Gender_Male  \n",
       "239             1  \n",
       "4256            0  \n",
       "9055            1  \n",
       "6865            0  \n",
       "1921            0  "
      ]
     },
     "execution_count": 14,
     "metadata": {},
     "output_type": "execute_result"
    }
   ],
   "source": [
    "features_test[numeric] = scaler.transform(features_test[numeric])\n",
    "features_test.head()"
   ]
  },
  {
   "cell_type": "markdown",
   "metadata": {},
   "source": [
    "## Исследование задачи"
   ]
  },
  {
   "cell_type": "markdown",
   "metadata": {},
   "source": [
    "***Сначала обучим модели.Для каждой из моделей используем 2 метрики качества: Accurance(доля правильных ответов алгоритмов) и F1 ,которая является средней гармонической метрик precision(Точность.эту метрику можно интерпретировать как долю объектов,определенных моделью как положительные и являющимися такими) и recall (Полнота.Эта метрика показывает какую долю объектов положительного класса из всех положительных объектов нашла модель).***"
   ]
  },
  {
   "cell_type": "markdown",
   "metadata": {},
   "source": [
    "*** Первой будет модель логистической регрессии ***"
   ]
  },
  {
   "cell_type": "code",
   "execution_count": 15,
   "metadata": {},
   "outputs": [
    {
     "name": "stdout",
     "output_type": "stream",
     "text": [
      "Accurance модели LogisticRegression 0.7915\n",
      "-----------------------------------------------------------------------\n",
      "F1 модели LogisticRegression: 0.3061564059900166\n",
      "-----------------------------------------------------------------------\n",
      "Матрица путаницы\n",
      "[[1491   88]\n",
      " [ 329   92]]\n",
      "-----------------------------------------------------------------------\n",
      "AUC-ROC модели LogisticRegression 0.7547803038394365\n"
     ]
    },
    {
     "data": {
      "image/png": "[encoded data removed]",
      "text/plain": [
       "<Figure size 432x288 with 1 Axes>"
      ]
     },
     "metadata": {
      "needs_background": "light"
     },
     "output_type": "display_data"
    }
   ],
   "source": [
    "# Зададим модель\n",
    "model = LogisticRegression(solver='liblinear',max_iter=1000)\n",
    "# Обучим ее на тренировочной выборке\n",
    "model.fit(features_train, target_train)\n",
    "# Получим прогноз на валидационной выборке.\n",
    "predicted_valid = model.predict(features_valid) \n",
    "# Получим массив вероятности каждого целевого класса\n",
    "probabilities_valid = model.predict_proba(features_valid)\n",
    "probabilities_one_valid = probabilities_valid[:, 1]\n",
    "#Построим график ROC-кривой\n",
    "fpr, tpr, thresholds = roc_curve(target_valid,probabilities_one_valid)\n",
    "plt.figure()\n",
    "plt.plot([0, 1], [0, 1], linestyle='--')\n",
    "plt.plot(fpr, tpr)\n",
    "plt.xlim([0.0, 1.0])\n",
    "plt.ylim([0.0, 1.0])\n",
    "plt.xlabel('False Positive Rate')\n",
    "plt.ylabel('True Positive Rate')\n",
    "plt.title('ROC-кривая log')\n",
    "# Выведем на экран интересующие нас метрики.\n",
    "print('Accurance модели LogisticRegression',accuracy_score(target_valid,predicted_valid))\n",
    "print('-----------------------------------------------------------------------')\n",
    "print(\"F1 модели LogisticRegression:\",f1_score(target_valid,predicted_valid))\n",
    "print('-----------------------------------------------------------------------')\n",
    "print('Матрица путаницы')\n",
    "print(confusion_matrix(target_valid,predicted_valid))\n",
    "print('-----------------------------------------------------------------------')\n",
    "print(\"AUC-ROC модели LogisticRegression\",roc_auc_score(target_valid,probabilities_one_valid))\n"
   ]
  },
  {
   "cell_type": "markdown",
   "metadata": {},
   "source": [
    "***Далее обучим модель Desicion tree. Здесь мы напишем цикл перебора гиперпараметра для этой модели Max_depth, чтобы получить модель с наивысшей Accurance и рассчитаем для нее метрику F1.***"
   ]
  },
  {
   "cell_type": "code",
   "execution_count": 16,
   "metadata": {},
   "outputs": [
    {
     "name": "stdout",
     "output_type": "stream",
     "text": [
      "Глубина дерева: 6\n",
      "Accurance модели DecisionTreeClassifier: 0.829\n",
      "-----------------------------------------------------------------------\n",
      "F1 модели DecisionTreeClassifier 0.5670731707317074\n",
      "-----------------------------------------------------------------------\n",
      "Матрица путаницы\n",
      "[[1470  109]\n",
      " [ 233  188]]\n",
      "-----------------------------------------------------------------------\n",
      "AUC-ROC модели DecisionTreeClassifier 0.7676368428257458\n"
     ]
    },
    {
     "data": {
      "text/plain": [
       "Text(0.5, 1.0, 'ROC-кривая DecisionTreeClassifier')"
      ]
     },
     "execution_count": 16,
     "metadata": {},
     "output_type": "execute_result"
    },
    {
     "data": {
      "image/png": "[encoded data removed]",
      "text/plain": [
       "<Figure size 432x288 with 1 Axes>"
      ]
     },
     "metadata": {
      "needs_background": "light"
     },
     "output_type": "display_data"
    }
   ],
   "source": [
    "best_f1 = 0\n",
    "best_depth = 0\n",
    "for depth in range(1,10):\n",
    "    model = DecisionTreeClassifier(max_depth=depth,random_state=12345)\n",
    "    model.fit(features_train, target_train)\n",
    "    predicted_valid = model.predict(features_valid)\n",
    "    f1=f1_score(target_valid,predicted_valid)\n",
    "    probabilities_valid = model.predict_proba(features_valid)\n",
    "    probabilities_one_valid = probabilities_valid[:, 1]\n",
    "    if f1 > best_f1:\n",
    "        best_f1 = f1\n",
    "        best_depth = depth        \n",
    "print(\"Глубина дерева:\", best_depth)\n",
    "print(\"Accurance модели DecisionTreeClassifier:\",model.score(features_valid, target_valid))\n",
    "print('-----------------------------------------------------------------------')\n",
    "print(\"F1 модели DecisionTreeClassifier\",best_f1)\n",
    "print('-----------------------------------------------------------------------')\n",
    "print('Матрица путаницы')\n",
    "print(confusion_matrix(target_valid,predicted_valid))\n",
    "print('-----------------------------------------------------------------------')\n",
    "print(\"AUC-ROC модели DecisionTreeClassifier\",roc_auc_score(target_valid,probabilities_one_valid))\n",
    "\n",
    "#Построим график ROC-кривой\n",
    "fpr, tpr, thresholds = roc_curve(target_valid,probabilities_one_valid)\n",
    "plt.figure()\n",
    "plt.plot([0, 1], [0, 1], linestyle='--')\n",
    "plt.plot(fpr, tpr)\n",
    "plt.xlim([0.0, 1.0])\n",
    "plt.ylim([0.0, 1.0])\n",
    "plt.xlabel('False Positive Rate')\n",
    "plt.ylabel('True Positive Rate')\n",
    "plt.title('ROC-кривая DecisionTreeClassifier')"
   ]
  },
  {
   "cell_type": "markdown",
   "metadata": {},
   "source": [
    "***И,наконец, модель RandomForest с циклами для 2х гиперпараметров(max_depth и n_estimators)***"
   ]
  },
  {
   "cell_type": "code",
   "execution_count": 17,
   "metadata": {},
   "outputs": [
    {
     "name": "stdout",
     "output_type": "stream",
     "text": [
      "Глубина дерева: 15 Количество деревьев: 14\n",
      "-----------------------------------------------------------------------\n",
      "Accurance модели RandomForestClassifier: 0.847\n",
      "-----------------------------------------------------------------------\n",
      "F1 модели RandomForestClassifier 0.5748148148148148\n",
      "-----------------------------------------------------------------------\n",
      "Матрица путаницы\n",
      "[[1507   72]\n",
      " [ 234  187]]\n",
      "-----------------------------------------------------------------------\n",
      "AUC-ROC модели DecisionTreeClassifier 0.8366926961500334\n"
     ]
    },
    {
     "data": {
      "text/plain": [
       "Text(0.5, 1.0, 'ROC-кривая RandomForestClassifier')"
      ]
     },
     "execution_count": 17,
     "metadata": {},
     "output_type": "execute_result"
    },
    {
     "data": {
      "image/png": "[encoded data removed]",
      "text/plain": [
       "<Figure size 432x288 with 1 Axes>"
      ]
     },
     "metadata": {
      "needs_background": "light"
     },
     "output_type": "display_data"
    }
   ],
   "source": [
    "\n",
    "best_f1 = 0\n",
    "best_depth = 0\n",
    "for depth in range(1,25):\n",
    "    for est in range(1,25):\n",
    "        for sample_split in range (2,5):\n",
    "            model = RandomForestClassifier(max_depth=depth, n_estimators=est,random_state=12345)                              \n",
    "            model.fit(features_train, target_train)\n",
    "            predicted_valid = model.predict(features_valid)\n",
    "            f1=f1_score(target_valid,predicted_valid)\n",
    "            probabilities_valid = model.predict_proba(features_valid)\n",
    "            probabilities_one_valid = probabilities_valid[:, 1]\n",
    "            if f1 > best_f1:\n",
    "                best_f1 = f1\n",
    "                best_depth = depth\n",
    "                best_est = est               \n",
    "print(\"Глубина дерева:\", best_depth, \"Количество деревьев:\",best_est)\n",
    "print('-----------------------------------------------------------------------')\n",
    "print(\"Accurance модели RandomForestClassifier:\",model.score(features_valid, target_valid))\n",
    "print('-----------------------------------------------------------------------')\n",
    "print(\"F1 модели RandomForestClassifier\",best_f1)\n",
    "print('-----------------------------------------------------------------------')\n",
    "print('Матрица путаницы')\n",
    "print(confusion_matrix(target_valid,predicted_valid))\n",
    "print('-----------------------------------------------------------------------')\n",
    "print(\"AUC-ROC модели DecisionTreeClassifier\",roc_auc_score(target_valid,probabilities_one_valid))\n",
    "\n",
    "#Построим график ROC-кривой\n",
    "fpr, tpr, thresholds = roc_curve(target_valid,probabilities_one_valid)\n",
    "plt.figure()\n",
    "plt.plot([0, 1], [0, 1], linestyle='--')\n",
    "plt.plot(fpr, tpr)\n",
    "plt.xlim([0.0, 1.0])\n",
    "plt.ylim([0.0, 1.0])\n",
    "plt.xlabel('False Positive Rate')\n",
    "plt.ylabel('True Positive Rate')\n",
    "plt.title('ROC-кривая RandomForestClassifier')"
   ]
  },
  {
   "cell_type": "markdown",
   "metadata": {},
   "source": [
    "***Итак,обучив 3 модели и получив их метрики качества можно сделать вывод,что при высокой доле правильных ответов (минимальное значение у модели логистической регрессии = 80 %) метрика F1 невысока (максимальное значение у модели случайного леса = 0.56) ,а значит ,вероятнее всего мы имеем дело с дисбалансом в данных.***"
   ]
  },
  {
   "cell_type": "code",
   "execution_count": 18,
   "metadata": {},
   "outputs": [
    {
     "name": "stdout",
     "output_type": "stream",
     "text": [
      "Доля ушедших клиентов: 0.2037\n"
     ]
    }
   ],
   "source": [
    "#Посмотрим какую долю составляют ушедшие клиенттыю\n",
    "print('Доля ушедших клиентов:',df['Exited'].sum()/len(df['Exited']))"
   ]
  },
  {
   "cell_type": "markdown",
   "metadata": {},
   "source": [
    "***Таким образом наше предположение подтвердилось - у нас имеется дисбаланс примерно 1 к 4 в пользу отрицательных меток.***"
   ]
  },
  {
   "cell_type": "markdown",
   "metadata": {},
   "source": [
    "## Борьба с дисбалансом"
   ]
  },
  {
   "cell_type": "markdown",
   "metadata": {},
   "source": [
    "***Для устранения дисбаланса воспользуемся техникой  upsampling (от англ. up, «вверх»; sampling, «выборка»).\n",
    "Преобразование проходит в несколько этапов:***\n",
    "    \n",
    "-Разделить обучающую выборку на отрицательные и положительные объекты;\n",
    "\n",
    "-Скопировать несколько раз положительные объекты;\n",
    "\n",
    "-С учётом полученных данных создать новую обучающую выборку;\n",
    "\n",
    "-Перемешать данные: идущие друг за другом одинаковые вопросы не помогут обучению."
   ]
  },
  {
   "cell_type": "code",
   "execution_count": 19,
   "metadata": {},
   "outputs": [],
   "source": [
    "\n",
    "#Напишем функцию для увеличения данных по ушедшим клиентам\n",
    "def upsampling (features,target,repeat):\n",
    "    #Выделим целевые значения с признакми в тестовой выборке \n",
    "    target_one=target[target==1]\n",
    "    target_null=target[target==0]\n",
    "    features_one=features[target==1]\n",
    "    features_null=features[target==0]\n",
    "    # Объединим увеличенные признаки \n",
    "    upsampling_features=pd.concat([features_null]+[features_one]*repeat)\n",
    "    upsampling_target=pd.concat([target_null]+[target_one]*repeat)\n",
    "    # Применим функцию Shufll для перемешивания\n",
    "    upsampling_features,upsampling_target=shuffle(upsampling_features,upsampling_target,random_state=1234)\n",
    "    \n",
    "    return upsampling_features,upsampling_target"
   ]
  },
  {
   "cell_type": "code",
   "execution_count": 20,
   "metadata": {},
   "outputs": [
    {
     "name": "stdout",
     "output_type": "stream",
     "text": [
      "Доля ушедших клиентов: 0.49895702962035876\n",
      "Размер обучающей выборки (9588,)\n"
     ]
    }
   ],
   "source": [
    "# Применим функцию к тренировочной выборке с необходимой пропорцией\n",
    "features_ups,target_ups= upsampling(features_train,target_train,4)\n",
    "#Посмотрим какой стала доля  ушедших клиентов\n",
    "print('Доля ушедших клиентов:',target_ups.sum()/len(target_ups))\n",
    "print('Размер обучающей выборки',target_ups.shape)\n"
   ]
  },
  {
   "cell_type": "markdown",
   "metadata": {},
   "source": [
    "***Итак целевые признаки по методу upsampling сбалансированы. Применим второй метод обратный этому- downsample.Здесь мы будем не увеличивать количество ушедших, а уменьшим количество оставшихся до нужной пропорции.Шаги идентичны предыдущим***\n",
    "\n"
   ]
  },
  {
   "cell_type": "code",
   "execution_count": 21,
   "metadata": {},
   "outputs": [],
   "source": [
    "def downsample (features, target, fraction):\n",
    "    features_null = features[target == 0]\n",
    "    features_one = features[target == 1]\n",
    "    target_null = target[target == 0]\n",
    "    target_one = target[target == 1]\n",
    "\n",
    "    downsampled_features = pd.concat([features_null.sample(frac=fraction,random_state=12345)] + [features_one])\n",
    "    downsampled_target = pd.concat([target_null.sample(frac=fraction,random_state=12345)] + [target_one])\n",
    "    downsampled_features, downsampled_target = shuffle(downsampled_features, downsampled_target, random_state=12345)\n",
    "    return downsampled_features, downsampled_target"
   ]
  },
  {
   "cell_type": "code",
   "execution_count": 22,
   "metadata": {},
   "outputs": [
    {
     "name": "stdout",
     "output_type": "stream",
     "text": [
      "Доля ушедших клиентов: 0.49895702962035876\n",
      "Размер обучающей выборки (2397,)\n"
     ]
    }
   ],
   "source": [
    "features_dws,target_dws = downsample(features_train,target_train, 0.25)\n",
    "print('Доля ушедших клиентов:',target_dws.sum()/len(target_dws))\n",
    "print('Размер обучающей выборки',target_dws.shape)"
   ]
  },
  {
   "cell_type": "markdown",
   "metadata": {},
   "source": [
    "***Итак, мы получили 2 обучающие сбалансированные выборки. Проверим их на 3х предыдущих моделях(с поиском лучших гиперпараметров) и посмотрим как изменились метрики качества.***"
   ]
  },
  {
   "cell_type": "markdown",
   "metadata": {},
   "source": [
    " # 3.1.1 Логистическая регрессия на данных upsample."
   ]
  },
  {
   "cell_type": "code",
   "execution_count": 23,
   "metadata": {},
   "outputs": [
    {
     "name": "stdout",
     "output_type": "stream",
     "text": [
      "Accurance модели LogisticRegression 0.704\n",
      "-----------------------------------------------------------------------\n",
      "F1 модели LogisticRegression: 0.494017094017094\n",
      "-----------------------------------------------------------------------\n",
      "Матрица путаницы\n",
      "[[1119  460]\n",
      " [ 132  289]]\n",
      "-----------------------------------------------------------------------\n",
      "AUC-ROC модели LogisticRegression 0.7588178572986601\n"
     ]
    }
   ],
   "source": [
    "\n",
    "model = LogisticRegression(solver='liblinear',max_iter=1000)\n",
    "model.fit(features_ups,target_ups)\n",
    "predicted_valid = model.predict(features_valid) \n",
    "probabilities_valid = model.predict_proba(features_valid)\n",
    "probabilities_one_valid = probabilities_valid[:, 1]\n",
    "# Выведем на экран интересующие нас метрики.\n",
    "print('Accurance модели LogisticRegression',accuracy_score(target_valid,predicted_valid))\n",
    "print('-----------------------------------------------------------------------')\n",
    "print(\"F1 модели LogisticRegression:\",f1_score(target_valid,predicted_valid))\n",
    "print('-----------------------------------------------------------------------')\n",
    "print('Матрица путаницы')\n",
    "print(confusion_matrix(target_valid,predicted_valid))\n",
    "print('-----------------------------------------------------------------------')\n",
    "print(\"AUC-ROC модели LogisticRegression\",roc_auc_score(target_valid,probabilities_one_valid))"
   ]
  },
  {
   "cell_type": "markdown",
   "metadata": {},
   "source": [
    "# 3.1.2  Логистическая регрессия на данных downsample"
   ]
  },
  {
   "cell_type": "code",
   "execution_count": 24,
   "metadata": {},
   "outputs": [
    {
     "name": "stdout",
     "output_type": "stream",
     "text": [
      "Accurance модели LogisticRegression 0.7045\n",
      "-----------------------------------------------------------------------\n",
      "F1 модели LogisticRegression: 0.4961636828644501\n",
      "-----------------------------------------------------------------------\n",
      "Матрица путаницы\n",
      "[[1118  461]\n",
      " [ 130  291]]\n",
      "-----------------------------------------------------------------------\n",
      "AUC-ROC модели LogisticRegression 0.7562063845694454\n"
     ]
    }
   ],
   "source": [
    "\n",
    "model = LogisticRegression(solver='liblinear',max_iter=1000)\n",
    "model.fit(features_dws,target_dws)\n",
    "predicted_valid = model.predict(features_valid) \n",
    "probabilities_valid = model.predict_proba(features_valid)\n",
    "probabilities_one_valid = probabilities_valid[:, 1]\n",
    "\n",
    "# Выведем на экран интересующие нас метрики.\n",
    "print('Accurance модели LogisticRegression',accuracy_score(target_valid,predicted_valid))\n",
    "print('-----------------------------------------------------------------------')\n",
    "print(\"F1 модели LogisticRegression:\",f1_score(target_valid,predicted_valid))\n",
    "print('-----------------------------------------------------------------------')\n",
    "print('Матрица путаницы')\n",
    "print(confusion_matrix(target_valid,predicted_valid))\n",
    "print('-----------------------------------------------------------------------')\n",
    "print(\"AUC-ROC модели LogisticRegression\",roc_auc_score(target_valid,probabilities_one_valid))"
   ]
  },
  {
   "cell_type": "markdown",
   "metadata": {},
   "source": [
    "*** Итог обучения на новых тренировочных модели логистической регрессии:***\n",
    "\n",
    "-Значение Accurance уменьшилось. Было 0.80, стало 0.7 на обеих выборках\n",
    "\n",
    "-Значение F1 увеличилось. Было 0.32 , стало 0.49 на обеих выборках.\n",
    "\n",
    "-Значение AUC-ROC не изменилось.\n",
    "\n",
    "На данной модели заданного значения F1 получить не удалось."
   ]
  },
  {
   "cell_type": "markdown",
   "metadata": {},
   "source": [
    "# 3.2.1 Дерево решений на данных upsample."
   ]
  },
  {
   "cell_type": "code",
   "execution_count": 25,
   "metadata": {},
   "outputs": [
    {
     "name": "stdout",
     "output_type": "stream",
     "text": [
      "Глубина дерева: 5\n",
      "Accurance модели DecisionTreeClassifier: 0.7625\n",
      "-----------------------------------------------------------------------\n",
      "F1 модели DecisionTreeClassifier 0.59375\n",
      "-----------------------------------------------------------------------\n",
      "Матрица путаницы\n",
      "[[1248  331]\n",
      " [ 144  277]]\n",
      "-----------------------------------------------------------------------\n",
      "AUC-ROC модели DecisionTreeClassifier 0.7727386917664898\n"
     ]
    }
   ],
   "source": [
    "best_f1 = 0\n",
    "best_depth = 0\n",
    "for depth in range(1,10):\n",
    "    model = DecisionTreeClassifier(max_depth=depth,random_state=12345)\n",
    "    model.fit(features_ups,target_ups)\n",
    "    predicted_valid = model.predict(features_valid)\n",
    "    f1=f1_score(target_valid,predicted_valid)\n",
    "    probabilities_valid = model.predict_proba(features_valid)\n",
    "    probabilities_one_valid = probabilities_valid[:, 1]\n",
    "    if f1 > best_f1:\n",
    "        best_f1 = f1\n",
    "        best_depth = depth        \n",
    "print(\"Глубина дерева:\", best_depth)\n",
    "print(\"Accurance модели DecisionTreeClassifier:\",model.score(features_valid, target_valid))\n",
    "print('-----------------------------------------------------------------------')\n",
    "print(\"F1 модели DecisionTreeClassifier\",best_f1)\n",
    "print('-----------------------------------------------------------------------')\n",
    "print('Матрица путаницы')\n",
    "print(confusion_matrix(target_valid,predicted_valid))\n",
    "print('-----------------------------------------------------------------------')\n",
    "print(\"AUC-ROC модели DecisionTreeClassifier\",roc_auc_score(target_valid,probabilities_one_valid))"
   ]
  },
  {
   "cell_type": "markdown",
   "metadata": {},
   "source": [
    "# 3.2.2 Дерево решений на данных downsample."
   ]
  },
  {
   "cell_type": "code",
   "execution_count": 26,
   "metadata": {},
   "outputs": [
    {
     "name": "stdout",
     "output_type": "stream",
     "text": [
      "Глубина дерева: 5\n",
      "Accurance модели DecisionTreeClassifier: 0.736\n",
      "-----------------------------------------------------------------------\n",
      "F1 модели DecisionTreeClassifier 0.5802469135802469\n",
      "-----------------------------------------------------------------------\n",
      "Матрица путаницы\n",
      "[[1178  401]\n",
      " [ 127  294]]\n",
      "-----------------------------------------------------------------------\n",
      "AUC-ROC модели DecisionTreeClassifier 0.7539649707638406\n"
     ]
    }
   ],
   "source": [
    "best_f1 = 0\n",
    "best_depth = 0\n",
    "for depth in range(1,10):\n",
    "    model = DecisionTreeClassifier(max_depth=depth,random_state=12345)\n",
    "    model.fit(features_dws,target_dws)\n",
    "    predicted_valid = model.predict(features_valid)\n",
    "    f1=f1_score(target_valid,predicted_valid)\n",
    "    probabilities_valid = model.predict_proba(features_valid)\n",
    "    probabilities_one_valid = probabilities_valid[:, 1]\n",
    "    if f1 > best_f1:\n",
    "        best_f1 = f1\n",
    "        best_depth = depth        \n",
    "print(\"Глубина дерева:\", best_depth)\n",
    "print(\"Accurance модели DecisionTreeClassifier:\",model.score(features_valid, target_valid))\n",
    "print('-----------------------------------------------------------------------')\n",
    "print(\"F1 модели DecisionTreeClassifier\",best_f1)\n",
    "print('-----------------------------------------------------------------------')\n",
    "print('Матрица путаницы')\n",
    "print(confusion_matrix(target_valid,predicted_valid))\n",
    "print('-----------------------------------------------------------------------')\n",
    "print(\"AUC-ROC модели DecisionTreeClassifier\",roc_auc_score(target_valid,probabilities_one_valid))"
   ]
  },
  {
   "cell_type": "markdown",
   "metadata": {},
   "source": [
    "***Итог обучения на новых тренировочных модели дерева решений:***\n",
    "\n",
    "-Значение Accurance уменьшилось. Было 0.86, стало 0.77 на обеих выборках\n",
    "\n",
    "-Значение F1 увеличилось. Было 0.54 , стало 0.58 на обеих выборкe downsample и 0.61 на выборке upsample.\n",
    "\n",
    "-Значение AUC-ROC увеличилось.Было 0.77 , стало 0.78 на выборке upsample.\n"
   ]
  },
  {
   "cell_type": "markdown",
   "metadata": {},
   "source": [
    "# 3.3.1 Случайный лес на данных upsample."
   ]
  },
  {
   "cell_type": "code",
   "execution_count": 27,
   "metadata": {},
   "outputs": [
    {
     "name": "stdout",
     "output_type": "stream",
     "text": [
      "Глубина дерева: 9 Количество деревьев: 23\n",
      "-----------------------------------------------------------------------\n",
      "Accurance модели RandomForestClassifier: 0.849\n",
      "-----------------------------------------------------------------------\n",
      "F1 модели RandomForestClassifier 0.6252676659528908\n",
      "-----------------------------------------------------------------------\n",
      "Матрица путаницы\n",
      "[[1473  106]\n",
      " [ 196  225]]\n",
      "-----------------------------------------------------------------------\n",
      "AUC-ROC модели DecisionTreeClassifier 0.834202319938504\n"
     ]
    }
   ],
   "source": [
    "best_f1 = 0\n",
    "best_depth = 0\n",
    "for depth in range(1,25):\n",
    "    for est in range(1,25):\n",
    "        for sample_split in range (2,5):\n",
    "            model = RandomForestClassifier(max_depth=depth, n_estimators=est,random_state=12345)                              \n",
    "            model.fit(features_ups,target_ups)\n",
    "            predicted_valid = model.predict(features_valid)\n",
    "            f1=f1_score(target_valid,predicted_valid)\n",
    "            probabilities_valid = model.predict_proba(features_valid)\n",
    "            probabilities_one_valid = probabilities_valid[:, 1]\n",
    "            if f1 > best_f1:\n",
    "                best_f1 = f1\n",
    "                best_depth = depth\n",
    "                best_est = est               \n",
    "print(\"Глубина дерева:\", best_depth, \"Количество деревьев:\",best_est)\n",
    "print('-----------------------------------------------------------------------')\n",
    "print(\"Accurance модели RandomForestClassifier:\",model.score(features_valid, target_valid))\n",
    "print('-----------------------------------------------------------------------')\n",
    "print(\"F1 модели RandomForestClassifier\",best_f1)\n",
    "print('-----------------------------------------------------------------------')\n",
    "print('Матрица путаницы')\n",
    "print(confusion_matrix(target_valid,predicted_valid))\n",
    "print('-----------------------------------------------------------------------')\n",
    "print(\"AUC-ROC модели DecisionTreeClassifier\",roc_auc_score(target_valid,probabilities_one_valid))"
   ]
  },
  {
   "cell_type": "markdown",
   "metadata": {},
   "source": [
    "# 3.3.2 Случайный лес на данных dowsample."
   ]
  },
  {
   "cell_type": "code",
   "execution_count": 28,
   "metadata": {},
   "outputs": [
    {
     "name": "stdout",
     "output_type": "stream",
     "text": [
      "Глубина дерева: 6 Количество деревьев: 10\n",
      "-----------------------------------------------------------------------\n",
      "Accurance модели RandomForestClassifier: 0.772\n",
      "-----------------------------------------------------------------------\n",
      "F1 модели RandomForestClassifier 0.5998125585754451\n",
      "-----------------------------------------------------------------------\n",
      "Матрица путаницы\n",
      "[[1242  337]\n",
      " [ 119  302]]\n",
      "-----------------------------------------------------------------------\n",
      "AUC-ROC модели DecisionTreeClassifier 0.8357171546379967\n"
     ]
    }
   ],
   "source": [
    "best_f1 = 0\n",
    "best_depth = 0\n",
    "for depth in range(1,25):\n",
    "    for est in range(1,25):\n",
    "        for sample_split in range (2,5):\n",
    "            model = RandomForestClassifier(max_depth=depth, n_estimators=est,random_state=12345)                              \n",
    "            model.fit(features_dws,target_dws)\n",
    "            predicted_valid = model.predict(features_valid)\n",
    "            f1=f1_score(target_valid,predicted_valid)\n",
    "            probabilities_valid = model.predict_proba(features_valid)\n",
    "            probabilities_one_valid = probabilities_valid[:, 1]\n",
    "            if f1 > best_f1:\n",
    "                best_f1 = f1\n",
    "                best_depth = depth\n",
    "                best_est = est               \n",
    "print(\"Глубина дерева:\", best_depth, \"Количество деревьев:\",best_est)\n",
    "print('-----------------------------------------------------------------------')\n",
    "print(\"Accurance модели RandomForestClassifier:\",model.score(features_valid, target_valid))\n",
    "print('-----------------------------------------------------------------------')\n",
    "print(\"F1 модели RandomForestClassifier\",best_f1)\n",
    "print('-----------------------------------------------------------------------')\n",
    "print('Матрица путаницы')\n",
    "print(confusion_matrix(target_valid,predicted_valid))\n",
    "print('-----------------------------------------------------------------------')\n",
    "print(\"AUC-ROC модели DecisionTreeClassifier\",roc_auc_score(target_valid,probabilities_one_valid))"
   ]
  },
  {
   "cell_type": "markdown",
   "metadata": {},
   "source": [
    "***Итог обучения на новых тренировочных модели случайного леса:***\n",
    "\n",
    "-Значение Accurance уменьшилось. Было 0.86, стало 0.84 на увеличенной выборке.\n",
    "\n",
    "-***Значение F1 увеличилось. Было 0.56 , стало 0.59 на downsample и 0.62 на выборке upsample.***\n",
    "\n",
    "-Значение AUC-ROC не изменилось осталось 0.83.\n",
    "\n",
    "***Таким образом нашим чемпионом становится модель случайного леса\n",
    ",обученная на увеличенной сбалансированной выборке.Да, доля правильных ответов незначительно уменьшилась\n",
    "уменьшилась, но нам удалось увеличить сбалансированность через метрику F1 точность и полноту прогнозов,что в условиях задачи бинарной классификации с несбалансированными данными намного важнее и получить выше требуемого значения метрики F1 0.59\n",
    ". А также добиться высокого значения AUC-ROC ( 0.85 ),показывающее насколько \"неслучайно\" наша модель определяет класс.***"
   ]
  },
  {
   "cell_type": "markdown",
   "metadata": {},
   "source": []
  },
  {
   "cell_type": "markdown",
   "metadata": {},
   "source": [
    "## Тестирование модели"
   ]
  },
  {
   "cell_type": "markdown",
   "metadata": {},
   "source": [
    "*** Теперь проверим нашу лучшую модель на тестовой выборке.***\n",
    "\n",
    "Модель случайного леса с этими гиперпараметрами---глубина дерева: 9 количество деревьев: 23"
   ]
  },
  {
   "cell_type": "code",
   "execution_count": 29,
   "metadata": {},
   "outputs": [
    {
     "name": "stdout",
     "output_type": "stream",
     "text": [
      "Accurance модели RandomForestClassifier: 0.8185\n",
      "-----------------------------------------------------------------------\n",
      "F1 модели RandomForestClassifier 0.6182965299684542\n",
      "-----------------------------------------------------------------------\n",
      "Матрица путаницы\n",
      "[[1343  237]\n",
      " [ 126  294]]\n",
      "-----------------------------------------------------------------------\n",
      "AUC-ROC модели RandomForestClassifier 0.8560247136829415\n"
     ]
    },
    {
     "data": {
      "image/png": "[encoded data removed]",
      "text/plain": [
       "<Figure size 432x288 with 1 Axes>"
      ]
     },
     "metadata": {
      "needs_background": "light"
     },
     "output_type": "display_data"
    }
   ],
   "source": [
    "model = RandomForestClassifier(max_depth=9, n_estimators=23,random_state=12345)                              \n",
    "model.fit(features_ups,target_ups)\n",
    "predicted_test = model.predict(features_test)\n",
    "probabilities_test = model.predict_proba(features_test)\n",
    "probabilities_one_test = probabilities_test[:, 1]\n",
    "fpr, tpr, thresholds = roc_curve(target_valid,probabilities_one_valid)\n",
    "plt.figure()\n",
    "plt.plot([0, 1], [0, 1], linestyle='--')\n",
    "plt.plot(fpr, tpr)\n",
    "plt.xlim([0.0, 1.0])\n",
    "plt.ylim([0.0, 1.0])\n",
    "plt.xlabel('False Positive Rate')\n",
    "plt.ylabel('True Positive Rate')\n",
    "plt.title('ROC-кривая log')\n",
    "print(\"Accurance модели RandomForestClassifier:\",model.score(features_test, target_test))\n",
    "print('-----------------------------------------------------------------------')\n",
    "print(\"F1 модели RandomForestClassifier\",f1_score(target_test,predicted_test))\n",
    "print('-----------------------------------------------------------------------')\n",
    "print('Матрица путаницы')\n",
    "print(confusion_matrix(target_test,predicted_test))\n",
    "print('-----------------------------------------------------------------------')\n",
    "print(\"AUC-ROC модели RandomForestClassifier\",roc_auc_score(target_test,probabilities_one_test))"
   ]
  },
  {
   "cell_type": "markdown",
   "metadata": {},
   "source": [
    "### Проверим нашу модель на адекватность, сравнив меру F1 c полученной нашей моделью."
   ]
  },
  {
   "cell_type": "code",
   "execution_count": 31,
   "metadata": {},
   "outputs": [
    {
     "name": "stdout",
     "output_type": "stream",
     "text": [
      "F1 дамми-модели 0.34710743801652894\n"
     ]
    }
   ],
   "source": [
    "dummy_model = DummyClassifier(strategy='constant', constant=1)\n",
    "dummy_model.fit(features_train, target_train)\n",
    "print(\"F1 дамми-модели\",f1_score(dummy_model.predict(features_test), target_test))"
   ]
  },
  {
   "cell_type": "markdown",
   "metadata": {},
   "source": [
    "*** Как мы видим значение F1 нашей модели выше,а значит модель адекватна.***"
   ]
  },
  {
   "cell_type": "markdown",
   "metadata": {},
   "source": [
    "## Заключение"
   ]
  },
  {
   "cell_type": "markdown",
   "metadata": {},
   "source": [
    "***В рамках этой работы нам необходимо было построить модель,предсказывающую отток клиентов из банка на основании данных о поведении прошлых клиентов, с предельно высоким значением F1 не менее 0,59.***\n",
    "\n",
    "*** На этапе подготовки данных было: ***\n",
    "\n",
    "-заполнены отсутствующие значения в одном из столбцов.\n",
    "\n",
    "-проведена проверка на дубликаты полные и мнимые.\n",
    "\n",
    "-удалены столбцы, не несущие математической ценности для обучения.\n",
    "\n",
    "-категориальные данные преобразованы методом OHE.\n",
    "\n",
    "-все численные признаки были стандартизированы.\n",
    "\n",
    "-данные разбиты на тренировочную(60%),валидационную(20%),тестовую(20%) выборку.\n",
    "\n",
    "*** В ходе первичного обучения было использовано 3 модели (Логистческой регрессии,Дерева решений и Модель случайного леса с переборами гиперпараметров). Необходимого значения метрики достичь не удалось , а также был выявлен дисбаланс в данных.*** \n",
    "\n",
    "*** Дисбаланс был устранен путем увеличения положительных и уменьшением отрицательных меток пропорционально первичным данным.***\n",
    "\n",
    "*** С помощью новых обучающих выборок были вновь обучены модели с перебором гиперпараметров.***\n",
    "\n",
    "*** По итогам повторного обучения на валидационной выборке наилучший результат показала модель случайного леса с гиперпараметрами max_depth=9, n_estimators=23 .Обучение было на выборке с увеличенным классом положительных меток***\n",
    "\n",
    "*** На тестовой выборке эта модель показала следущие метрики.***\n",
    "\n",
    "- Доля правильных ответов 0.81\n",
    "\n",
    "- Ключевая метрика для задачи классификации F1 - 0.61 . Заданное значение достигнуто.\n",
    "\n",
    "- AUC-ROC (мера способности классификатора различать классы) - 0.85,что также очень высокий показатель, а график ROC-кривая помогает визуализировать, насколько хорошо работает классификатор машинного обучения.\n",
    "\n",
    "*** Рекомендовано использовать данную модель для прогнозирования потенциального оттока клиентов из банка.***"
   ]
  }
 ],
 "metadata": {
  "ExecuteTimeLog": [
   {
    "duration": 48,
    "start_time": "2023-05-01T16:10:13.329Z"
   },
   {
    "duration": 56,
    "start_time": "2023-05-01T16:10:30.507Z"
   },
   {
    "duration": 612,
    "start_time": "2023-05-01T16:10:43.569Z"
   },
   {
    "duration": 22,
    "start_time": "2023-05-01T16:12:33.185Z"
   },
   {
    "duration": 7,
    "start_time": "2023-05-01T16:29:50.145Z"
   },
   {
    "duration": 87,
    "start_time": "2023-05-01T16:37:13.357Z"
   },
   {
    "duration": 23,
    "start_time": "2023-05-01T16:38:25.516Z"
   },
   {
    "duration": 7,
    "start_time": "2023-05-01T16:38:42.148Z"
   },
   {
    "duration": 8,
    "start_time": "2023-05-01T16:38:53.736Z"
   },
   {
    "duration": 12,
    "start_time": "2023-05-01T16:39:08.813Z"
   },
   {
    "duration": 73,
    "start_time": "2023-05-01T16:40:39.588Z"
   },
   {
    "duration": 61,
    "start_time": "2023-05-01T16:40:51.309Z"
   },
   {
    "duration": 9,
    "start_time": "2023-05-01T16:41:01.126Z"
   },
   {
    "duration": 61,
    "start_time": "2023-05-01T16:41:09.235Z"
   },
   {
    "duration": 7,
    "start_time": "2023-05-01T16:41:19.636Z"
   },
   {
    "duration": 15,
    "start_time": "2023-05-01T16:41:32.279Z"
   },
   {
    "duration": 14,
    "start_time": "2023-05-01T16:41:55.599Z"
   },
   {
    "duration": 21,
    "start_time": "2023-05-01T16:43:44.905Z"
   },
   {
    "duration": 49,
    "start_time": "2023-05-01T16:44:09.355Z"
   },
   {
    "duration": 55,
    "start_time": "2023-05-01T16:49:07.478Z"
   },
   {
    "duration": 7,
    "start_time": "2023-05-01T17:13:48.124Z"
   },
   {
    "duration": 13,
    "start_time": "2023-05-01T17:14:13.612Z"
   },
   {
    "duration": 9,
    "start_time": "2023-05-01T17:14:21.569Z"
   },
   {
    "duration": 477,
    "start_time": "2023-05-01T17:14:40.874Z"
   },
   {
    "duration": 13,
    "start_time": "2023-05-01T17:14:41.353Z"
   },
   {
    "duration": 52,
    "start_time": "2023-05-01T17:14:41.368Z"
   },
   {
    "duration": 8,
    "start_time": "2023-05-01T17:14:41.422Z"
   },
   {
    "duration": 40,
    "start_time": "2023-05-01T17:14:41.431Z"
   },
   {
    "duration": 101,
    "start_time": "2023-05-01T17:14:41.472Z"
   },
   {
    "duration": 10,
    "start_time": "2023-05-01T17:14:57.467Z"
   },
   {
    "duration": 477,
    "start_time": "2023-05-01T17:17:30.518Z"
   },
   {
    "duration": 20,
    "start_time": "2023-05-01T17:17:30.997Z"
   },
   {
    "duration": 76,
    "start_time": "2023-05-01T17:17:31.020Z"
   },
   {
    "duration": 17,
    "start_time": "2023-05-01T17:17:31.098Z"
   },
   {
    "duration": 65,
    "start_time": "2023-05-01T17:17:31.117Z"
   },
   {
    "duration": 8,
    "start_time": "2023-05-01T17:19:30.665Z"
   },
   {
    "duration": 21,
    "start_time": "2023-05-01T17:19:53.677Z"
   },
   {
    "duration": 18,
    "start_time": "2023-05-01T17:20:54.152Z"
   },
   {
    "duration": 12,
    "start_time": "2023-05-01T17:21:32.224Z"
   },
   {
    "duration": 32,
    "start_time": "2023-05-01T17:22:31.393Z"
   },
   {
    "duration": 5,
    "start_time": "2023-05-01T17:24:05.936Z"
   },
   {
    "duration": 18,
    "start_time": "2023-05-01T17:41:38.451Z"
   },
   {
    "duration": 13,
    "start_time": "2023-05-01T17:54:07.182Z"
   },
   {
    "duration": 20,
    "start_time": "2023-05-01T17:54:30.436Z"
   },
   {
    "duration": 20,
    "start_time": "2023-05-01T17:55:12.921Z"
   },
   {
    "duration": 18,
    "start_time": "2023-05-01T17:57:47.718Z"
   },
   {
    "duration": 26,
    "start_time": "2023-05-01T17:58:45.370Z"
   },
   {
    "duration": 34,
    "start_time": "2023-05-01T17:59:21.882Z"
   },
   {
    "duration": 40,
    "start_time": "2023-05-01T18:09:41.381Z"
   },
   {
    "duration": 20,
    "start_time": "2023-05-01T18:09:56.572Z"
   },
   {
    "duration": 76,
    "start_time": "2023-05-01T18:12:26.543Z"
   },
   {
    "duration": 23,
    "start_time": "2023-05-01T18:12:32.815Z"
   },
   {
    "duration": 16,
    "start_time": "2023-05-01T18:27:24.331Z"
   },
   {
    "duration": 894,
    "start_time": "2023-05-01T19:40:10.377Z"
   },
   {
    "duration": 498,
    "start_time": "2023-05-01T19:40:19.189Z"
   },
   {
    "duration": 21,
    "start_time": "2023-05-01T19:40:19.690Z"
   },
   {
    "duration": 42,
    "start_time": "2023-05-01T19:40:19.713Z"
   },
   {
    "duration": 36,
    "start_time": "2023-05-01T19:40:19.757Z"
   },
   {
    "duration": 42,
    "start_time": "2023-05-01T19:40:19.795Z"
   },
   {
    "duration": 15,
    "start_time": "2023-05-01T19:40:19.840Z"
   },
   {
    "duration": 20,
    "start_time": "2023-05-01T19:40:19.885Z"
   },
   {
    "duration": 5,
    "start_time": "2023-05-01T19:40:19.907Z"
   },
   {
    "duration": 5,
    "start_time": "2023-05-01T19:40:19.914Z"
   },
   {
    "duration": 19,
    "start_time": "2023-05-01T19:40:19.921Z"
   },
   {
    "duration": 876,
    "start_time": "2023-05-01T19:40:19.942Z"
   },
   {
    "duration": 12,
    "start_time": "2023-05-01T19:40:58.973Z"
   },
   {
    "duration": 17,
    "start_time": "2023-05-01T20:27:30.796Z"
   },
   {
    "duration": 16,
    "start_time": "2023-05-01T20:27:51.298Z"
   },
   {
    "duration": 26,
    "start_time": "2023-05-01T20:29:56.000Z"
   },
   {
    "duration": 37,
    "start_time": "2023-05-01T20:32:52.607Z"
   },
   {
    "duration": 27,
    "start_time": "2023-05-01T20:33:25.906Z"
   },
   {
    "duration": 28,
    "start_time": "2023-05-01T20:34:02.135Z"
   },
   {
    "duration": 28,
    "start_time": "2023-05-01T20:34:26.916Z"
   },
   {
    "duration": 37,
    "start_time": "2023-05-01T20:34:44.690Z"
   },
   {
    "duration": 428,
    "start_time": "2023-05-01T20:34:59.018Z"
   },
   {
    "duration": 14,
    "start_time": "2023-05-01T20:34:59.449Z"
   },
   {
    "duration": 48,
    "start_time": "2023-05-01T20:34:59.465Z"
   },
   {
    "duration": 7,
    "start_time": "2023-05-01T20:34:59.515Z"
   },
   {
    "duration": 41,
    "start_time": "2023-05-01T20:34:59.524Z"
   },
   {
    "duration": 41,
    "start_time": "2023-05-01T20:34:59.566Z"
   },
   {
    "duration": 14,
    "start_time": "2023-05-01T20:34:59.609Z"
   },
   {
    "duration": 4,
    "start_time": "2023-05-01T20:34:59.625Z"
   },
   {
    "duration": 12,
    "start_time": "2023-05-01T20:34:59.630Z"
   },
   {
    "duration": 19,
    "start_time": "2023-05-01T20:34:59.644Z"
   },
   {
    "duration": 757,
    "start_time": "2023-05-01T20:34:59.689Z"
   },
   {
    "duration": 40,
    "start_time": "2023-05-01T20:35:00.448Z"
   },
   {
    "duration": 35,
    "start_time": "2023-05-01T20:39:26.696Z"
   },
   {
    "duration": 502,
    "start_time": "2023-05-01T20:39:35.796Z"
   },
   {
    "duration": 15,
    "start_time": "2023-05-01T20:39:36.301Z"
   },
   {
    "duration": 41,
    "start_time": "2023-05-01T20:39:36.317Z"
   },
   {
    "duration": 27,
    "start_time": "2023-05-01T20:39:36.360Z"
   },
   {
    "duration": 50,
    "start_time": "2023-05-01T20:39:36.390Z"
   },
   {
    "duration": 16,
    "start_time": "2023-05-01T20:39:36.442Z"
   },
   {
    "duration": 41,
    "start_time": "2023-05-01T20:39:36.460Z"
   },
   {
    "duration": 9,
    "start_time": "2023-05-01T20:39:36.503Z"
   },
   {
    "duration": 13,
    "start_time": "2023-05-01T20:39:36.515Z"
   },
   {
    "duration": 20,
    "start_time": "2023-05-01T20:39:36.530Z"
   },
   {
    "duration": 795,
    "start_time": "2023-05-01T20:39:36.552Z"
   },
   {
    "duration": 37,
    "start_time": "2023-05-01T20:39:37.350Z"
   },
   {
    "duration": 544,
    "start_time": "2023-05-01T20:39:56.188Z"
   },
   {
    "duration": 16,
    "start_time": "2023-05-01T20:39:56.734Z"
   },
   {
    "duration": 83,
    "start_time": "2023-05-01T20:39:56.753Z"
   },
   {
    "duration": 8,
    "start_time": "2023-05-01T20:39:56.838Z"
   },
   {
    "duration": 75,
    "start_time": "2023-05-01T20:39:56.848Z"
   },
   {
    "duration": 21,
    "start_time": "2023-05-01T20:39:56.925Z"
   },
   {
    "duration": 18,
    "start_time": "2023-05-01T20:39:56.948Z"
   },
   {
    "duration": 19,
    "start_time": "2023-05-01T20:39:56.968Z"
   },
   {
    "duration": 19,
    "start_time": "2023-05-01T20:39:56.989Z"
   },
   {
    "duration": 22,
    "start_time": "2023-05-01T20:39:57.015Z"
   },
   {
    "duration": 841,
    "start_time": "2023-05-01T20:39:57.039Z"
   },
   {
    "duration": 51,
    "start_time": "2023-05-01T20:39:57.882Z"
   },
   {
    "duration": 473,
    "start_time": "2023-05-01T20:44:29.303Z"
   },
   {
    "duration": 13,
    "start_time": "2023-05-01T20:44:29.777Z"
   },
   {
    "duration": 40,
    "start_time": "2023-05-01T20:44:29.791Z"
   },
   {
    "duration": 8,
    "start_time": "2023-05-01T20:44:29.833Z"
   },
   {
    "duration": 50,
    "start_time": "2023-05-01T20:44:29.843Z"
   },
   {
    "duration": 13,
    "start_time": "2023-05-01T20:44:29.894Z"
   },
   {
    "duration": 11,
    "start_time": "2023-05-01T20:44:29.909Z"
   },
   {
    "duration": 5,
    "start_time": "2023-05-01T20:44:29.922Z"
   },
   {
    "duration": 6,
    "start_time": "2023-05-01T20:44:29.928Z"
   },
   {
    "duration": 18,
    "start_time": "2023-05-01T20:44:29.936Z"
   },
   {
    "duration": 730,
    "start_time": "2023-05-01T20:44:29.956Z"
   },
   {
    "duration": 34,
    "start_time": "2023-05-01T20:44:30.688Z"
   },
   {
    "duration": 469,
    "start_time": "2023-05-01T20:47:48.195Z"
   },
   {
    "duration": 13,
    "start_time": "2023-05-01T20:47:48.665Z"
   },
   {
    "duration": 57,
    "start_time": "2023-05-01T20:47:48.680Z"
   },
   {
    "duration": 8,
    "start_time": "2023-05-01T20:47:48.739Z"
   },
   {
    "duration": 55,
    "start_time": "2023-05-01T20:47:48.748Z"
   },
   {
    "duration": 13,
    "start_time": "2023-05-01T20:47:48.805Z"
   },
   {
    "duration": 12,
    "start_time": "2023-05-01T20:47:48.820Z"
   },
   {
    "duration": 4,
    "start_time": "2023-05-01T20:47:48.834Z"
   },
   {
    "duration": 6,
    "start_time": "2023-05-01T20:47:48.839Z"
   },
   {
    "duration": 56,
    "start_time": "2023-05-01T20:47:48.848Z"
   },
   {
    "duration": 673,
    "start_time": "2023-05-01T20:47:48.906Z"
   },
   {
    "duration": 33,
    "start_time": "2023-05-01T20:47:49.581Z"
   },
   {
    "duration": 26,
    "start_time": "2023-05-01T20:48:17.963Z"
   },
   {
    "duration": 24,
    "start_time": "2023-05-01T20:48:36.414Z"
   },
   {
    "duration": 32,
    "start_time": "2023-05-01T20:49:27.097Z"
   },
   {
    "duration": 28,
    "start_time": "2023-05-01T20:50:07.012Z"
   },
   {
    "duration": 29,
    "start_time": "2023-05-01T20:50:43.460Z"
   },
   {
    "duration": 26,
    "start_time": "2023-05-01T20:51:25.923Z"
   },
   {
    "duration": 623,
    "start_time": "2023-05-02T05:28:08.334Z"
   },
   {
    "duration": 14,
    "start_time": "2023-05-02T05:28:08.961Z"
   },
   {
    "duration": 53,
    "start_time": "2023-05-02T05:28:08.977Z"
   },
   {
    "duration": 10,
    "start_time": "2023-05-02T05:28:09.033Z"
   },
   {
    "duration": 61,
    "start_time": "2023-05-02T05:28:09.046Z"
   },
   {
    "duration": 21,
    "start_time": "2023-05-02T05:28:09.109Z"
   },
   {
    "duration": 17,
    "start_time": "2023-05-02T05:28:09.132Z"
   },
   {
    "duration": 6,
    "start_time": "2023-05-02T05:28:09.156Z"
   },
   {
    "duration": 23,
    "start_time": "2023-05-02T05:28:09.164Z"
   },
   {
    "duration": 37,
    "start_time": "2023-05-02T05:28:09.189Z"
   },
   {
    "duration": 776,
    "start_time": "2023-05-02T05:28:09.227Z"
   },
   {
    "duration": 33,
    "start_time": "2023-05-02T05:28:10.004Z"
   },
   {
    "duration": 17,
    "start_time": "2023-05-02T05:28:10.038Z"
   },
   {
    "duration": 45,
    "start_time": "2023-05-02T05:41:30.721Z"
   },
   {
    "duration": 22,
    "start_time": "2023-05-02T05:53:30.859Z"
   },
   {
    "duration": 20,
    "start_time": "2023-05-02T05:55:39.446Z"
   },
   {
    "duration": 4,
    "start_time": "2023-05-02T06:04:48.923Z"
   },
   {
    "duration": 3,
    "start_time": "2023-05-02T06:05:06.626Z"
   },
   {
    "duration": 377,
    "start_time": "2023-05-02T06:05:34.218Z"
   },
   {
    "duration": 62,
    "start_time": "2023-05-02T06:09:20.542Z"
   },
   {
    "duration": 544,
    "start_time": "2023-05-02T06:21:29.386Z"
   },
   {
    "duration": 22,
    "start_time": "2023-05-02T06:21:29.933Z"
   },
   {
    "duration": 63,
    "start_time": "2023-05-02T06:21:29.958Z"
   },
   {
    "duration": 8,
    "start_time": "2023-05-02T06:21:30.023Z"
   },
   {
    "duration": 53,
    "start_time": "2023-05-02T06:21:30.035Z"
   },
   {
    "duration": 19,
    "start_time": "2023-05-02T06:21:30.090Z"
   },
   {
    "duration": 37,
    "start_time": "2023-05-02T06:21:30.111Z"
   },
   {
    "duration": 29,
    "start_time": "2023-05-02T06:21:30.150Z"
   },
   {
    "duration": 32,
    "start_time": "2023-05-02T06:21:30.181Z"
   },
   {
    "duration": 56,
    "start_time": "2023-05-02T06:21:30.215Z"
   },
   {
    "duration": 778,
    "start_time": "2023-05-02T06:21:30.273Z"
   },
   {
    "duration": 50,
    "start_time": "2023-05-02T06:21:31.053Z"
   },
   {
    "duration": 20,
    "start_time": "2023-05-02T06:21:31.104Z"
   },
   {
    "duration": 95,
    "start_time": "2023-05-02T06:21:31.127Z"
   },
   {
    "duration": 501,
    "start_time": "2023-05-02T06:21:31.223Z"
   },
   {
    "duration": 488,
    "start_time": "2023-05-02T06:23:33.468Z"
   },
   {
    "duration": 16,
    "start_time": "2023-05-02T06:23:33.958Z"
   },
   {
    "duration": 78,
    "start_time": "2023-05-02T06:23:33.976Z"
   },
   {
    "duration": 10,
    "start_time": "2023-05-02T06:23:34.057Z"
   },
   {
    "duration": 60,
    "start_time": "2023-05-02T06:23:34.069Z"
   },
   {
    "duration": 17,
    "start_time": "2023-05-02T06:23:34.131Z"
   },
   {
    "duration": 14,
    "start_time": "2023-05-02T06:23:34.151Z"
   },
   {
    "duration": 35,
    "start_time": "2023-05-02T06:23:34.167Z"
   },
   {
    "duration": 6,
    "start_time": "2023-05-02T06:23:34.209Z"
   },
   {
    "duration": 40,
    "start_time": "2023-05-02T06:23:34.218Z"
   },
   {
    "duration": 744,
    "start_time": "2023-05-02T06:23:34.260Z"
   },
   {
    "duration": 31,
    "start_time": "2023-05-02T06:23:35.009Z"
   },
   {
    "duration": 21,
    "start_time": "2023-05-02T06:23:35.042Z"
   },
   {
    "duration": 77,
    "start_time": "2023-05-02T06:23:35.065Z"
   },
   {
    "duration": 476,
    "start_time": "2023-05-02T06:23:35.144Z"
   },
   {
    "duration": 156092,
    "start_time": "2023-05-02T06:23:35.623Z"
   },
   {
    "duration": 155574,
    "start_time": "2023-05-02T06:29:18.757Z"
   },
   {
    "duration": 12,
    "start_time": "2023-05-02T06:57:30.889Z"
   },
   {
    "duration": 538,
    "start_time": "2023-05-02T06:57:51.931Z"
   },
   {
    "duration": 30,
    "start_time": "2023-05-02T06:57:52.473Z"
   },
   {
    "duration": 65,
    "start_time": "2023-05-02T06:57:52.509Z"
   },
   {
    "duration": 12,
    "start_time": "2023-05-02T06:57:52.577Z"
   },
   {
    "duration": 78,
    "start_time": "2023-05-02T06:57:52.591Z"
   },
   {
    "duration": 21,
    "start_time": "2023-05-02T06:57:52.671Z"
   },
   {
    "duration": 21,
    "start_time": "2023-05-02T06:57:52.694Z"
   },
   {
    "duration": 6,
    "start_time": "2023-05-02T06:57:52.717Z"
   },
   {
    "duration": 5,
    "start_time": "2023-05-02T06:57:52.725Z"
   },
   {
    "duration": 51,
    "start_time": "2023-05-02T06:57:52.734Z"
   },
   {
    "duration": 942,
    "start_time": "2023-05-02T06:57:52.788Z"
   },
   {
    "duration": 30,
    "start_time": "2023-05-02T06:57:53.732Z"
   },
   {
    "duration": 36,
    "start_time": "2023-05-02T06:57:53.764Z"
   },
   {
    "duration": 185,
    "start_time": "2023-05-02T06:57:53.802Z"
   },
   {
    "duration": 511,
    "start_time": "2023-05-02T06:57:53.990Z"
   },
   {
    "duration": 177912,
    "start_time": "2023-05-02T06:57:54.504Z"
   },
   {
    "duration": 12,
    "start_time": "2023-05-02T07:00:52.432Z"
   },
   {
    "duration": 189,
    "start_time": "2023-05-02T07:05:27.120Z"
   },
   {
    "duration": 9,
    "start_time": "2023-05-02T07:05:55.617Z"
   },
   {
    "duration": 132,
    "start_time": "2023-05-02T07:18:54.084Z"
   },
   {
    "duration": 80,
    "start_time": "2023-05-02T07:19:27.408Z"
   },
   {
    "duration": 640,
    "start_time": "2023-05-02T09:23:43.720Z"
   },
   {
    "duration": 18,
    "start_time": "2023-05-02T09:23:44.363Z"
   },
   {
    "duration": 50,
    "start_time": "2023-05-02T09:23:44.383Z"
   },
   {
    "duration": 10,
    "start_time": "2023-05-02T09:23:44.436Z"
   },
   {
    "duration": 47,
    "start_time": "2023-05-02T09:23:44.448Z"
   },
   {
    "duration": 21,
    "start_time": "2023-05-02T09:23:44.497Z"
   },
   {
    "duration": 25,
    "start_time": "2023-05-02T09:23:44.520Z"
   },
   {
    "duration": 31,
    "start_time": "2023-05-02T09:23:44.548Z"
   },
   {
    "duration": 22,
    "start_time": "2023-05-02T09:23:44.581Z"
   },
   {
    "duration": 68,
    "start_time": "2023-05-02T09:23:44.606Z"
   },
   {
    "duration": 965,
    "start_time": "2023-05-02T09:23:44.676Z"
   },
   {
    "duration": 27,
    "start_time": "2023-05-02T09:23:45.645Z"
   },
   {
    "duration": 17,
    "start_time": "2023-05-02T09:23:45.674Z"
   },
   {
    "duration": 330,
    "start_time": "2023-05-02T09:23:45.693Z"
   },
   {
    "duration": 0,
    "start_time": "2023-05-02T09:23:46.024Z"
   },
   {
    "duration": 0,
    "start_time": "2023-05-02T09:23:46.026Z"
   },
   {
    "duration": 0,
    "start_time": "2023-05-02T09:23:46.027Z"
   },
   {
    "duration": 68,
    "start_time": "2023-05-02T09:24:17.270Z"
   },
   {
    "duration": 104,
    "start_time": "2023-05-02T09:24:46.336Z"
   },
   {
    "duration": 30,
    "start_time": "2023-05-02T09:31:10.526Z"
   },
   {
    "duration": 95,
    "start_time": "2023-05-02T09:33:41.624Z"
   },
   {
    "duration": 41,
    "start_time": "2023-05-02T09:34:13.104Z"
   },
   {
    "duration": 365,
    "start_time": "2023-05-02T09:49:42.095Z"
   },
   {
    "duration": 430,
    "start_time": "2023-05-02T09:55:30.784Z"
   },
   {
    "duration": 186,
    "start_time": "2023-05-02T10:00:32.298Z"
   },
   {
    "duration": 115,
    "start_time": "2023-05-02T10:00:40.895Z"
   },
   {
    "duration": 389,
    "start_time": "2023-05-02T10:00:45.791Z"
   },
   {
    "duration": 383,
    "start_time": "2023-05-02T10:00:58.240Z"
   },
   {
    "duration": 37,
    "start_time": "2023-05-02T10:01:29.058Z"
   },
   {
    "duration": 52,
    "start_time": "2023-05-02T10:01:52.896Z"
   },
   {
    "duration": 398,
    "start_time": "2023-05-02T10:03:11.750Z"
   },
   {
    "duration": 511,
    "start_time": "2023-05-02T10:10:07.097Z"
   },
   {
    "duration": 26,
    "start_time": "2023-05-02T10:10:07.610Z"
   },
   {
    "duration": 69,
    "start_time": "2023-05-02T10:10:07.644Z"
   },
   {
    "duration": 21,
    "start_time": "2023-05-02T10:10:07.716Z"
   },
   {
    "duration": 73,
    "start_time": "2023-05-02T10:10:07.739Z"
   },
   {
    "duration": 17,
    "start_time": "2023-05-02T10:10:07.815Z"
   },
   {
    "duration": 54,
    "start_time": "2023-05-02T10:10:07.836Z"
   },
   {
    "duration": 7,
    "start_time": "2023-05-02T10:10:07.892Z"
   },
   {
    "duration": 10,
    "start_time": "2023-05-02T10:10:07.901Z"
   },
   {
    "duration": 58,
    "start_time": "2023-05-02T10:10:07.914Z"
   },
   {
    "duration": 821,
    "start_time": "2023-05-02T10:10:07.974Z"
   },
   {
    "duration": 60,
    "start_time": "2023-05-02T10:10:08.798Z"
   },
   {
    "duration": 20,
    "start_time": "2023-05-02T10:10:08.861Z"
   },
   {
    "duration": 192,
    "start_time": "2023-05-02T10:10:08.883Z"
   },
   {
    "duration": 472,
    "start_time": "2023-05-02T10:10:09.121Z"
   },
   {
    "duration": 32978,
    "start_time": "2023-05-02T10:10:09.595Z"
   },
   {
    "duration": 9,
    "start_time": "2023-05-02T10:10:42.575Z"
   },
   {
    "duration": 487,
    "start_time": "2023-05-02T10:57:05.249Z"
   },
   {
    "duration": 14,
    "start_time": "2023-05-02T10:57:05.739Z"
   },
   {
    "duration": 61,
    "start_time": "2023-05-02T10:57:05.754Z"
   },
   {
    "duration": 10,
    "start_time": "2023-05-02T10:57:05.820Z"
   },
   {
    "duration": 80,
    "start_time": "2023-05-02T10:57:05.832Z"
   },
   {
    "duration": 28,
    "start_time": "2023-05-02T10:57:05.914Z"
   },
   {
    "duration": 34,
    "start_time": "2023-05-02T10:57:05.944Z"
   },
   {
    "duration": 34,
    "start_time": "2023-05-02T10:57:05.980Z"
   },
   {
    "duration": 40,
    "start_time": "2023-05-02T10:57:06.016Z"
   },
   {
    "duration": 35,
    "start_time": "2023-05-02T10:57:06.058Z"
   },
   {
    "duration": 786,
    "start_time": "2023-05-02T10:57:06.095Z"
   },
   {
    "duration": 36,
    "start_time": "2023-05-02T10:57:06.883Z"
   },
   {
    "duration": 23,
    "start_time": "2023-05-02T10:57:06.927Z"
   },
   {
    "duration": 79,
    "start_time": "2023-05-02T10:57:06.952Z"
   },
   {
    "duration": 492,
    "start_time": "2023-05-02T10:57:07.033Z"
   },
   {
    "duration": 29336,
    "start_time": "2023-05-02T10:57:07.527Z"
   },
   {
    "duration": 63281,
    "start_time": "2023-05-02T10:59:59.882Z"
   },
   {
    "duration": 172362,
    "start_time": "2023-05-02T11:01:40.211Z"
   },
   {
    "duration": 67749,
    "start_time": "2023-05-02T11:09:31.807Z"
   },
   {
    "duration": 82,
    "start_time": "2023-05-02T11:11:04.008Z"
   },
   {
    "duration": 253,
    "start_time": "2023-05-02T11:11:12.960Z"
   },
   {
    "duration": 877,
    "start_time": "2023-05-02T11:12:34.164Z"
   },
   {
    "duration": 498,
    "start_time": "2023-05-02T11:12:55.638Z"
   },
   {
    "duration": 543,
    "start_time": "2023-05-03T06:59:18.463Z"
   },
   {
    "duration": 11,
    "start_time": "2023-05-03T06:59:19.008Z"
   },
   {
    "duration": 47,
    "start_time": "2023-05-03T06:59:19.020Z"
   },
   {
    "duration": 7,
    "start_time": "2023-05-03T06:59:19.069Z"
   },
   {
    "duration": 45,
    "start_time": "2023-05-03T06:59:19.077Z"
   },
   {
    "duration": 17,
    "start_time": "2023-05-03T06:59:19.123Z"
   },
   {
    "duration": 16,
    "start_time": "2023-05-03T06:59:19.141Z"
   },
   {
    "duration": 4,
    "start_time": "2023-05-03T06:59:19.159Z"
   },
   {
    "duration": 12,
    "start_time": "2023-05-03T06:59:19.164Z"
   },
   {
    "duration": 19,
    "start_time": "2023-05-03T06:59:19.178Z"
   },
   {
    "duration": 729,
    "start_time": "2023-05-03T06:59:19.199Z"
   },
   {
    "duration": 27,
    "start_time": "2023-05-03T06:59:19.929Z"
   },
   {
    "duration": 19,
    "start_time": "2023-05-03T06:59:19.958Z"
   },
   {
    "duration": 65,
    "start_time": "2023-05-03T06:59:19.978Z"
   },
   {
    "duration": 437,
    "start_time": "2023-05-03T06:59:20.135Z"
   },
   {
    "duration": 651,
    "start_time": "2023-05-03T06:59:20.573Z"
   },
   {
    "duration": 115,
    "start_time": "2023-05-03T06:59:21.225Z"
   },
   {
    "duration": 9,
    "start_time": "2023-05-03T07:00:04.932Z"
   },
   {
    "duration": 16,
    "start_time": "2023-05-03T07:00:45.800Z"
   },
   {
    "duration": 90,
    "start_time": "2023-05-03T07:02:57.346Z"
   },
   {
    "duration": 115,
    "start_time": "2023-05-03T07:03:25.325Z"
   },
   {
    "duration": 107,
    "start_time": "2023-05-03T07:03:42.828Z"
   },
   {
    "duration": 43,
    "start_time": "2023-05-03T07:06:19.797Z"
   },
   {
    "duration": 91,
    "start_time": "2023-05-03T07:06:36.256Z"
   },
   {
    "duration": 40,
    "start_time": "2023-05-03T08:09:03.397Z"
   },
   {
    "duration": 109,
    "start_time": "2023-05-03T08:10:59.725Z"
   },
   {
    "duration": 80,
    "start_time": "2023-05-03T08:25:48.853Z"
   },
   {
    "duration": 114,
    "start_time": "2023-05-03T08:34:21.022Z"
   },
   {
    "duration": 810,
    "start_time": "2023-05-03T08:34:52.239Z"
   },
   {
    "duration": 276,
    "start_time": "2023-05-03T08:38:05.360Z"
   },
   {
    "duration": 2276,
    "start_time": "2023-05-03T08:41:18.434Z"
   },
   {
    "duration": 303,
    "start_time": "2023-05-03T08:41:58.319Z"
   },
   {
    "duration": 430,
    "start_time": "2023-05-03T08:42:03.826Z"
   },
   {
    "duration": 426,
    "start_time": "2023-05-03T08:42:37.702Z"
   },
   {
    "duration": 690,
    "start_time": "2023-05-03T08:43:59.074Z"
   },
   {
    "duration": 175,
    "start_time": "2023-05-03T08:44:32.448Z"
   },
   {
    "duration": 498,
    "start_time": "2023-05-03T08:45:54.916Z"
   },
   {
    "duration": 14,
    "start_time": "2023-05-03T08:45:55.416Z"
   },
   {
    "duration": 44,
    "start_time": "2023-05-03T08:45:55.431Z"
   },
   {
    "duration": 7,
    "start_time": "2023-05-03T08:45:55.477Z"
   },
   {
    "duration": 38,
    "start_time": "2023-05-03T08:45:55.485Z"
   },
   {
    "duration": 16,
    "start_time": "2023-05-03T08:45:55.533Z"
   },
   {
    "duration": 11,
    "start_time": "2023-05-03T08:45:55.551Z"
   },
   {
    "duration": 4,
    "start_time": "2023-05-03T08:45:55.564Z"
   },
   {
    "duration": 7,
    "start_time": "2023-05-03T08:45:55.569Z"
   },
   {
    "duration": 18,
    "start_time": "2023-05-03T08:45:55.578Z"
   },
   {
    "duration": 828,
    "start_time": "2023-05-03T08:45:55.598Z"
   },
   {
    "duration": 30,
    "start_time": "2023-05-03T08:45:56.428Z"
   },
   {
    "duration": 19,
    "start_time": "2023-05-03T08:45:56.460Z"
   },
   {
    "duration": 661,
    "start_time": "2023-05-03T08:45:56.481Z"
   },
   {
    "duration": 203,
    "start_time": "2023-05-03T08:45:57.147Z"
   },
   {
    "duration": 708,
    "start_time": "2023-05-03T08:45:57.353Z"
   },
   {
    "duration": 773,
    "start_time": "2023-05-03T08:46:50.545Z"
   },
   {
    "duration": 2990,
    "start_time": "2023-05-03T08:47:11.402Z"
   },
   {
    "duration": 26152,
    "start_time": "2023-05-03T08:47:20.576Z"
   },
   {
    "duration": 453,
    "start_time": "2023-05-03T08:48:05.052Z"
   },
   {
    "duration": 472,
    "start_time": "2023-05-03T08:55:08.358Z"
   },
   {
    "duration": 431,
    "start_time": "2023-05-03T08:55:28.667Z"
   },
   {
    "duration": 519,
    "start_time": "2023-05-03T08:55:51.905Z"
   },
   {
    "duration": 453,
    "start_time": "2023-05-03T08:56:55.401Z"
   },
   {
    "duration": 28064,
    "start_time": "2023-05-03T08:57:26.190Z"
   },
   {
    "duration": 27977,
    "start_time": "2023-05-03T09:01:11.922Z"
   },
   {
    "duration": 330,
    "start_time": "2023-05-03T09:11:06.143Z"
   },
   {
    "duration": 357,
    "start_time": "2023-05-03T09:11:18.694Z"
   },
   {
    "duration": 427,
    "start_time": "2023-05-03T09:11:56.318Z"
   },
   {
    "duration": 435,
    "start_time": "2023-05-03T09:12:10.708Z"
   },
   {
    "duration": 27173,
    "start_time": "2023-05-03T09:13:04.680Z"
   },
   {
    "duration": 26794,
    "start_time": "2023-05-03T09:17:53.276Z"
   },
   {
    "duration": 26943,
    "start_time": "2023-05-03T09:44:34.023Z"
   },
   {
    "duration": 26901,
    "start_time": "2023-05-03T09:45:34.744Z"
   },
   {
    "duration": 26612,
    "start_time": "2023-05-03T09:46:15.095Z"
   },
   {
    "duration": 27340,
    "start_time": "2023-05-03T09:46:58.237Z"
   },
   {
    "duration": 408,
    "start_time": "2023-05-03T09:52:41.358Z"
   },
   {
    "duration": 500,
    "start_time": "2023-05-03T11:10:48.952Z"
   },
   {
    "duration": 13,
    "start_time": "2023-05-03T11:10:49.454Z"
   },
   {
    "duration": 39,
    "start_time": "2023-05-03T11:10:49.468Z"
   },
   {
    "duration": 6,
    "start_time": "2023-05-03T11:10:49.510Z"
   },
   {
    "duration": 55,
    "start_time": "2023-05-03T11:10:49.518Z"
   },
   {
    "duration": 12,
    "start_time": "2023-05-03T11:10:49.575Z"
   },
   {
    "duration": 12,
    "start_time": "2023-05-03T11:10:49.588Z"
   },
   {
    "duration": 12,
    "start_time": "2023-05-03T11:10:49.602Z"
   },
   {
    "duration": 28,
    "start_time": "2023-05-03T11:10:49.615Z"
   },
   {
    "duration": 22,
    "start_time": "2023-05-03T11:10:49.646Z"
   },
   {
    "duration": 664,
    "start_time": "2023-05-03T11:10:49.669Z"
   },
   {
    "duration": 33,
    "start_time": "2023-05-03T11:10:50.338Z"
   },
   {
    "duration": 17,
    "start_time": "2023-05-03T11:10:50.373Z"
   },
   {
    "duration": 684,
    "start_time": "2023-05-03T11:10:50.392Z"
   },
   {
    "duration": 231,
    "start_time": "2023-05-03T11:10:51.077Z"
   },
   {
    "duration": 27459,
    "start_time": "2023-05-03T11:10:51.309Z"
   },
   {
    "duration": 252,
    "start_time": "2023-05-03T11:13:05.366Z"
   },
   {
    "duration": 319,
    "start_time": "2023-05-03T11:13:26.727Z"
   },
   {
    "duration": 283,
    "start_time": "2023-05-03T11:14:32.756Z"
   },
   {
    "duration": 384,
    "start_time": "2023-05-03T11:15:05.907Z"
   },
   {
    "duration": 296,
    "start_time": "2023-05-03T11:15:25.743Z"
   },
   {
    "duration": 296,
    "start_time": "2023-05-03T11:22:31.481Z"
   },
   {
    "duration": 29802,
    "start_time": "2023-05-03T11:22:53.904Z"
   },
   {
    "duration": 6,
    "start_time": "2023-05-03T12:45:39.606Z"
   },
   {
    "duration": 5,
    "start_time": "2023-05-03T12:47:52.559Z"
   },
   {
    "duration": 9,
    "start_time": "2023-05-03T12:49:56.826Z"
   },
   {
    "duration": 11,
    "start_time": "2023-05-03T12:50:02.408Z"
   },
   {
    "duration": 3,
    "start_time": "2023-05-03T12:50:10.693Z"
   },
   {
    "duration": 338,
    "start_time": "2023-05-03T12:55:45.799Z"
   },
   {
    "duration": 169,
    "start_time": "2023-05-03T12:57:09.003Z"
   },
   {
    "duration": 328,
    "start_time": "2023-05-03T12:57:18.002Z"
   },
   {
    "duration": 90,
    "start_time": "2023-05-03T12:58:05.903Z"
   },
   {
    "duration": 345,
    "start_time": "2023-05-03T12:58:48.197Z"
   },
   {
    "duration": 441,
    "start_time": "2023-05-03T12:59:32.496Z"
   },
   {
    "duration": 13,
    "start_time": "2023-05-03T12:59:32.939Z"
   },
   {
    "duration": 71,
    "start_time": "2023-05-03T12:59:32.953Z"
   },
   {
    "duration": 16,
    "start_time": "2023-05-03T12:59:33.026Z"
   },
   {
    "duration": 57,
    "start_time": "2023-05-03T12:59:33.043Z"
   },
   {
    "duration": 12,
    "start_time": "2023-05-03T12:59:33.101Z"
   },
   {
    "duration": 30,
    "start_time": "2023-05-03T12:59:33.115Z"
   },
   {
    "duration": 15,
    "start_time": "2023-05-03T12:59:33.146Z"
   },
   {
    "duration": 28,
    "start_time": "2023-05-03T12:59:33.163Z"
   },
   {
    "duration": 26,
    "start_time": "2023-05-03T12:59:33.193Z"
   },
   {
    "duration": 679,
    "start_time": "2023-05-03T12:59:33.220Z"
   },
   {
    "duration": 27,
    "start_time": "2023-05-03T12:59:33.900Z"
   },
   {
    "duration": 62,
    "start_time": "2023-05-03T12:59:33.929Z"
   },
   {
    "duration": 660,
    "start_time": "2023-05-03T12:59:33.993Z"
   },
   {
    "duration": 354,
    "start_time": "2023-05-03T12:59:34.655Z"
   },
   {
    "duration": 29045,
    "start_time": "2023-05-03T12:59:35.011Z"
   },
   {
    "duration": 4,
    "start_time": "2023-05-03T13:00:04.057Z"
   },
   {
    "duration": 647,
    "start_time": "2023-05-03T13:00:04.062Z"
   },
   {
    "duration": 645,
    "start_time": "2023-05-03T13:09:14.183Z"
   },
   {
    "duration": 447,
    "start_time": "2023-05-04T05:56:40.511Z"
   },
   {
    "duration": 19,
    "start_time": "2023-05-04T05:56:40.961Z"
   },
   {
    "duration": 49,
    "start_time": "2023-05-04T05:56:40.983Z"
   },
   {
    "duration": 23,
    "start_time": "2023-05-04T05:56:41.034Z"
   },
   {
    "duration": 37,
    "start_time": "2023-05-04T05:56:41.058Z"
   },
   {
    "duration": 14,
    "start_time": "2023-05-04T05:56:41.097Z"
   },
   {
    "duration": 11,
    "start_time": "2023-05-04T05:56:41.113Z"
   },
   {
    "duration": 33,
    "start_time": "2023-05-04T05:56:41.126Z"
   },
   {
    "duration": 6,
    "start_time": "2023-05-04T05:56:41.161Z"
   },
   {
    "duration": 29,
    "start_time": "2023-05-04T05:56:41.171Z"
   },
   {
    "duration": 715,
    "start_time": "2023-05-04T05:56:41.202Z"
   },
   {
    "duration": 27,
    "start_time": "2023-05-04T05:56:41.919Z"
   },
   {
    "duration": 24,
    "start_time": "2023-05-04T05:56:41.947Z"
   },
   {
    "duration": 820,
    "start_time": "2023-05-04T05:56:41.973Z"
   },
   {
    "duration": 344,
    "start_time": "2023-05-04T05:56:42.795Z"
   },
   {
    "duration": 30456,
    "start_time": "2023-05-04T05:56:43.140Z"
   },
   {
    "duration": 6,
    "start_time": "2023-05-04T05:57:13.599Z"
   },
   {
    "duration": 122,
    "start_time": "2023-05-04T06:25:02.235Z"
   },
   {
    "duration": 527,
    "start_time": "2023-05-04T06:25:21.257Z"
   },
   {
    "duration": 14,
    "start_time": "2023-05-04T06:25:21.787Z"
   },
   {
    "duration": 81,
    "start_time": "2023-05-04T06:25:21.803Z"
   },
   {
    "duration": 8,
    "start_time": "2023-05-04T06:25:21.888Z"
   },
   {
    "duration": 74,
    "start_time": "2023-05-04T06:25:21.898Z"
   },
   {
    "duration": 17,
    "start_time": "2023-05-04T06:25:21.974Z"
   },
   {
    "duration": 36,
    "start_time": "2023-05-04T06:25:21.993Z"
   },
   {
    "duration": 24,
    "start_time": "2023-05-04T06:25:22.031Z"
   },
   {
    "duration": 20,
    "start_time": "2023-05-04T06:25:22.057Z"
   },
   {
    "duration": 45,
    "start_time": "2023-05-04T06:25:22.081Z"
   },
   {
    "duration": 710,
    "start_time": "2023-05-04T06:25:22.130Z"
   },
   {
    "duration": 31,
    "start_time": "2023-05-04T06:25:22.842Z"
   },
   {
    "duration": 37,
    "start_time": "2023-05-04T06:25:22.875Z"
   },
   {
    "duration": 767,
    "start_time": "2023-05-04T06:25:22.915Z"
   },
   {
    "duration": 361,
    "start_time": "2023-05-04T06:25:23.684Z"
   },
   {
    "duration": 32085,
    "start_time": "2023-05-04T06:25:24.047Z"
   },
   {
    "duration": 5,
    "start_time": "2023-05-04T06:25:56.134Z"
   },
   {
    "duration": 25,
    "start_time": "2023-05-04T06:25:56.140Z"
   },
   {
    "duration": 51,
    "start_time": "2023-05-04T06:25:56.167Z"
   },
   {
    "duration": 1210,
    "start_time": "2023-05-04T06:27:44.895Z"
   },
   {
    "duration": 49,
    "start_time": "2023-05-04T06:28:07.071Z"
   },
   {
    "duration": 16,
    "start_time": "2023-05-04T06:28:14.546Z"
   },
   {
    "duration": 35,
    "start_time": "2023-05-04T07:11:19.483Z"
   },
   {
    "duration": 16,
    "start_time": "2023-05-04T07:12:38.606Z"
   },
   {
    "duration": 86,
    "start_time": "2023-05-04T07:15:15.474Z"
   },
   {
    "duration": 15,
    "start_time": "2023-05-04T07:15:24.877Z"
   },
   {
    "duration": 20,
    "start_time": "2023-05-04T07:20:06.954Z"
   },
   {
    "duration": 466,
    "start_time": "2023-05-04T07:20:17.850Z"
   },
   {
    "duration": 12,
    "start_time": "2023-05-04T07:20:18.318Z"
   },
   {
    "duration": 42,
    "start_time": "2023-05-04T07:20:18.332Z"
   },
   {
    "duration": 9,
    "start_time": "2023-05-04T07:20:18.377Z"
   },
   {
    "duration": 38,
    "start_time": "2023-05-04T07:20:18.388Z"
   },
   {
    "duration": 43,
    "start_time": "2023-05-04T07:20:18.427Z"
   },
   {
    "duration": 14,
    "start_time": "2023-05-04T07:20:18.472Z"
   },
   {
    "duration": 8,
    "start_time": "2023-05-04T07:20:18.488Z"
   },
   {
    "duration": 21,
    "start_time": "2023-05-04T07:20:18.497Z"
   },
   {
    "duration": 21,
    "start_time": "2023-05-04T07:20:18.521Z"
   },
   {
    "duration": 701,
    "start_time": "2023-05-04T07:20:18.544Z"
   },
   {
    "duration": 28,
    "start_time": "2023-05-04T07:20:19.247Z"
   },
   {
    "duration": 18,
    "start_time": "2023-05-04T07:20:19.277Z"
   },
   {
    "duration": 585,
    "start_time": "2023-05-04T07:20:19.297Z"
   },
   {
    "duration": 395,
    "start_time": "2023-05-04T07:20:19.885Z"
   },
   {
    "duration": 32912,
    "start_time": "2023-05-04T07:20:20.281Z"
   },
   {
    "duration": 5,
    "start_time": "2023-05-04T07:20:53.195Z"
   },
   {
    "duration": 15,
    "start_time": "2023-05-04T07:20:53.202Z"
   },
   {
    "duration": 16,
    "start_time": "2023-05-04T07:20:53.219Z"
   },
   {
    "duration": 4,
    "start_time": "2023-05-04T07:20:53.237Z"
   },
   {
    "duration": 142,
    "start_time": "2023-05-04T07:20:53.243Z"
   },
   {
    "duration": 15,
    "start_time": "2023-05-04T07:22:40.885Z"
   },
   {
    "duration": 11,
    "start_time": "2023-05-04T07:32:43.748Z"
   },
   {
    "duration": 413,
    "start_time": "2023-05-04T07:34:37.198Z"
   },
   {
    "duration": 13,
    "start_time": "2023-05-04T07:34:37.613Z"
   },
   {
    "duration": 40,
    "start_time": "2023-05-04T07:34:37.627Z"
   },
   {
    "duration": 8,
    "start_time": "2023-05-04T07:34:37.670Z"
   },
   {
    "duration": 37,
    "start_time": "2023-05-04T07:34:37.679Z"
   },
   {
    "duration": 13,
    "start_time": "2023-05-04T07:34:37.718Z"
   },
   {
    "duration": 32,
    "start_time": "2023-05-04T07:34:37.733Z"
   },
   {
    "duration": 5,
    "start_time": "2023-05-04T07:34:37.766Z"
   },
   {
    "duration": 13,
    "start_time": "2023-05-04T07:34:37.772Z"
   },
   {
    "duration": 20,
    "start_time": "2023-05-04T07:34:37.788Z"
   },
   {
    "duration": 669,
    "start_time": "2023-05-04T07:34:37.810Z"
   },
   {
    "duration": 25,
    "start_time": "2023-05-04T07:34:38.480Z"
   },
   {
    "duration": 17,
    "start_time": "2023-05-04T07:34:38.506Z"
   },
   {
    "duration": 550,
    "start_time": "2023-05-04T07:34:38.525Z"
   },
   {
    "duration": 359,
    "start_time": "2023-05-04T07:34:39.076Z"
   },
   {
    "duration": 30151,
    "start_time": "2023-05-04T07:34:39.437Z"
   },
   {
    "duration": 4,
    "start_time": "2023-05-04T07:35:09.590Z"
   },
   {
    "duration": 8,
    "start_time": "2023-05-04T07:35:09.596Z"
   },
   {
    "duration": 24,
    "start_time": "2023-05-04T07:35:09.605Z"
   },
   {
    "duration": 4,
    "start_time": "2023-05-04T07:35:09.631Z"
   },
   {
    "duration": 43,
    "start_time": "2023-05-04T07:35:09.637Z"
   },
   {
    "duration": 10,
    "start_time": "2023-05-04T07:38:20.482Z"
   },
   {
    "duration": 333,
    "start_time": "2023-05-04T08:11:34.932Z"
   },
   {
    "duration": 317,
    "start_time": "2023-05-04T08:13:56.956Z"
   },
   {
    "duration": 45,
    "start_time": "2023-05-04T08:23:18.629Z"
   },
   {
    "duration": 25,
    "start_time": "2023-05-04T08:24:52.817Z"
   },
   {
    "duration": 28,
    "start_time": "2023-05-04T08:25:28.079Z"
   },
   {
    "duration": 152,
    "start_time": "2023-05-04T08:27:52.181Z"
   },
   {
    "duration": 39,
    "start_time": "2023-05-04T08:39:05.022Z"
   },
   {
    "duration": 29,
    "start_time": "2023-05-04T08:39:26.313Z"
   },
   {
    "duration": 69,
    "start_time": "2023-05-04T08:44:11.850Z"
   },
   {
    "duration": 65,
    "start_time": "2023-05-04T09:34:17.440Z"
   },
   {
    "duration": 414,
    "start_time": "2023-05-04T09:38:12.719Z"
   },
   {
    "duration": 50,
    "start_time": "2023-05-04T09:38:58.985Z"
   },
   {
    "duration": 151,
    "start_time": "2023-05-04T09:39:21.823Z"
   },
   {
    "duration": 146,
    "start_time": "2023-05-04T09:43:37.329Z"
   },
   {
    "duration": 136,
    "start_time": "2023-05-04T10:43:32.800Z"
   },
   {
    "duration": 154,
    "start_time": "2023-05-04T10:45:13.001Z"
   },
   {
    "duration": 502,
    "start_time": "2023-05-04T10:45:51.844Z"
   },
   {
    "duration": 23,
    "start_time": "2023-05-04T10:45:52.348Z"
   },
   {
    "duration": 42,
    "start_time": "2023-05-04T10:45:52.373Z"
   },
   {
    "duration": 6,
    "start_time": "2023-05-04T10:45:52.417Z"
   },
   {
    "duration": 65,
    "start_time": "2023-05-04T10:45:52.425Z"
   },
   {
    "duration": 13,
    "start_time": "2023-05-04T10:45:52.492Z"
   },
   {
    "duration": 14,
    "start_time": "2023-05-04T10:45:52.507Z"
   },
   {
    "duration": 11,
    "start_time": "2023-05-04T10:45:52.523Z"
   },
   {
    "duration": 20,
    "start_time": "2023-05-04T10:45:52.536Z"
   },
   {
    "duration": 25,
    "start_time": "2023-05-04T10:45:52.562Z"
   },
   {
    "duration": 701,
    "start_time": "2023-05-04T10:45:52.589Z"
   },
   {
    "duration": 26,
    "start_time": "2023-05-04T10:45:53.291Z"
   },
   {
    "duration": 18,
    "start_time": "2023-05-04T10:45:53.319Z"
   },
   {
    "duration": 681,
    "start_time": "2023-05-04T10:45:53.340Z"
   },
   {
    "duration": 369,
    "start_time": "2023-05-04T10:45:54.023Z"
   },
   {
    "duration": 34221,
    "start_time": "2023-05-04T10:45:54.394Z"
   },
   {
    "duration": 6,
    "start_time": "2023-05-04T10:46:28.618Z"
   },
   {
    "duration": 13,
    "start_time": "2023-05-04T10:46:28.626Z"
   },
   {
    "duration": 16,
    "start_time": "2023-05-04T10:46:28.655Z"
   },
   {
    "duration": 18,
    "start_time": "2023-05-04T10:46:28.674Z"
   },
   {
    "duration": 41,
    "start_time": "2023-05-04T10:46:28.694Z"
   },
   {
    "duration": 224,
    "start_time": "2023-05-04T10:46:28.737Z"
   },
   {
    "duration": 52,
    "start_time": "2023-05-04T10:46:28.963Z"
   },
   {
    "duration": 0,
    "start_time": "2023-05-04T10:46:29.017Z"
   },
   {
    "duration": 0,
    "start_time": "2023-05-04T10:46:29.019Z"
   },
   {
    "duration": 0,
    "start_time": "2023-05-04T10:46:29.021Z"
   },
   {
    "duration": 0,
    "start_time": "2023-05-04T10:46:29.023Z"
   },
   {
    "duration": 0,
    "start_time": "2023-05-04T10:46:29.025Z"
   },
   {
    "duration": 0,
    "start_time": "2023-05-04T10:46:29.027Z"
   },
   {
    "duration": 0,
    "start_time": "2023-05-04T10:46:29.029Z"
   },
   {
    "duration": 494,
    "start_time": "2023-05-04T10:46:48.062Z"
   },
   {
    "duration": 15,
    "start_time": "2023-05-04T10:46:48.559Z"
   },
   {
    "duration": 46,
    "start_time": "2023-05-04T10:46:48.576Z"
   },
   {
    "duration": 32,
    "start_time": "2023-05-04T10:46:48.624Z"
   },
   {
    "duration": 42,
    "start_time": "2023-05-04T10:46:48.658Z"
   },
   {
    "duration": 15,
    "start_time": "2023-05-04T10:46:48.702Z"
   },
   {
    "duration": 40,
    "start_time": "2023-05-04T10:46:48.719Z"
   },
   {
    "duration": 5,
    "start_time": "2023-05-04T10:46:48.762Z"
   },
   {
    "duration": 6,
    "start_time": "2023-05-04T10:46:48.769Z"
   },
   {
    "duration": 23,
    "start_time": "2023-05-04T10:46:48.777Z"
   },
   {
    "duration": 749,
    "start_time": "2023-05-04T10:46:48.803Z"
   },
   {
    "duration": 25,
    "start_time": "2023-05-04T10:46:49.554Z"
   },
   {
    "duration": 18,
    "start_time": "2023-05-04T10:46:49.581Z"
   },
   {
    "duration": 594,
    "start_time": "2023-05-04T10:46:49.601Z"
   },
   {
    "duration": 351,
    "start_time": "2023-05-04T10:46:50.197Z"
   },
   {
    "duration": 32012,
    "start_time": "2023-05-04T10:46:50.556Z"
   },
   {
    "duration": 5,
    "start_time": "2023-05-04T10:47:22.570Z"
   },
   {
    "duration": 36,
    "start_time": "2023-05-04T10:47:22.577Z"
   },
   {
    "duration": 25,
    "start_time": "2023-05-04T10:47:22.615Z"
   },
   {
    "duration": 14,
    "start_time": "2023-05-04T10:47:22.642Z"
   },
   {
    "duration": 30,
    "start_time": "2023-05-04T10:47:22.658Z"
   },
   {
    "duration": 75,
    "start_time": "2023-05-04T10:47:22.690Z"
   },
   {
    "duration": 289,
    "start_time": "2023-05-04T10:47:22.767Z"
   },
   {
    "duration": 112,
    "start_time": "2023-05-04T10:47:23.058Z"
   },
   {
    "duration": 28,
    "start_time": "2023-05-04T10:47:23.172Z"
   },
   {
    "duration": 50,
    "start_time": "2023-05-04T10:47:23.202Z"
   },
   {
    "duration": 0,
    "start_time": "2023-05-04T10:47:23.254Z"
   },
   {
    "duration": 0,
    "start_time": "2023-05-04T10:47:23.255Z"
   },
   {
    "duration": 0,
    "start_time": "2023-05-04T10:47:23.258Z"
   },
   {
    "duration": 442,
    "start_time": "2023-05-04T10:48:20.102Z"
   },
   {
    "duration": 19,
    "start_time": "2023-05-04T10:48:20.546Z"
   },
   {
    "duration": 82,
    "start_time": "2023-05-04T10:48:20.566Z"
   },
   {
    "duration": 7,
    "start_time": "2023-05-04T10:48:20.651Z"
   },
   {
    "duration": 300,
    "start_time": "2023-05-04T10:48:20.663Z"
   },
   {
    "duration": 18,
    "start_time": "2023-05-04T10:48:20.965Z"
   },
   {
    "duration": 14,
    "start_time": "2023-05-04T10:48:20.984Z"
   },
   {
    "duration": 4,
    "start_time": "2023-05-04T10:48:21.000Z"
   },
   {
    "duration": 18,
    "start_time": "2023-05-04T10:48:21.006Z"
   },
   {
    "duration": 30,
    "start_time": "2023-05-04T10:48:21.026Z"
   },
   {
    "duration": 682,
    "start_time": "2023-05-04T10:48:21.058Z"
   },
   {
    "duration": 31,
    "start_time": "2023-05-04T10:48:21.742Z"
   },
   {
    "duration": 38,
    "start_time": "2023-05-04T10:48:21.775Z"
   },
   {
    "duration": 562,
    "start_time": "2023-05-04T10:48:21.816Z"
   },
   {
    "duration": 351,
    "start_time": "2023-05-04T10:48:22.380Z"
   },
   {
    "duration": 31961,
    "start_time": "2023-05-04T10:48:22.732Z"
   },
   {
    "duration": 4,
    "start_time": "2023-05-04T10:48:54.695Z"
   },
   {
    "duration": 19,
    "start_time": "2023-05-04T10:48:54.701Z"
   },
   {
    "duration": 25,
    "start_time": "2023-05-04T10:48:54.722Z"
   },
   {
    "duration": 23,
    "start_time": "2023-05-04T10:48:54.748Z"
   },
   {
    "duration": 29,
    "start_time": "2023-05-04T10:48:54.773Z"
   },
   {
    "duration": 64,
    "start_time": "2023-05-04T10:48:54.804Z"
   },
   {
    "duration": 109,
    "start_time": "2023-05-04T10:48:54.869Z"
   },
   {
    "duration": 126,
    "start_time": "2023-05-04T10:48:55.058Z"
   },
   {
    "duration": 27,
    "start_time": "2023-05-04T10:48:55.186Z"
   },
   {
    "duration": 162,
    "start_time": "2023-05-04T10:48:55.215Z"
   },
   {
    "duration": 84,
    "start_time": "2023-05-04T10:48:55.378Z"
   },
   {
    "duration": 128,
    "start_time": "2023-05-04T10:48:55.468Z"
   },
   {
    "duration": 527,
    "start_time": "2023-05-04T10:54:33.845Z"
   },
   {
    "duration": 14,
    "start_time": "2023-05-04T10:54:34.376Z"
   },
   {
    "duration": 46,
    "start_time": "2023-05-04T10:54:34.392Z"
   },
   {
    "duration": 35,
    "start_time": "2023-05-04T10:54:34.440Z"
   },
   {
    "duration": 42,
    "start_time": "2023-05-04T10:54:34.478Z"
   },
   {
    "duration": 15,
    "start_time": "2023-05-04T10:54:34.522Z"
   },
   {
    "duration": 37,
    "start_time": "2023-05-04T10:54:34.538Z"
   },
   {
    "duration": 6,
    "start_time": "2023-05-04T10:54:34.577Z"
   },
   {
    "duration": 5,
    "start_time": "2023-05-04T10:54:34.584Z"
   },
   {
    "duration": 23,
    "start_time": "2023-05-04T10:54:34.592Z"
   },
   {
    "duration": 775,
    "start_time": "2023-05-04T10:54:34.617Z"
   },
   {
    "duration": 27,
    "start_time": "2023-05-04T10:54:35.394Z"
   },
   {
    "duration": 40,
    "start_time": "2023-05-04T10:54:35.423Z"
   },
   {
    "duration": 714,
    "start_time": "2023-05-04T10:54:35.467Z"
   },
   {
    "duration": 363,
    "start_time": "2023-05-04T10:54:36.182Z"
   },
   {
    "duration": 31975,
    "start_time": "2023-05-04T10:54:36.548Z"
   },
   {
    "duration": 4,
    "start_time": "2023-05-04T10:55:08.525Z"
   },
   {
    "duration": 7,
    "start_time": "2023-05-04T10:55:08.530Z"
   },
   {
    "duration": 33,
    "start_time": "2023-05-04T10:55:08.538Z"
   },
   {
    "duration": 4,
    "start_time": "2023-05-04T10:55:08.573Z"
   },
   {
    "duration": 13,
    "start_time": "2023-05-04T10:55:08.579Z"
   },
   {
    "duration": 168,
    "start_time": "2023-05-04T10:55:08.593Z"
   },
   {
    "duration": 198,
    "start_time": "2023-05-04T10:55:08.762Z"
   },
   {
    "duration": 119,
    "start_time": "2023-05-04T10:55:08.962Z"
   },
   {
    "duration": 27,
    "start_time": "2023-05-04T10:55:09.082Z"
   },
   {
    "duration": 167,
    "start_time": "2023-05-04T10:55:09.111Z"
   },
   {
    "duration": 70,
    "start_time": "2023-05-04T10:55:09.280Z"
   },
   {
    "duration": 138,
    "start_time": "2023-05-04T10:55:09.357Z"
   },
   {
    "duration": 520,
    "start_time": "2023-05-04T12:43:13.426Z"
   },
   {
    "duration": 22,
    "start_time": "2023-05-04T12:43:13.949Z"
   },
   {
    "duration": 61,
    "start_time": "2023-05-04T12:43:13.972Z"
   },
   {
    "duration": 24,
    "start_time": "2023-05-04T12:43:14.035Z"
   },
   {
    "duration": 56,
    "start_time": "2023-05-04T12:43:14.061Z"
   },
   {
    "duration": 18,
    "start_time": "2023-05-04T12:43:14.119Z"
   },
   {
    "duration": 31,
    "start_time": "2023-05-04T12:43:14.141Z"
   },
   {
    "duration": 8,
    "start_time": "2023-05-04T12:43:14.174Z"
   },
   {
    "duration": 29,
    "start_time": "2023-05-04T12:43:14.184Z"
   },
   {
    "duration": 31,
    "start_time": "2023-05-04T12:43:14.217Z"
   },
   {
    "duration": 847,
    "start_time": "2023-05-04T12:43:14.251Z"
   },
   {
    "duration": 32,
    "start_time": "2023-05-04T12:43:15.101Z"
   },
   {
    "duration": 106,
    "start_time": "2023-05-04T12:43:15.136Z"
   },
   {
    "duration": 767,
    "start_time": "2023-05-04T12:43:15.245Z"
   },
   {
    "duration": 428,
    "start_time": "2023-05-04T12:43:16.014Z"
   },
   {
    "duration": 33803,
    "start_time": "2023-05-04T12:43:16.444Z"
   },
   {
    "duration": 23,
    "start_time": "2023-05-04T12:43:50.249Z"
   },
   {
    "duration": 8,
    "start_time": "2023-05-04T12:43:50.277Z"
   },
   {
    "duration": 19,
    "start_time": "2023-05-04T12:43:50.287Z"
   },
   {
    "duration": 8,
    "start_time": "2023-05-04T12:43:50.308Z"
   },
   {
    "duration": 26,
    "start_time": "2023-05-04T12:43:50.318Z"
   },
   {
    "duration": 118,
    "start_time": "2023-05-04T12:43:50.346Z"
   },
   {
    "duration": 123,
    "start_time": "2023-05-04T12:43:50.466Z"
   },
   {
    "duration": 201,
    "start_time": "2023-05-04T12:43:50.591Z"
   },
   {
    "duration": 27,
    "start_time": "2023-05-04T12:43:50.794Z"
   },
   {
    "duration": 160,
    "start_time": "2023-05-04T12:43:50.825Z"
   },
   {
    "duration": 72,
    "start_time": "2023-05-04T12:43:50.988Z"
   },
   {
    "duration": 158,
    "start_time": "2023-05-04T12:43:51.065Z"
   },
   {
    "duration": 488,
    "start_time": "2023-05-04T13:21:58.453Z"
   },
   {
    "duration": 16,
    "start_time": "2023-05-04T13:21:58.943Z"
   },
   {
    "duration": 49,
    "start_time": "2023-05-04T13:21:58.966Z"
   },
   {
    "duration": 8,
    "start_time": "2023-05-04T13:21:59.016Z"
   },
   {
    "duration": 66,
    "start_time": "2023-05-04T13:21:59.026Z"
   },
   {
    "duration": 19,
    "start_time": "2023-05-04T13:21:59.094Z"
   },
   {
    "duration": 17,
    "start_time": "2023-05-04T13:21:59.116Z"
   },
   {
    "duration": 25,
    "start_time": "2023-05-04T13:21:59.135Z"
   },
   {
    "duration": 11,
    "start_time": "2023-05-04T13:21:59.165Z"
   },
   {
    "duration": 22,
    "start_time": "2023-05-04T13:21:59.178Z"
   },
   {
    "duration": 957,
    "start_time": "2023-05-04T13:21:59.202Z"
   },
   {
    "duration": 0,
    "start_time": "2023-05-04T13:22:00.164Z"
   },
   {
    "duration": 0,
    "start_time": "2023-05-04T13:22:00.165Z"
   },
   {
    "duration": 0,
    "start_time": "2023-05-04T13:22:00.166Z"
   },
   {
    "duration": 0,
    "start_time": "2023-05-04T13:22:00.166Z"
   },
   {
    "duration": 0,
    "start_time": "2023-05-04T13:22:00.168Z"
   },
   {
    "duration": 0,
    "start_time": "2023-05-04T13:22:00.169Z"
   },
   {
    "duration": 0,
    "start_time": "2023-05-04T13:22:00.170Z"
   },
   {
    "duration": 0,
    "start_time": "2023-05-04T13:22:00.170Z"
   },
   {
    "duration": 0,
    "start_time": "2023-05-04T13:22:00.173Z"
   },
   {
    "duration": 0,
    "start_time": "2023-05-04T13:22:00.174Z"
   },
   {
    "duration": 0,
    "start_time": "2023-05-04T13:22:00.175Z"
   },
   {
    "duration": 0,
    "start_time": "2023-05-04T13:22:00.175Z"
   },
   {
    "duration": 0,
    "start_time": "2023-05-04T13:22:00.176Z"
   },
   {
    "duration": 0,
    "start_time": "2023-05-04T13:22:00.180Z"
   },
   {
    "duration": 0,
    "start_time": "2023-05-04T13:22:00.181Z"
   },
   {
    "duration": 0,
    "start_time": "2023-05-04T13:22:00.183Z"
   },
   {
    "duration": 0,
    "start_time": "2023-05-04T13:22:00.184Z"
   },
   {
    "duration": 513,
    "start_time": "2023-05-04T13:27:31.592Z"
   },
   {
    "duration": 13,
    "start_time": "2023-05-04T13:27:32.108Z"
   },
   {
    "duration": 65,
    "start_time": "2023-05-04T13:27:32.123Z"
   },
   {
    "duration": 7,
    "start_time": "2023-05-04T13:27:32.190Z"
   },
   {
    "duration": 93,
    "start_time": "2023-05-04T13:27:32.200Z"
   },
   {
    "duration": 13,
    "start_time": "2023-05-04T13:27:32.295Z"
   },
   {
    "duration": 36,
    "start_time": "2023-05-04T13:27:32.310Z"
   },
   {
    "duration": 8,
    "start_time": "2023-05-04T13:27:32.349Z"
   },
   {
    "duration": 22,
    "start_time": "2023-05-04T13:27:32.358Z"
   },
   {
    "duration": 48,
    "start_time": "2023-05-04T13:27:32.382Z"
   },
   {
    "duration": 791,
    "start_time": "2023-05-04T13:27:32.432Z"
   },
   {
    "duration": 46,
    "start_time": "2023-05-04T13:27:33.225Z"
   },
   {
    "duration": 22,
    "start_time": "2023-05-04T13:27:33.280Z"
   },
   {
    "duration": 634,
    "start_time": "2023-05-04T13:27:33.306Z"
   },
   {
    "duration": 451,
    "start_time": "2023-05-04T13:27:33.942Z"
   },
   {
    "duration": 34578,
    "start_time": "2023-05-04T13:27:34.396Z"
   },
   {
    "duration": 5,
    "start_time": "2023-05-04T13:28:08.978Z"
   },
   {
    "duration": 9,
    "start_time": "2023-05-04T13:28:08.986Z"
   },
   {
    "duration": 14,
    "start_time": "2023-05-04T13:28:08.997Z"
   },
   {
    "duration": 6,
    "start_time": "2023-05-04T13:28:09.013Z"
   },
   {
    "duration": 42,
    "start_time": "2023-05-04T13:28:09.020Z"
   },
   {
    "duration": 187,
    "start_time": "2023-05-04T13:28:09.069Z"
   },
   {
    "duration": 212,
    "start_time": "2023-05-04T13:28:09.259Z"
   },
   {
    "duration": 126,
    "start_time": "2023-05-04T13:28:09.474Z"
   },
   {
    "duration": 28,
    "start_time": "2023-05-04T13:28:09.603Z"
   },
   {
    "duration": 170,
    "start_time": "2023-05-04T13:28:09.633Z"
   },
   {
    "duration": 86,
    "start_time": "2023-05-04T13:28:09.805Z"
   },
   {
    "duration": 131,
    "start_time": "2023-05-04T13:28:09.892Z"
   },
   {
    "duration": 530,
    "start_time": "2023-05-04T13:32:55.750Z"
   },
   {
    "duration": 15,
    "start_time": "2023-05-04T13:32:56.283Z"
   },
   {
    "duration": 42,
    "start_time": "2023-05-04T13:32:56.300Z"
   },
   {
    "duration": 20,
    "start_time": "2023-05-04T13:32:56.344Z"
   },
   {
    "duration": 41,
    "start_time": "2023-05-04T13:32:56.365Z"
   },
   {
    "duration": 22,
    "start_time": "2023-05-04T13:32:56.408Z"
   },
   {
    "duration": 39,
    "start_time": "2023-05-04T13:32:56.433Z"
   },
   {
    "duration": 6,
    "start_time": "2023-05-04T13:32:56.474Z"
   },
   {
    "duration": 16,
    "start_time": "2023-05-04T13:32:56.487Z"
   },
   {
    "duration": 20,
    "start_time": "2023-05-04T13:32:56.506Z"
   },
   {
    "duration": 777,
    "start_time": "2023-05-04T13:32:56.528Z"
   },
   {
    "duration": 49,
    "start_time": "2023-05-04T13:32:57.307Z"
   },
   {
    "duration": 29,
    "start_time": "2023-05-04T13:32:57.361Z"
   },
   {
    "duration": 31,
    "start_time": "2023-05-04T13:32:57.392Z"
   },
   {
    "duration": 658,
    "start_time": "2023-05-04T13:32:57.426Z"
   },
   {
    "duration": 361,
    "start_time": "2023-05-04T13:32:58.087Z"
   },
   {
    "duration": 36253,
    "start_time": "2023-05-04T13:32:58.455Z"
   },
   {
    "duration": 6,
    "start_time": "2023-05-04T13:33:34.715Z"
   },
   {
    "duration": 9,
    "start_time": "2023-05-04T13:33:34.723Z"
   },
   {
    "duration": 46,
    "start_time": "2023-05-04T13:33:34.734Z"
   },
   {
    "duration": 9,
    "start_time": "2023-05-04T13:33:34.783Z"
   },
   {
    "duration": 24,
    "start_time": "2023-05-04T13:33:34.794Z"
   },
   {
    "duration": 141,
    "start_time": "2023-05-04T13:33:34.820Z"
   },
   {
    "duration": 100,
    "start_time": "2023-05-04T13:33:34.967Z"
   },
   {
    "duration": 132,
    "start_time": "2023-05-04T13:33:35.075Z"
   },
   {
    "duration": 56,
    "start_time": "2023-05-04T13:33:35.210Z"
   },
   {
    "duration": 240,
    "start_time": "2023-05-04T13:33:35.268Z"
   },
   {
    "duration": 96,
    "start_time": "2023-05-04T13:33:35.512Z"
   },
   {
    "duration": 153,
    "start_time": "2023-05-04T13:33:35.610Z"
   },
   {
    "duration": 222,
    "start_time": "2023-05-04T13:46:26.301Z"
   },
   {
    "duration": 159,
    "start_time": "2023-05-04T13:47:23.281Z"
   },
   {
    "duration": 999,
    "start_time": "2023-05-04T21:24:24.146Z"
   },
   {
    "duration": 599,
    "start_time": "2023-05-04T21:24:41.562Z"
   },
   {
    "duration": 11,
    "start_time": "2023-05-04T21:24:42.163Z"
   },
   {
    "duration": 35,
    "start_time": "2023-05-04T21:24:42.176Z"
   },
   {
    "duration": 6,
    "start_time": "2023-05-04T21:24:42.213Z"
   },
   {
    "duration": 52,
    "start_time": "2023-05-04T21:24:42.220Z"
   },
   {
    "duration": 10,
    "start_time": "2023-05-04T21:24:42.273Z"
   },
   {
    "duration": 24,
    "start_time": "2023-05-04T21:24:42.284Z"
   },
   {
    "duration": 15,
    "start_time": "2023-05-04T21:24:42.309Z"
   },
   {
    "duration": 15,
    "start_time": "2023-05-04T21:24:42.325Z"
   },
   {
    "duration": 235,
    "start_time": "2023-05-04T21:24:42.342Z"
   },
   {
    "duration": 678,
    "start_time": "2023-05-04T21:24:42.579Z"
   },
   {
    "duration": 29,
    "start_time": "2023-05-04T21:24:43.259Z"
   },
   {
    "duration": 17,
    "start_time": "2023-05-04T21:24:43.290Z"
   },
   {
    "duration": 38,
    "start_time": "2023-05-04T21:24:43.309Z"
   },
   {
    "duration": 928,
    "start_time": "2023-05-04T21:24:43.348Z"
   },
   {
    "duration": 490,
    "start_time": "2023-05-04T21:24:44.278Z"
   },
   {
    "duration": 32477,
    "start_time": "2023-05-04T21:24:44.771Z"
   },
   {
    "duration": 10,
    "start_time": "2023-05-04T21:25:17.259Z"
   },
   {
    "duration": 42,
    "start_time": "2023-05-04T21:25:17.270Z"
   },
   {
    "duration": 34,
    "start_time": "2023-05-04T21:25:17.313Z"
   },
   {
    "duration": 25,
    "start_time": "2023-05-04T21:25:17.348Z"
   },
   {
    "duration": 27,
    "start_time": "2023-05-04T21:25:17.375Z"
   },
   {
    "duration": 153,
    "start_time": "2023-05-04T21:25:17.403Z"
   },
   {
    "duration": 116,
    "start_time": "2023-05-04T21:25:17.564Z"
   },
   {
    "duration": 130,
    "start_time": "2023-05-04T21:25:17.756Z"
   },
   {
    "duration": 27,
    "start_time": "2023-05-04T21:25:17.888Z"
   },
   {
    "duration": 175,
    "start_time": "2023-05-04T21:25:17.917Z"
   },
   {
    "duration": 87,
    "start_time": "2023-05-04T21:25:18.096Z"
   },
   {
    "duration": 275,
    "start_time": "2023-05-04T21:25:18.186Z"
   },
   {
    "duration": 0,
    "start_time": "2023-05-04T21:25:18.464Z"
   },
   {
    "duration": 149,
    "start_time": "2023-05-04T21:27:11.581Z"
   },
   {
    "duration": 5,
    "start_time": "2023-05-04T21:27:15.635Z"
   },
   {
    "duration": 5,
    "start_time": "2023-05-04T21:35:17.397Z"
   },
   {
    "duration": 75,
    "start_time": "2023-05-04T21:54:33.380Z"
   },
   {
    "duration": 272,
    "start_time": "2023-05-04T21:54:45.211Z"
   },
   {
    "duration": 26,
    "start_time": "2023-05-04T22:18:20.569Z"
   },
   {
    "duration": 89,
    "start_time": "2023-05-04T22:24:06.563Z"
   },
   {
    "duration": 627,
    "start_time": "2023-05-05T05:27:01.439Z"
   },
   {
    "duration": 12,
    "start_time": "2023-05-05T05:27:02.067Z"
   },
   {
    "duration": 50,
    "start_time": "2023-05-05T05:27:02.080Z"
   },
   {
    "duration": 7,
    "start_time": "2023-05-05T05:27:02.133Z"
   },
   {
    "duration": 48,
    "start_time": "2023-05-05T05:27:02.142Z"
   },
   {
    "duration": 14,
    "start_time": "2023-05-05T05:27:02.192Z"
   },
   {
    "duration": 58,
    "start_time": "2023-05-05T05:27:02.208Z"
   },
   {
    "duration": 26,
    "start_time": "2023-05-05T05:27:02.268Z"
   },
   {
    "duration": 37,
    "start_time": "2023-05-05T05:27:02.296Z"
   },
   {
    "duration": 51,
    "start_time": "2023-05-05T05:27:02.336Z"
   },
   {
    "duration": 731,
    "start_time": "2023-05-05T05:27:02.389Z"
   },
   {
    "duration": 29,
    "start_time": "2023-05-05T05:27:03.122Z"
   },
   {
    "duration": 21,
    "start_time": "2023-05-05T05:27:03.153Z"
   },
   {
    "duration": 43,
    "start_time": "2023-05-05T05:27:03.175Z"
   },
   {
    "duration": 844,
    "start_time": "2023-05-05T05:27:03.220Z"
   },
   {
    "duration": 339,
    "start_time": "2023-05-05T05:27:04.065Z"
   },
   {
    "duration": 30062,
    "start_time": "2023-05-05T05:27:04.406Z"
   },
   {
    "duration": 4,
    "start_time": "2023-05-05T05:27:34.470Z"
   },
   {
    "duration": 9,
    "start_time": "2023-05-05T05:27:34.476Z"
   },
   {
    "duration": 16,
    "start_time": "2023-05-05T05:27:34.486Z"
   },
   {
    "duration": 5,
    "start_time": "2023-05-05T05:27:34.503Z"
   },
   {
    "duration": 10,
    "start_time": "2023-05-05T05:27:34.533Z"
   },
   {
    "duration": 289,
    "start_time": "2023-05-05T05:27:34.545Z"
   },
   {
    "duration": 201,
    "start_time": "2023-05-05T05:27:34.836Z"
   },
   {
    "duration": 41,
    "start_time": "2023-05-05T05:27:35.039Z"
   },
   {
    "duration": 27,
    "start_time": "2023-05-05T05:27:35.082Z"
   },
   {
    "duration": 148,
    "start_time": "2023-05-05T05:27:35.134Z"
   },
   {
    "duration": 77,
    "start_time": "2023-05-05T05:27:35.285Z"
   },
   {
    "duration": 253,
    "start_time": "2023-05-05T05:27:35.364Z"
   },
   {
    "duration": 480,
    "start_time": "2023-05-05T07:00:21.488Z"
   },
   {
    "duration": 15,
    "start_time": "2023-05-05T07:00:21.970Z"
   },
   {
    "duration": 59,
    "start_time": "2023-05-05T07:00:21.987Z"
   },
   {
    "duration": 10,
    "start_time": "2023-05-05T07:00:22.049Z"
   },
   {
    "duration": 51,
    "start_time": "2023-05-05T07:00:22.060Z"
   },
   {
    "duration": 35,
    "start_time": "2023-05-05T07:00:22.113Z"
   },
   {
    "duration": 19,
    "start_time": "2023-05-05T07:00:22.151Z"
   },
   {
    "duration": 6,
    "start_time": "2023-05-05T07:00:22.173Z"
   },
   {
    "duration": 24,
    "start_time": "2023-05-05T07:00:22.181Z"
   },
   {
    "duration": 39,
    "start_time": "2023-05-05T07:00:22.209Z"
   },
   {
    "duration": 757,
    "start_time": "2023-05-05T07:00:22.251Z"
   },
   {
    "duration": 40,
    "start_time": "2023-05-05T07:00:23.011Z"
   },
   {
    "duration": 22,
    "start_time": "2023-05-05T07:00:23.053Z"
   },
   {
    "duration": 37,
    "start_time": "2023-05-05T07:00:23.077Z"
   },
   {
    "duration": 654,
    "start_time": "2023-05-05T07:00:23.117Z"
   },
   {
    "duration": 428,
    "start_time": "2023-05-05T07:00:23.773Z"
   },
   {
    "duration": 36724,
    "start_time": "2023-05-05T07:00:24.203Z"
   },
   {
    "duration": 17,
    "start_time": "2023-05-05T07:01:00.929Z"
   },
   {
    "duration": 87,
    "start_time": "2023-05-05T07:01:00.949Z"
   },
   {
    "duration": 54,
    "start_time": "2023-05-05T07:01:01.038Z"
   },
   {
    "duration": 37,
    "start_time": "2023-05-05T07:01:01.094Z"
   },
   {
    "duration": 60,
    "start_time": "2023-05-05T07:01:01.133Z"
   },
   {
    "duration": 145,
    "start_time": "2023-05-05T07:01:01.195Z"
   },
   {
    "duration": 215,
    "start_time": "2023-05-05T07:01:01.342Z"
   },
   {
    "duration": 163,
    "start_time": "2023-05-05T07:01:01.560Z"
   },
   {
    "duration": 34,
    "start_time": "2023-05-05T07:01:01.725Z"
   },
   {
    "duration": 189,
    "start_time": "2023-05-05T07:01:01.761Z"
   },
   {
    "duration": 83,
    "start_time": "2023-05-05T07:01:01.954Z"
   },
   {
    "duration": 301,
    "start_time": "2023-05-05T07:01:02.052Z"
   },
   {
    "duration": 612,
    "start_time": "2023-05-05T09:17:10.988Z"
   },
   {
    "duration": 11,
    "start_time": "2023-05-05T09:17:11.601Z"
   },
   {
    "duration": 35,
    "start_time": "2023-05-05T09:17:11.614Z"
   },
   {
    "duration": 6,
    "start_time": "2023-05-05T09:17:11.651Z"
   },
   {
    "duration": 33,
    "start_time": "2023-05-05T09:17:11.659Z"
   },
   {
    "duration": 11,
    "start_time": "2023-05-05T09:17:11.693Z"
   },
   {
    "duration": 9,
    "start_time": "2023-05-05T09:17:11.706Z"
   },
   {
    "duration": 4,
    "start_time": "2023-05-05T09:17:11.716Z"
   },
   {
    "duration": 29,
    "start_time": "2023-05-05T09:17:11.721Z"
   },
   {
    "duration": 24,
    "start_time": "2023-05-05T09:17:11.753Z"
   },
   {
    "duration": 1124,
    "start_time": "2023-05-05T09:17:11.778Z"
   },
   {
    "duration": 24,
    "start_time": "2023-05-05T09:17:12.903Z"
   },
   {
    "duration": 23,
    "start_time": "2023-05-05T09:17:12.928Z"
   },
   {
    "duration": 14,
    "start_time": "2023-05-05T09:17:12.952Z"
   },
   {
    "duration": 598,
    "start_time": "2023-05-05T09:17:12.968Z"
   },
   {
    "duration": 330,
    "start_time": "2023-05-05T09:17:13.568Z"
   },
   {
    "duration": 47569,
    "start_time": "2023-05-05T09:17:13.900Z"
   },
   {
    "duration": 3,
    "start_time": "2023-05-05T09:18:01.471Z"
   },
   {
    "duration": 17,
    "start_time": "2023-05-05T09:18:01.476Z"
   },
   {
    "duration": 64,
    "start_time": "2023-05-05T09:18:01.495Z"
   },
   {
    "duration": 89,
    "start_time": "2023-05-05T09:18:01.560Z"
   },
   {
    "duration": 20,
    "start_time": "2023-05-05T09:18:01.651Z"
   },
   {
    "duration": 178,
    "start_time": "2023-05-05T09:18:01.673Z"
   },
   {
    "duration": 207,
    "start_time": "2023-05-05T09:18:01.852Z"
   },
   {
    "duration": 101,
    "start_time": "2023-05-05T09:18:02.150Z"
   },
   {
    "duration": 39,
    "start_time": "2023-05-05T09:18:02.253Z"
   },
   {
    "duration": 378,
    "start_time": "2023-05-05T09:18:02.294Z"
   },
   {
    "duration": 175,
    "start_time": "2023-05-05T09:18:02.674Z"
   },
   {
    "duration": 501,
    "start_time": "2023-05-05T09:18:02.851Z"
   },
   {
    "duration": 1030,
    "start_time": "2023-05-05T10:02:24.660Z"
   },
   {
    "duration": 530,
    "start_time": "2023-05-05T10:02:35.317Z"
   },
   {
    "duration": 11,
    "start_time": "2023-05-05T10:02:35.849Z"
   },
   {
    "duration": 34,
    "start_time": "2023-05-05T10:02:35.861Z"
   },
   {
    "duration": 6,
    "start_time": "2023-05-05T10:02:35.896Z"
   },
   {
    "duration": 29,
    "start_time": "2023-05-05T10:02:35.904Z"
   },
   {
    "duration": 10,
    "start_time": "2023-05-05T10:02:35.934Z"
   },
   {
    "duration": 11,
    "start_time": "2023-05-05T10:02:35.945Z"
   },
   {
    "duration": 5,
    "start_time": "2023-05-05T10:02:35.971Z"
   },
   {
    "duration": 4,
    "start_time": "2023-05-05T10:02:35.977Z"
   },
   {
    "duration": 23,
    "start_time": "2023-05-05T10:02:35.982Z"
   },
   {
    "duration": 790,
    "start_time": "2023-05-05T10:02:36.006Z"
   },
   {
    "duration": 21,
    "start_time": "2023-05-05T10:02:36.797Z"
   },
   {
    "duration": 13,
    "start_time": "2023-05-05T10:02:36.820Z"
   },
   {
    "duration": 13,
    "start_time": "2023-05-05T10:02:36.835Z"
   },
   {
    "duration": 723,
    "start_time": "2023-05-05T10:02:36.849Z"
   },
   {
    "duration": 126,
    "start_time": "2023-05-05T10:02:37.573Z"
   },
   {
    "duration": 0,
    "start_time": "2023-05-05T10:02:37.700Z"
   },
   {
    "duration": 0,
    "start_time": "2023-05-05T10:02:37.702Z"
   },
   {
    "duration": 0,
    "start_time": "2023-05-05T10:02:37.703Z"
   },
   {
    "duration": 0,
    "start_time": "2023-05-05T10:02:37.703Z"
   },
   {
    "duration": 0,
    "start_time": "2023-05-05T10:02:37.704Z"
   },
   {
    "duration": 0,
    "start_time": "2023-05-05T10:02:37.705Z"
   },
   {
    "duration": 0,
    "start_time": "2023-05-05T10:02:37.706Z"
   },
   {
    "duration": 0,
    "start_time": "2023-05-05T10:02:37.707Z"
   },
   {
    "duration": 0,
    "start_time": "2023-05-05T10:02:37.708Z"
   },
   {
    "duration": 0,
    "start_time": "2023-05-05T10:02:37.709Z"
   },
   {
    "duration": 0,
    "start_time": "2023-05-05T10:02:37.710Z"
   },
   {
    "duration": 0,
    "start_time": "2023-05-05T10:02:37.711Z"
   },
   {
    "duration": 0,
    "start_time": "2023-05-05T10:02:37.712Z"
   },
   {
    "duration": 276,
    "start_time": "2023-05-05T10:06:14.266Z"
   },
   {
    "duration": 104,
    "start_time": "2023-05-05T10:09:43.335Z"
   },
   {
    "duration": 26226,
    "start_time": "2023-05-05T10:09:57.063Z"
   },
   {
    "duration": 146077,
    "start_time": "2023-05-05T10:10:52.599Z"
   },
   {
    "duration": 13,
    "start_time": "2023-05-05T10:33:22.806Z"
   },
   {
    "duration": 11,
    "start_time": "2023-05-05T10:34:23.530Z"
   },
   {
    "duration": 13,
    "start_time": "2023-05-05T10:34:28.359Z"
   },
   {
    "duration": 94,
    "start_time": "2023-05-05T10:35:33.853Z"
   },
   {
    "duration": 11,
    "start_time": "2023-05-05T10:36:06.589Z"
   },
   {
    "duration": 15,
    "start_time": "2023-05-05T10:38:11.585Z"
   },
   {
    "duration": 13,
    "start_time": "2023-05-05T10:38:52.995Z"
   },
   {
    "duration": 74,
    "start_time": "2023-05-05T10:41:08.125Z"
   },
   {
    "duration": 99,
    "start_time": "2023-05-05T10:41:16.853Z"
   },
   {
    "duration": 86,
    "start_time": "2023-05-05T10:41:55.851Z"
   },
   {
    "duration": 155,
    "start_time": "2023-05-05T10:42:13.062Z"
   },
   {
    "duration": 65,
    "start_time": "2023-05-05T10:42:57.781Z"
   },
   {
    "duration": 82,
    "start_time": "2023-05-05T10:43:28.210Z"
   },
   {
    "duration": 98,
    "start_time": "2023-05-05T10:44:02.782Z"
   },
   {
    "duration": 124,
    "start_time": "2023-05-05T10:44:21.934Z"
   },
   {
    "duration": 445,
    "start_time": "2023-05-05T10:46:15.764Z"
   },
   {
    "duration": 10,
    "start_time": "2023-05-05T10:46:16.211Z"
   },
   {
    "duration": 56,
    "start_time": "2023-05-05T10:46:16.222Z"
   },
   {
    "duration": 10,
    "start_time": "2023-05-05T10:46:16.280Z"
   },
   {
    "duration": 51,
    "start_time": "2023-05-05T10:46:16.292Z"
   },
   {
    "duration": 27,
    "start_time": "2023-05-05T10:46:16.346Z"
   },
   {
    "duration": 16,
    "start_time": "2023-05-05T10:46:16.375Z"
   },
   {
    "duration": 8,
    "start_time": "2023-05-05T10:46:16.393Z"
   },
   {
    "duration": 10,
    "start_time": "2023-05-05T10:46:16.402Z"
   },
   {
    "duration": 30,
    "start_time": "2023-05-05T10:46:16.414Z"
   },
   {
    "duration": 685,
    "start_time": "2023-05-05T10:46:16.447Z"
   },
   {
    "duration": 22,
    "start_time": "2023-05-05T10:46:17.133Z"
   },
   {
    "duration": 20,
    "start_time": "2023-05-05T10:46:17.157Z"
   },
   {
    "duration": 14,
    "start_time": "2023-05-05T10:46:17.179Z"
   },
   {
    "duration": 562,
    "start_time": "2023-05-05T10:46:17.195Z"
   },
   {
    "duration": 293,
    "start_time": "2023-05-05T10:46:17.758Z"
   },
   {
    "duration": 137371,
    "start_time": "2023-05-05T10:46:18.052Z"
   },
   {
    "duration": 5,
    "start_time": "2023-05-05T10:48:35.424Z"
   },
   {
    "duration": 19,
    "start_time": "2023-05-05T10:48:35.430Z"
   },
   {
    "duration": 25,
    "start_time": "2023-05-05T10:48:35.450Z"
   },
   {
    "duration": 7,
    "start_time": "2023-05-05T10:48:35.477Z"
   },
   {
    "duration": 27,
    "start_time": "2023-05-05T10:48:35.486Z"
   },
   {
    "duration": 68,
    "start_time": "2023-05-05T10:48:35.515Z"
   },
   {
    "duration": 110,
    "start_time": "2023-05-05T10:48:35.671Z"
   },
   {
    "duration": 131,
    "start_time": "2023-05-05T10:48:35.782Z"
   },
   {
    "duration": 23,
    "start_time": "2023-05-05T10:48:35.914Z"
   },
   {
    "duration": 155,
    "start_time": "2023-05-05T10:48:35.939Z"
   },
   {
    "duration": 86,
    "start_time": "2023-05-05T10:48:36.096Z"
   },
   {
    "duration": 231,
    "start_time": "2023-05-05T10:48:36.184Z"
   },
   {
    "duration": 1518,
    "start_time": "2023-05-05T11:06:29.692Z"
   },
   {
    "duration": 10,
    "start_time": "2023-05-05T11:06:31.212Z"
   },
   {
    "duration": 81,
    "start_time": "2023-05-05T11:06:31.223Z"
   },
   {
    "duration": 7,
    "start_time": "2023-05-05T11:06:31.306Z"
   },
   {
    "duration": 68,
    "start_time": "2023-05-05T11:06:31.315Z"
   },
   {
    "duration": 27,
    "start_time": "2023-05-05T11:06:31.385Z"
   },
   {
    "duration": 30,
    "start_time": "2023-05-05T11:06:31.413Z"
   },
   {
    "duration": 31,
    "start_time": "2023-05-05T11:06:31.444Z"
   },
   {
    "duration": 42,
    "start_time": "2023-05-05T11:06:31.476Z"
   },
   {
    "duration": 60,
    "start_time": "2023-05-05T11:06:31.520Z"
   },
   {
    "duration": 26,
    "start_time": "2023-05-05T11:06:31.581Z"
   },
   {
    "duration": 41,
    "start_time": "2023-05-05T11:06:31.608Z"
   },
   {
    "duration": 41,
    "start_time": "2023-05-05T11:06:31.650Z"
   },
   {
    "duration": 32,
    "start_time": "2023-05-05T11:06:31.692Z"
   },
   {
    "duration": 290,
    "start_time": "2023-05-05T11:06:31.726Z"
   },
   {
    "duration": 265,
    "start_time": "2023-05-05T11:06:32.018Z"
   },
   {
    "duration": 131988,
    "start_time": "2023-05-05T11:06:32.285Z"
   },
   {
    "duration": 3,
    "start_time": "2023-05-05T11:08:44.275Z"
   },
   {
    "duration": 7,
    "start_time": "2023-05-05T11:08:44.280Z"
   },
   {
    "duration": 21,
    "start_time": "2023-05-05T11:08:44.289Z"
   },
   {
    "duration": 9,
    "start_time": "2023-05-05T11:08:44.311Z"
   },
   {
    "duration": 14,
    "start_time": "2023-05-05T11:08:44.321Z"
   },
   {
    "duration": 46,
    "start_time": "2023-05-05T11:08:44.336Z"
   },
   {
    "duration": 287,
    "start_time": "2023-05-05T11:08:44.384Z"
   },
   {
    "duration": 126,
    "start_time": "2023-05-05T11:08:44.673Z"
   },
   {
    "duration": 20,
    "start_time": "2023-05-05T11:08:44.800Z"
   },
   {
    "duration": 132,
    "start_time": "2023-05-05T11:08:44.821Z"
   },
   {
    "duration": 64,
    "start_time": "2023-05-05T11:08:44.955Z"
   },
   {
    "duration": 213,
    "start_time": "2023-05-05T11:08:45.020Z"
   },
   {
    "duration": 79,
    "start_time": "2023-05-05T11:15:09.524Z"
   },
   {
    "duration": 11,
    "start_time": "2023-05-05T11:16:08.798Z"
   },
   {
    "duration": 1270,
    "start_time": "2023-05-05T11:17:12.580Z"
   },
   {
    "duration": 9,
    "start_time": "2023-05-05T11:17:13.852Z"
   },
   {
    "duration": 39,
    "start_time": "2023-05-05T11:17:13.863Z"
   },
   {
    "duration": 5,
    "start_time": "2023-05-05T11:17:13.903Z"
   },
   {
    "duration": 42,
    "start_time": "2023-05-05T11:17:13.910Z"
   },
   {
    "duration": 18,
    "start_time": "2023-05-05T11:17:13.954Z"
   },
   {
    "duration": 10,
    "start_time": "2023-05-05T11:17:13.974Z"
   },
   {
    "duration": 5,
    "start_time": "2023-05-05T11:17:13.985Z"
   },
   {
    "duration": 5,
    "start_time": "2023-05-05T11:17:13.991Z"
   },
   {
    "duration": 16,
    "start_time": "2023-05-05T11:17:13.999Z"
   },
   {
    "duration": 16,
    "start_time": "2023-05-05T11:17:14.017Z"
   },
   {
    "duration": 49,
    "start_time": "2023-05-05T11:17:14.034Z"
   },
   {
    "duration": 14,
    "start_time": "2023-05-05T11:17:14.085Z"
   },
   {
    "duration": 23,
    "start_time": "2023-05-05T11:17:14.101Z"
   },
   {
    "duration": 337,
    "start_time": "2023-05-05T11:17:14.125Z"
   },
   {
    "duration": 280,
    "start_time": "2023-05-05T11:17:14.463Z"
   },
   {
    "duration": 145440,
    "start_time": "2023-05-05T11:17:14.745Z"
   },
   {
    "duration": 3,
    "start_time": "2023-05-05T11:19:40.186Z"
   },
   {
    "duration": 9,
    "start_time": "2023-05-05T11:19:40.190Z"
   },
   {
    "duration": 24,
    "start_time": "2023-05-05T11:19:40.200Z"
   },
   {
    "duration": 8,
    "start_time": "2023-05-05T11:19:40.226Z"
   },
   {
    "duration": 10,
    "start_time": "2023-05-05T11:19:40.235Z"
   },
   {
    "duration": 38,
    "start_time": "2023-05-05T11:19:40.247Z"
   },
   {
    "duration": 200,
    "start_time": "2023-05-05T11:19:40.372Z"
   },
   {
    "duration": 138,
    "start_time": "2023-05-05T11:19:40.574Z"
   },
   {
    "duration": 22,
    "start_time": "2023-05-05T11:19:40.714Z"
   },
   {
    "duration": 140,
    "start_time": "2023-05-05T11:19:40.737Z"
   },
   {
    "duration": 58,
    "start_time": "2023-05-05T11:19:40.879Z"
   },
   {
    "duration": 235,
    "start_time": "2023-05-05T11:19:40.938Z"
   },
   {
    "duration": 1228,
    "start_time": "2023-05-05T11:35:49.484Z"
   },
   {
    "duration": 10,
    "start_time": "2023-05-05T11:35:50.713Z"
   },
   {
    "duration": 40,
    "start_time": "2023-05-05T11:35:50.724Z"
   },
   {
    "duration": 5,
    "start_time": "2023-05-05T11:35:50.766Z"
   },
   {
    "duration": 36,
    "start_time": "2023-05-05T11:35:50.773Z"
   },
   {
    "duration": 11,
    "start_time": "2023-05-05T11:35:50.811Z"
   },
   {
    "duration": 8,
    "start_time": "2023-05-05T11:35:50.824Z"
   },
   {
    "duration": 7,
    "start_time": "2023-05-05T11:35:50.834Z"
   },
   {
    "duration": 8,
    "start_time": "2023-05-05T11:35:50.842Z"
   },
   {
    "duration": 30,
    "start_time": "2023-05-05T11:35:50.852Z"
   },
   {
    "duration": 11,
    "start_time": "2023-05-05T11:35:50.884Z"
   },
   {
    "duration": 21,
    "start_time": "2023-05-05T11:35:50.897Z"
   },
   {
    "duration": 18,
    "start_time": "2023-05-05T11:35:50.919Z"
   },
   {
    "duration": 37,
    "start_time": "2023-05-05T11:35:50.938Z"
   },
   {
    "duration": 295,
    "start_time": "2023-05-05T11:35:50.977Z"
   },
   {
    "duration": 273,
    "start_time": "2023-05-05T11:35:51.273Z"
   },
   {
    "duration": 146778,
    "start_time": "2023-05-05T11:35:51.548Z"
   },
   {
    "duration": 3,
    "start_time": "2023-05-05T11:38:18.328Z"
   },
   {
    "duration": 5,
    "start_time": "2023-05-05T11:38:18.332Z"
   },
   {
    "duration": 15,
    "start_time": "2023-05-05T11:38:18.338Z"
   },
   {
    "duration": 3,
    "start_time": "2023-05-05T11:38:18.354Z"
   },
   {
    "duration": 8,
    "start_time": "2023-05-05T11:38:18.371Z"
   },
   {
    "duration": 94,
    "start_time": "2023-05-05T11:38:18.380Z"
   },
   {
    "duration": 197,
    "start_time": "2023-05-05T11:38:18.476Z"
   },
   {
    "duration": 141,
    "start_time": "2023-05-05T11:38:18.674Z"
   },
   {
    "duration": 23,
    "start_time": "2023-05-05T11:38:18.817Z"
   },
   {
    "duration": 139,
    "start_time": "2023-05-05T11:38:18.841Z"
   },
   {
    "duration": 69,
    "start_time": "2023-05-05T11:38:18.983Z"
   },
   {
    "duration": 251,
    "start_time": "2023-05-05T11:38:19.053Z"
   },
   {
    "duration": 1290,
    "start_time": "2023-05-05T11:46:10.950Z"
   },
   {
    "duration": 11,
    "start_time": "2023-05-05T11:46:12.242Z"
   },
   {
    "duration": 33,
    "start_time": "2023-05-05T11:46:12.254Z"
   },
   {
    "duration": 8,
    "start_time": "2023-05-05T11:46:12.289Z"
   },
   {
    "duration": 47,
    "start_time": "2023-05-05T11:46:12.298Z"
   },
   {
    "duration": 11,
    "start_time": "2023-05-05T11:46:12.347Z"
   },
   {
    "duration": 9,
    "start_time": "2023-05-05T11:46:12.359Z"
   },
   {
    "duration": 5,
    "start_time": "2023-05-05T11:46:12.369Z"
   },
   {
    "duration": 6,
    "start_time": "2023-05-05T11:46:12.376Z"
   },
   {
    "duration": 15,
    "start_time": "2023-05-05T11:46:12.384Z"
   },
   {
    "duration": 11,
    "start_time": "2023-05-05T11:46:12.400Z"
   },
   {
    "duration": 20,
    "start_time": "2023-05-05T11:46:12.412Z"
   },
   {
    "duration": 14,
    "start_time": "2023-05-05T11:46:12.433Z"
   },
   {
    "duration": 14,
    "start_time": "2023-05-05T11:46:12.471Z"
   },
   {
    "duration": 292,
    "start_time": "2023-05-05T11:46:12.486Z"
   },
   {
    "duration": 284,
    "start_time": "2023-05-05T11:46:12.779Z"
   },
   {
    "duration": 147798,
    "start_time": "2023-05-05T11:46:13.065Z"
   },
   {
    "duration": 8,
    "start_time": "2023-05-05T11:48:40.865Z"
   },
   {
    "duration": 14,
    "start_time": "2023-05-05T11:48:40.875Z"
   },
   {
    "duration": 30,
    "start_time": "2023-05-05T11:48:40.891Z"
   },
   {
    "duration": 5,
    "start_time": "2023-05-05T11:48:40.922Z"
   },
   {
    "duration": 24,
    "start_time": "2023-05-05T11:48:40.928Z"
   },
   {
    "duration": 47,
    "start_time": "2023-05-05T11:48:40.953Z"
   },
   {
    "duration": 111,
    "start_time": "2023-05-05T11:48:41.072Z"
   },
   {
    "duration": 196,
    "start_time": "2023-05-05T11:48:41.187Z"
   },
   {
    "duration": 24,
    "start_time": "2023-05-05T11:48:41.384Z"
   },
   {
    "duration": 148,
    "start_time": "2023-05-05T11:48:41.410Z"
   },
   {
    "duration": 69,
    "start_time": "2023-05-05T11:48:41.562Z"
   },
   {
    "duration": 231,
    "start_time": "2023-05-05T11:48:41.632Z"
   },
   {
    "duration": 118,
    "start_time": "2023-05-05T12:03:30.554Z"
   },
   {
    "duration": 107,
    "start_time": "2023-05-05T12:04:54.467Z"
   },
   {
    "duration": 249,
    "start_time": "2023-05-05T12:05:28.315Z"
   },
   {
    "duration": 208840,
    "start_time": "2023-05-05T12:08:39.488Z"
   },
   {
    "duration": 89331,
    "start_time": "2023-05-05T12:14:03.910Z"
   },
   {
    "duration": 293,
    "start_time": "2023-05-05T12:19:49.632Z"
   },
   {
    "duration": 1634,
    "start_time": "2023-05-05T12:20:45.469Z"
   },
   {
    "duration": 13,
    "start_time": "2023-05-05T12:20:47.106Z"
   },
   {
    "duration": 59,
    "start_time": "2023-05-05T12:20:47.121Z"
   },
   {
    "duration": 6,
    "start_time": "2023-05-05T12:20:47.182Z"
   },
   {
    "duration": 34,
    "start_time": "2023-05-05T12:20:47.190Z"
   },
   {
    "duration": 13,
    "start_time": "2023-05-05T12:20:47.225Z"
   },
   {
    "duration": 34,
    "start_time": "2023-05-05T12:20:47.239Z"
   },
   {
    "duration": 8,
    "start_time": "2023-05-05T12:20:47.275Z"
   },
   {
    "duration": 13,
    "start_time": "2023-05-05T12:20:47.284Z"
   },
   {
    "duration": 51,
    "start_time": "2023-05-05T12:20:47.299Z"
   },
   {
    "duration": 15,
    "start_time": "2023-05-05T12:20:47.351Z"
   },
   {
    "duration": 40,
    "start_time": "2023-05-05T12:20:47.368Z"
   },
   {
    "duration": 21,
    "start_time": "2023-05-05T12:20:47.409Z"
   },
   {
    "duration": 39,
    "start_time": "2023-05-05T12:20:47.432Z"
   },
   {
    "duration": 315,
    "start_time": "2023-05-05T12:20:47.473Z"
   },
   {
    "duration": 285,
    "start_time": "2023-05-05T12:20:47.790Z"
   },
   {
    "duration": 135261,
    "start_time": "2023-05-05T12:20:48.076Z"
   },
   {
    "duration": 4,
    "start_time": "2023-05-05T12:23:03.339Z"
   },
   {
    "duration": 10,
    "start_time": "2023-05-05T12:23:03.344Z"
   },
   {
    "duration": 32,
    "start_time": "2023-05-05T12:23:03.355Z"
   },
   {
    "duration": 3,
    "start_time": "2023-05-05T12:23:03.389Z"
   },
   {
    "duration": 30,
    "start_time": "2023-05-05T12:23:03.393Z"
   },
   {
    "duration": 50,
    "start_time": "2023-05-05T12:23:03.424Z"
   },
   {
    "duration": 197,
    "start_time": "2023-05-05T12:23:03.476Z"
   },
   {
    "duration": 309,
    "start_time": "2023-05-05T12:23:03.675Z"
   },
   {
    "duration": 103,
    "start_time": "2023-05-05T12:23:03.986Z"
   },
   {
    "duration": 174601,
    "start_time": "2023-05-05T12:23:04.090Z"
   },
   {
    "duration": 78467,
    "start_time": "2023-05-05T12:25:58.692Z"
   },
   {
    "duration": 376,
    "start_time": "2023-05-05T12:27:17.160Z"
   },
   {
    "duration": 168,
    "start_time": "2023-05-05T12:28:36.512Z"
   },
   {
    "duration": 171,
    "start_time": "2023-05-05T12:29:48.081Z"
   },
   {
    "duration": 318,
    "start_time": "2023-05-05T12:33:31.165Z"
   },
   {
    "duration": 282,
    "start_time": "2023-05-05T12:37:41.476Z"
   },
   {
    "duration": 8,
    "start_time": "2023-05-05T12:46:09.354Z"
   },
   {
    "duration": 1371,
    "start_time": "2023-05-05T12:46:29.898Z"
   },
   {
    "duration": 14,
    "start_time": "2023-05-05T12:46:31.271Z"
   },
   {
    "duration": 81,
    "start_time": "2023-05-05T12:46:31.287Z"
   },
   {
    "duration": 7,
    "start_time": "2023-05-05T12:46:31.370Z"
   },
   {
    "duration": 50,
    "start_time": "2023-05-05T12:46:31.378Z"
   },
   {
    "duration": 14,
    "start_time": "2023-05-05T12:46:31.429Z"
   },
   {
    "duration": 28,
    "start_time": "2023-05-05T12:46:31.444Z"
   },
   {
    "duration": 10,
    "start_time": "2023-05-05T12:46:31.474Z"
   },
   {
    "duration": 26,
    "start_time": "2023-05-05T12:46:31.485Z"
   },
   {
    "duration": 52,
    "start_time": "2023-05-05T12:46:31.513Z"
   },
   {
    "duration": 29,
    "start_time": "2023-05-05T12:46:31.567Z"
   },
   {
    "duration": 43,
    "start_time": "2023-05-05T12:46:31.598Z"
   },
   {
    "duration": 17,
    "start_time": "2023-05-05T12:46:31.643Z"
   },
   {
    "duration": 24,
    "start_time": "2023-05-05T12:46:31.661Z"
   },
   {
    "duration": 287,
    "start_time": "2023-05-05T12:46:31.687Z"
   },
   {
    "duration": 275,
    "start_time": "2023-05-05T12:46:31.976Z"
   },
   {
    "duration": 136414,
    "start_time": "2023-05-05T12:46:32.253Z"
   },
   {
    "duration": 3,
    "start_time": "2023-05-05T12:48:48.672Z"
   },
   {
    "duration": 4,
    "start_time": "2023-05-05T12:48:48.677Z"
   },
   {
    "duration": 18,
    "start_time": "2023-05-05T12:48:48.683Z"
   },
   {
    "duration": 4,
    "start_time": "2023-05-05T12:48:48.703Z"
   },
   {
    "duration": 11,
    "start_time": "2023-05-05T12:48:48.708Z"
   },
   {
    "duration": 62,
    "start_time": "2023-05-05T12:48:48.720Z"
   },
   {
    "duration": 109,
    "start_time": "2023-05-05T12:48:48.872Z"
   },
   {
    "duration": 220,
    "start_time": "2023-05-05T12:48:49.071Z"
   },
   {
    "duration": 107,
    "start_time": "2023-05-05T12:48:49.292Z"
   },
   {
    "duration": 176239,
    "start_time": "2023-05-05T12:48:49.400Z"
   },
   {
    "duration": 79796,
    "start_time": "2023-05-05T12:51:45.641Z"
   },
   {
    "duration": 299,
    "start_time": "2023-05-05T12:53:05.438Z"
   },
   {
    "duration": 7,
    "start_time": "2023-05-05T12:53:05.739Z"
   },
   {
    "duration": 6,
    "start_time": "2023-05-05T12:58:18.760Z"
   },
   {
    "duration": 139,
    "start_time": "2023-05-05T13:02:05.543Z"
   }
  ],
  "kernelspec": {
   "display_name": "Python 3 (ipykernel)",
   "language": "python",
   "name": "python3"
  },
  "language_info": {
   "codemirror_mode": {
    "name": "ipython",
    "version": 3
   },
   "file_extension": ".py",
   "mimetype": "text/x-python",
   "name": "python",
   "nbconvert_exporter": "python",
   "pygments_lexer": "ipython3",
   "version": "3.9.5"
  },
  "toc": {
   "base_numbering": 1,
   "nav_menu": {},
   "number_sections": true,
   "sideBar": true,
   "skip_h1_title": true,
   "title_cell": "Содержание",
   "title_sidebar": "Contents",
   "toc_cell": true,
   "toc_position": {},
   "toc_section_display": true,
   "toc_window_display": false
  }
 },
 "nbformat": 4,
 "nbformat_minor": 2
}
